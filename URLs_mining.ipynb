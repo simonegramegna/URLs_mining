{
 "cells": [
  {
   "cell_type": "code",
   "execution_count": 1,
   "id": "ac41252f",
   "metadata": {},
   "outputs": [],
   "source": [
    "from pyspark.sql import SparkSession\n",
    "from pyspark.sql.functions import count, when, col"
   ]
  },
  {
   "cell_type": "code",
   "execution_count": 2,
   "id": "be8af0d5",
   "metadata": {},
   "outputs": [],
   "source": [
    "from urllib.parse import urlparse, urlsplit\n",
    "import tldextract\n",
    "import re\n",
    "import pandas as pd\n",
    "import matplotlib.pyplot as plt"
   ]
  },
  {
   "cell_type": "code",
   "execution_count": 3,
   "id": "2ab97899",
   "metadata": {},
   "outputs": [
    {
     "data": {
      "text/html": [
       "\n",
       "            <div>\n",
       "                <p><b>SparkSession - in-memory</b></p>\n",
       "                \n",
       "        <div>\n",
       "            <p><b>SparkContext</b></p>\n",
       "\n",
       "            <p><a href=\"http://DESKTOP-B4I5JT1:4040\">Spark UI</a></p>\n",
       "\n",
       "            <dl>\n",
       "              <dt>Version</dt>\n",
       "                <dd><code>v3.5.0</code></dd>\n",
       "              <dt>Master</dt>\n",
       "                <dd><code>local[*]</code></dd>\n",
       "              <dt>AppName</dt>\n",
       "                <dd><code>URLs_mining</code></dd>\n",
       "            </dl>\n",
       "        </div>\n",
       "        \n",
       "            </div>\n",
       "        "
      ],
      "text/plain": [
       "<pyspark.sql.session.SparkSession at 0x2e07fd21300>"
      ]
     },
     "execution_count": 3,
     "metadata": {},
     "output_type": "execute_result"
    }
   ],
   "source": [
    "spark = SparkSession.builder.appName('URLs_mining').getOrCreate()\n",
    "spark"
   ]
  },
  {
   "cell_type": "code",
   "execution_count": 4,
   "id": "8b3e2a52",
   "metadata": {},
   "outputs": [
    {
     "name": "stdout",
     "output_type": "stream",
     "text": [
      "+--------------------+----------+\n",
      "|                 url|      type|\n",
      "+--------------------+----------+\n",
      "|    br-icloud.com.br|  phishing|\n",
      "|mp3raid.com/music...|    benign|\n",
      "|bopsecrets.org/re...|    benign|\n",
      "|http://www.garage...|defacement|\n",
      "|http://adventure-...|defacement|\n",
      "|http://buzzfil.ne...|    benign|\n",
      "|espn.go.com/nba/p...|    benign|\n",
      "|yourbittorrent.co...|    benign|\n",
      "|http://www.pashmi...|defacement|\n",
      "|allmusic.com/albu...|    benign|\n",
      "|corporationwiki.c...|    benign|\n",
      "|http://www.ikenmi...|defacement|\n",
      "|myspace.com/video...|    benign|\n",
      "|http://www.lebens...|defacement|\n",
      "|http://www.szabad...|defacement|\n",
      "|http://larcadelca...|defacement|\n",
      "|quickfacts.census...|    benign|\n",
      "|nugget.ca/Article...|    benign|\n",
      "|uk.linkedin.com/p...|    benign|\n",
      "|http://www.vnic.c...|defacement|\n",
      "+--------------------+----------+\n",
      "only showing top 20 rows\n",
      "\n"
     ]
    }
   ],
   "source": [
    "# Read the CSV file into a DataFrame\n",
    "data = spark.read.csv(\"malicious_urls.csv\", header=True, inferSchema=True)\n",
    "\n",
    "# Show the first few rows of the DataFrame\n",
    "data.show()"
   ]
  },
  {
   "cell_type": "code",
   "execution_count": 5,
   "id": "cb61133b",
   "metadata": {},
   "outputs": [
    {
     "name": "stdout",
     "output_type": "stream",
     "text": [
      "+--------------------+------+\n",
      "|                type| count|\n",
      "+--------------------+------+\n",
      "|              benign|428103|\n",
      "|          defacement| 96457|\n",
      "|            phishing| 94108|\n",
      "|             malware| 32520|\n",
      "|                NULL|    15|\n",
      "|                \u0015Ð\u001a\u001f|     1|\n",
      "|\u0010\u0011PhµW\u0011\\v;XyOy...|     1|\n",
      "|cÔ",
      "¡æ>1\\bHÇÕ\u001bd...|     1|\n",
      "|                spam| 12000|\n",
      "+--------------------+------+\n",
      "\n"
     ]
    }
   ],
   "source": [
    "data.groupBy(\"type\").count().show()"
   ]
  },
  {
   "cell_type": "markdown",
   "id": "8752caab",
   "metadata": {},
   "source": [
    "## Data pre-processing"
   ]
  },
  {
   "cell_type": "code",
   "execution_count": 6,
   "id": "72d65a72",
   "metadata": {},
   "outputs": [
    {
     "name": "stdout",
     "output_type": "stream",
     "text": [
      "+--------------------+------+\n",
      "|                type| count|\n",
      "+--------------------+------+\n",
      "|                spam| 11921|\n",
      "|              benign|428080|\n",
      "|          defacement| 95308|\n",
      "|            phishing| 94083|\n",
      "|             malware| 23645|\n",
      "|                \u0015Ð\u001a\u001f|     1|\n",
      "|\u0010\u0011PhµW\u0011\\v;XyOy...|     1|\n",
      "|cÔ",
      "¡æ>1\\bHÇÕ\u001bd...|     1|\n",
      "+--------------------+------+\n",
      "\n"
     ]
    }
   ],
   "source": [
    "data = data.dropDuplicates([\"url\"])\n",
    "data = data.na.drop()\n",
    "\n",
    "data.groupBy(\"type\").count().show()"
   ]
  },
  {
   "cell_type": "code",
   "execution_count": 7,
   "id": "b8abcc25",
   "metadata": {},
   "outputs": [
    {
     "name": "stdout",
     "output_type": "stream",
     "text": [
      "+----------+------+\n",
      "|      type| count|\n",
      "+----------+------+\n",
      "|      spam| 11921|\n",
      "|    benign|428080|\n",
      "|defacement| 95308|\n",
      "|  phishing| 94083|\n",
      "|   malware| 23645|\n",
      "+----------+------+\n",
      "\n"
     ]
    }
   ],
   "source": [
    "data = data.filter(col(\"type\").rlike(r'^[ -~]+$'))\n",
    "data.groupBy(\"type\").count().show()"
   ]
  },
  {
   "cell_type": "code",
   "execution_count": 8,
   "id": "b4840e8f",
   "metadata": {},
   "outputs": [
    {
     "name": "stdout",
     "output_type": "stream",
     "text": [
      "+--------------------+--------+--------+\n",
      "|                 url|    type|url_type|\n",
      "+--------------------+--------+--------+\n",
      "|   \u0010H\\vÖË\u001c",
      "]\u001ft¹[ÈöýE|phishing|       1|\n",
      "|\u0013^o\u0014ð]Â|¬|hõElò...|phishing|       1|\n",
      "|\"½\u0013<+U\u001f\u0012½¹1\\f[...|phishing|       1|\n",
      "|\"äÕ3ñºT-\\f\u0011TÖGÑîÊ...|phishing|       1|\n",
      "|\"ë\u0003Ël×uÏB'JI¨GÙn\"...|phishing|       1|\n",
      "|'118bm.com/images...|  benign|       0|\n",
      "|'1pcables-inox.co...|  benign|       0|\n",
      "|'9d345009-a-62cb3...|  benign|       0|\n",
      "|'9d345009-a-62cb3...|  benign|       0|\n",
      "|'9d345009-a-62cb3...|  benign|       0|\n",
      "|'9d345009-a-62cb3...|  benign|       0|\n",
      "|'9d345009-a-62cb3...|  benign|       0|\n",
      "|'9d345009-a-62cb3...|  benign|       0|\n",
      "|'9d345009-a-62cb3...|  benign|       0|\n",
      "|'9d345009-a-62cb3...|  benign|       0|\n",
      "|'9d345009-a-62cb3...|  benign|       0|\n",
      "|'9d345009-a-62cb3...|  benign|       0|\n",
      "|'9d345009-a-62cb3...|  benign|       0|\n",
      "|'9d345009-a-62cb3...|  benign|       0|\n",
      "|'9d345009-a-62cb3...|  benign|       0|\n",
      "+--------------------+--------+--------+\n",
      "only showing top 20 rows\n",
      "\n"
     ]
    }
   ],
   "source": [
    "data = data.withColumn(\"url_type\", when(data[\"type\"].contains(\"benign\"), 0).otherwise(1))\n",
    "#data = data.drop(\"type\")\n",
    "data.show()"
   ]
  },
  {
   "cell_type": "code",
   "execution_count": 9,
   "id": "6631acee",
   "metadata": {},
   "outputs": [
    {
     "name": "stdout",
     "output_type": "stream",
     "text": [
      "+--------------------+------+--------+\n",
      "|                 url|  type|url_type|\n",
      "+--------------------+------+--------+\n",
      "|'118bm.com/images...|benign|       0|\n",
      "|'1pcables-inox.co...|benign|       0|\n",
      "|'9d345009-a-62cb3...|benign|       0|\n",
      "|'9d345009-a-62cb3...|benign|       0|\n",
      "|'9d345009-a-62cb3...|benign|       0|\n",
      "|'9d345009-a-62cb3...|benign|       0|\n",
      "|'9d345009-a-62cb3...|benign|       0|\n",
      "|'9d345009-a-62cb3...|benign|       0|\n",
      "|'9d345009-a-62cb3...|benign|       0|\n",
      "|'9d345009-a-62cb3...|benign|       0|\n",
      "|'9d345009-a-62cb3...|benign|       0|\n",
      "|'9d345009-a-62cb3...|benign|       0|\n",
      "|'9d345009-a-62cb3...|benign|       0|\n",
      "|'9d345009-a-62cb3...|benign|       0|\n",
      "|'9d345009-a-62cb3...|benign|       0|\n",
      "|'9d345009-a-62cb3...|benign|       0|\n",
      "|'9d345009-a-62cb3...|benign|       0|\n",
      "|'9d345009-a-62cb3...|benign|       0|\n",
      "|'9d345009-a-62cb3...|benign|       0|\n",
      "|'9d345009-a-62cb3...|benign|       0|\n",
      "+--------------------+------+--------+\n",
      "only showing top 20 rows\n",
      "\n"
     ]
    }
   ],
   "source": [
    "data = data.filter(col(\"url\").rlike(r'^[ -~]+$'))\n",
    "data.show()"
   ]
  },
  {
   "cell_type": "code",
   "execution_count": 10,
   "id": "89ccec7e",
   "metadata": {},
   "outputs": [
    {
     "name": "stdout",
     "output_type": "stream",
     "text": [
      "+--------+------+\n",
      "|url_type| count|\n",
      "+--------+------+\n",
      "|       1|224323|\n",
      "|       0|427801|\n",
      "+--------+------+\n",
      "\n"
     ]
    }
   ],
   "source": [
    "data.groupBy(\"url_type\").count().show()"
   ]
  },
  {
   "cell_type": "code",
   "execution_count": 11,
   "id": "d5f838e4",
   "metadata": {},
   "outputs": [
    {
     "name": "stdout",
     "output_type": "stream",
     "text": [
      "+--------+------+\n",
      "|url_type| count|\n",
      "+--------+------+\n",
      "|       1|199884|\n",
      "|       0|200640|\n",
      "+--------+------+\n",
      "\n"
     ]
    }
   ],
   "source": [
    "sample_size = 200000\n",
    "\n",
    "data = data.sampleBy(\"url_type\", fractions={0 : sample_size/data.filter(col(\"url_type\") == 0).count(),\n",
    "                                               1 : sample_size/data.filter(col(\"url_type\") == 1).count()}, seed=42)\n",
    "data.groupBy(\"url_type\").count().show()"
   ]
  },
  {
   "cell_type": "markdown",
   "id": "a4d99970",
   "metadata": {},
   "source": [
    "## Features engineering"
   ]
  },
  {
   "cell_type": "code",
   "execution_count": 12,
   "id": "d5718788",
   "metadata": {},
   "outputs": [],
   "source": [
    "def count_dots(url: str):\n",
    "    return url.count('.')\n",
    "\n",
    "\n",
    "\"\"\"\n",
    "Number of subdomain levels\n",
    "Return: numeric\n",
    "\"\"\"\n",
    "\n",
    "\n",
    "def count_subdomains(url: str):\n",
    "    subdomain = tldextract.extract(url).subdomain\n",
    "    return len(subdomain.split('.')) if len(subdomain) != 0 else 0\n",
    "\n",
    "\n",
    "\"\"\"\n",
    "    The depth of URL\n",
    "    Return: numeric\n",
    "\"\"\"\n",
    "\n",
    "\n",
    "def get_path_level(url: str):\n",
    "    path = urlsplit(url).path\n",
    "    path = path[1:] if len(path) > 0 and path[0] == '/' else path\n",
    "    path = path[:-1] if len(path) > 0 and path[-1] == '/' else path\n",
    "    return len(path.split('/')) if len(path) > 0 else 0\n",
    "\n",
    "\n",
    "\"\"\"\n",
    "    The length of URL\n",
    "    Return: numeric\n",
    "\"\"\"\n",
    "\n",
    "\n",
    "def get_len(url: str):\n",
    "    return len(url)\n",
    "\n",
    "\n",
    "\"\"\"\n",
    "    Number of the dash character '-' in URL\n",
    "    Return: numeric\n",
    "\"\"\"\n",
    "\n",
    "\n",
    "def count_dash(url: str):\n",
    "    return url.count('-')\n",
    "\n",
    "\n",
    "\"\"\"\n",
    "    Number of the underscore character '_' in URL\n",
    "    Return: numeric\n",
    "\"\"\"\n",
    "\n",
    "\n",
    "def count_underscore(url: str):\n",
    "    return url.count('_')\n",
    "\n",
    "\n",
    "\"\"\"\n",
    "    Number of the percent character '%' in URL\n",
    "    Return: numeric\n",
    "\"\"\"\n",
    "\n",
    "\n",
    "def count_percent(url: str):\n",
    "    return url.count('%')\n",
    "\n",
    "\n",
    "\"\"\"\n",
    "    Number of the query components\n",
    "    Return: numeric\n",
    "\"\"\"\n",
    "\n",
    "\n",
    "def count_query_components(url: str):\n",
    "    query_components = urlparse(url).query.split(\n",
    "        \"&\") if len(urlparse(url).query) > 0 else ''\n",
    "    return len(query_components)\n",
    "\n",
    "\n",
    "\"\"\"\n",
    "    Number of the ampersand character '&' in URL\n",
    "    Return: numeric\n",
    "\"\"\"\n",
    "\n",
    "\n",
    "def count_ampersand(url: str):\n",
    "    return url.count('&')\n",
    "\n",
    "\n",
    "\"\"\"\n",
    "    Number of the numeric character\n",
    "    Return: numeric\n",
    "\"\"\"\n",
    "\n",
    "\n",
    "def count_digits(url: str):\n",
    "    return sum(c.isdigit() for c in url)\n",
    "\n",
    "\n",
    "\n",
    "\"\"\"\n",
    "    Check if the IP address is used in the hostname of the website URL\n",
    "    Return: boolean\n",
    "\"\"\"\n",
    "\n",
    "\n",
    "def check_ip_address(url: str):\n",
    "    return not bool(sum(not c.isdigit() and c != '.' for c in tldextract.extract(url).domain))\n",
    "\n",
    "\n",
    "\"\"\"\n",
    "    Length of hostname\n",
    "    Return: numeric\n",
    "\"\"\"\n",
    "\n",
    "\n",
    "def get_hostname_length(url: str):\n",
    "    return len(urlsplit(url).netloc)\n",
    "\n",
    "\n",
    "\"\"\"\n",
    "    Length of the link path\n",
    "    Return: numeric\n",
    "\"\"\"\n",
    "\n",
    "\n",
    "def get_path_length(url: str):\n",
    "    return len(urlparse(url).path)\n",
    "\n",
    "\n",
    "\"\"\"\n",
    "    Length of the query string\n",
    "    Return: numeric\n",
    "\"\"\"\n",
    "\n",
    "\n",
    "def get_query_length(url: str):\n",
    "    return len(urlparse(url).query)"
   ]
  },
  {
   "cell_type": "code",
   "execution_count": null,
   "id": "cc478a51",
   "metadata": {},
   "outputs": [],
   "source": []
  }
 ],
 "metadata": {
  "kernelspec": {
   "display_name": "Python 3 (ipykernel)",
   "language": "python",
   "name": "python3"
  },
  "language_info": {
   "codemirror_mode": {
    "name": "ipython",
    "version": 3
   },
   "file_extension": ".py",
   "mimetype": "text/x-python",
   "name": "python",
   "nbconvert_exporter": "python",
   "pygments_lexer": "ipython3",
   "version": "3.10.4"
  }
 },
 "nbformat": 4,
 "nbformat_minor": 5
}
