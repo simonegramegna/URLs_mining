{
 "cells": [
  {
   "cell_type": "code",
   "execution_count": 1,
   "id": "ac41252f",
   "metadata": {},
   "outputs": [],
   "source": [
    "from pyspark.sql import SparkSession\n",
    "from pyspark.sql.functions import count, when, col, length, regexp_replace\n",
    "from pyspark.sql.types import IntegerType, BooleanType, StringType\n",
    "from pyspark.ml.feature import VectorAssembler, MinMaxScaler, PCA, VarianceThresholdSelector\n",
    "from pyspark.ml.classification import RandomForestClassifier, LinearSVC, GBTClassifier, LogisticRegression\n",
    "from pyspark.ml.evaluation import MulticlassClassificationEvaluator\n",
    "from pyspark.ml.tuning import CrossValidator\n",
    "from pyspark.ml import Pipeline\n",
    "\n",
    "from concurrent.futures import ThreadPoolExecutor"
   ]
  },
  {
   "cell_type": "code",
   "execution_count": 2,
   "id": "e7c55434",
   "metadata": {},
   "outputs": [],
   "source": [
    "import numpy as np\n",
    "\n",
    "# Graphics Libs\n",
    "import matplotlib.pyplot as plt\n",
    "%matplotlib inline\n",
    "plt.rcParams['figure.figsize'] = 18, 8\n",
    "import seaborn as sns\n",
    "\n",
    "import warnings\n",
    "warnings.filterwarnings(\"ignore\")"
   ]
  },
  {
   "cell_type": "markdown",
   "id": "f9aae929",
   "metadata": {},
   "source": [
    "Initialising the spark session"
   ]
  },
  {
   "cell_type": "code",
   "execution_count": 3,
   "id": "2ab97899",
   "metadata": {},
   "outputs": [
    {
     "data": {
      "text/html": [
       "\n",
       "            <div>\n",
       "                <p><b>SparkSession - in-memory</b></p>\n",
       "                \n",
       "        <div>\n",
       "            <p><b>SparkContext</b></p>\n",
       "\n",
       "            <p><a href=\"http://DESKTOP-B4I5JT1:4040\">Spark UI</a></p>\n",
       "\n",
       "            <dl>\n",
       "              <dt>Version</dt>\n",
       "                <dd><code>v3.5.0</code></dd>\n",
       "              <dt>Master</dt>\n",
       "                <dd><code>local[*]</code></dd>\n",
       "              <dt>AppName</dt>\n",
       "                <dd><code>URLs_mining</code></dd>\n",
       "            </dl>\n",
       "        </div>\n",
       "        \n",
       "            </div>\n",
       "        "
      ],
      "text/plain": [
       "<pyspark.sql.session.SparkSession at 0x1b583878400>"
      ]
     },
     "execution_count": 3,
     "metadata": {},
     "output_type": "execute_result"
    }
   ],
   "source": [
    "spark = SparkSession.builder.appName('URLs_mining').getOrCreate()\n",
    "spark"
   ]
  },
  {
   "cell_type": "markdown",
   "id": "35dc5383",
   "metadata": {},
   "source": [
    "Show the original malicious_urls dataset"
   ]
  },
  {
   "cell_type": "code",
   "execution_count": 4,
   "id": "8b3e2a52",
   "metadata": {
    "scrolled": false
   },
   "outputs": [
    {
     "name": "stdout",
     "output_type": "stream",
     "text": [
      "+--------------------+----------+\n",
      "|                 url|      type|\n",
      "+--------------------+----------+\n",
      "|    br-icloud.com.br|  phishing|\n",
      "|mp3raid.com/music...|    benign|\n",
      "|bopsecrets.org/re...|    benign|\n",
      "|http://www.garage...|defacement|\n",
      "|http://adventure-...|defacement|\n",
      "|http://buzzfil.ne...|    benign|\n",
      "|espn.go.com/nba/p...|    benign|\n",
      "|yourbittorrent.co...|    benign|\n",
      "|http://www.pashmi...|defacement|\n",
      "|allmusic.com/albu...|    benign|\n",
      "|corporationwiki.c...|    benign|\n",
      "|http://www.ikenmi...|defacement|\n",
      "|myspace.com/video...|    benign|\n",
      "|http://www.lebens...|defacement|\n",
      "|http://www.szabad...|defacement|\n",
      "|http://larcadelca...|defacement|\n",
      "|quickfacts.census...|    benign|\n",
      "|nugget.ca/Article...|    benign|\n",
      "|uk.linkedin.com/p...|    benign|\n",
      "|http://www.vnic.c...|defacement|\n",
      "+--------------------+----------+\n",
      "only showing top 20 rows\n",
      "\n"
     ]
    }
   ],
   "source": [
    "# Read the CSV file into a DataFrame\n",
    "data = spark.read.csv(\"malicious_urls.csv\", header=True, inferSchema=True)\n",
    "\n",
    "# Show the first few rows of the DataFrame\n",
    "data.show()"
   ]
  },
  {
   "cell_type": "markdown",
   "id": "8e1f78fa",
   "metadata": {},
   "source": [
    "Count of every type of URL in the dataset"
   ]
  },
  {
   "cell_type": "code",
   "execution_count": 5,
   "id": "cb61133b",
   "metadata": {},
   "outputs": [
    {
     "name": "stdout",
     "output_type": "stream",
     "text": [
      "+--------------------+------+\n",
      "|                type| count|\n",
      "+--------------------+------+\n",
      "|              benign|428103|\n",
      "|          defacement| 96457|\n",
      "|            phishing| 94108|\n",
      "|             malware| 32520|\n",
      "|                NULL|    15|\n",
      "|                \u0015Ð\u001a\u001f|     1|\n",
      "|\u0010\u0011PhµW\u0011\\v;XyOy...|     1|\n",
      "|cÔ",
      "¡æ>1\\bHÇÕ\u001bd...|     1|\n",
      "|                spam| 12000|\n",
      "+--------------------+------+\n",
      "\n"
     ]
    }
   ],
   "source": [
    "data.groupBy(\"type\").count().show()"
   ]
  },
  {
   "cell_type": "markdown",
   "id": "8752caab",
   "metadata": {},
   "source": [
    "## Data pre-processing"
   ]
  },
  {
   "cell_type": "markdown",
   "id": "35a7034d",
   "metadata": {},
   "source": [
    "Drop duplicates and count of every type of URL in the dataset"
   ]
  },
  {
   "cell_type": "code",
   "execution_count": 6,
   "id": "72d65a72",
   "metadata": {},
   "outputs": [
    {
     "name": "stdout",
     "output_type": "stream",
     "text": [
      "+--------------------+------+\n",
      "|                type| count|\n",
      "+--------------------+------+\n",
      "|                spam| 11921|\n",
      "|              benign|428080|\n",
      "|          defacement| 95308|\n",
      "|            phishing| 94083|\n",
      "|             malware| 23645|\n",
      "|                \u0015Ð\u001a\u001f|     1|\n",
      "|\u0010\u0011PhµW\u0011\\v;XyOy...|     1|\n",
      "|cÔ",
      "¡æ>1\\bHÇÕ\u001bd...|     1|\n",
      "+--------------------+------+\n",
      "\n"
     ]
    }
   ],
   "source": [
    "data = data.dropDuplicates([\"url\"])\n",
    "data = data.na.drop()\n",
    "\n",
    "data.groupBy(\"type\").count().show()"
   ]
  },
  {
   "cell_type": "markdown",
   "id": "5b8a559d",
   "metadata": {},
   "source": [
    "Removing URLs whose type is not in ASCII"
   ]
  },
  {
   "cell_type": "code",
   "execution_count": 7,
   "id": "b8abcc25",
   "metadata": {},
   "outputs": [
    {
     "name": "stdout",
     "output_type": "stream",
     "text": [
      "+----------+------+\n",
      "|      type| count|\n",
      "+----------+------+\n",
      "|      spam| 11921|\n",
      "|    benign|428080|\n",
      "|defacement| 95308|\n",
      "|  phishing| 94083|\n",
      "|   malware| 23645|\n",
      "+----------+------+\n",
      "\n"
     ]
    }
   ],
   "source": [
    "data = data.filter(col(\"type\").rlike(r'^[ -~]+$'))\n",
    "data.groupBy(\"type\").count().show()"
   ]
  },
  {
   "cell_type": "code",
   "execution_count": 8,
   "id": "c884c8b8",
   "metadata": {},
   "outputs": [],
   "source": [
    "# convert spark dataframe to pandas dataframe\n",
    "pd_data = data.toPandas()"
   ]
  },
  {
   "cell_type": "markdown",
   "id": "cfea5979",
   "metadata": {},
   "source": [
    "Visualisation in a bar graph of the various URL types in the dataset"
   ]
  },
  {
   "cell_type": "code",
   "execution_count": 9,
   "id": "cabe40b5",
   "metadata": {},
   "outputs": [
    {
     "data": {
      "image/png": "[encoded data removed]",
      "text/plain": [
       "<Figure size 1296x576 with 1 Axes>"
      ]
     },
     "metadata": {
      "needs_background": "light"
     },
     "output_type": "display_data"
    }
   ],
   "source": [
    "count = pd_data.type.value_counts()\n",
    "bar_labels = [count.index[i].capitalize()+' (n. ' + str(count[i]) + ')' for i in range(len(count.index))]\n",
    "bars = plt.bar(count.index, height=count, label=bar_labels, color=['#8fce00', '#0092ff', '#ff8200', '#ff1100', '#ffcd34'])\n",
    "\n",
    "for rect in bars:\n",
    "    height = rect.get_height()\n",
    "    plt.text(rect.get_x() + rect.get_width() / 2.0, height, f'{height:.0f} ({height/len(pd_data)*100:.2f}%)', ha='center', va='bottom')\n",
    "\n",
    "plt.xlabel('LABELS', labelpad=20)\n",
    "plt.ylabel('COUNT', labelpad=20)\n",
    "plt.title('EXPLORING DATASET')\n",
    "plt.show()"
   ]
  },
  {
   "cell_type": "markdown",
   "id": "692d428a",
   "metadata": {},
   "source": [
    "I make a mapping: benign urls become type 0 while the other types of urls i.e. defacement, phishing, malware, spam become type 1"
   ]
  },
  {
   "cell_type": "code",
   "execution_count": 10,
   "id": "b4840e8f",
   "metadata": {},
   "outputs": [
    {
     "name": "stdout",
     "output_type": "stream",
     "text": [
      "+--------------------+--------+--------+\n",
      "|                 url|    type|url_type|\n",
      "+--------------------+--------+--------+\n",
      "|   \u0010H\\vÖË\u001c",
      "]\u001ft¹[ÈöýE|phishing|       1|\n",
      "|\u0013^o\u0014ð]Â|¬|hõElò...|phishing|       1|\n",
      "|\"½\u0013<+U\u001f\u0012½¹1\\f[...|phishing|       1|\n",
      "|\"äÕ3ñºT-\\f\u0011TÖGÑîÊ...|phishing|       1|\n",
      "|\"ë\u0003Ël×uÏB'JI¨GÙn\"...|phishing|       1|\n",
      "|'118bm.com/images...|  benign|       0|\n",
      "|'1pcables-inox.co...|  benign|       0|\n",
      "|'9d345009-a-62cb3...|  benign|       0|\n",
      "|'9d345009-a-62cb3...|  benign|       0|\n",
      "|'9d345009-a-62cb3...|  benign|       0|\n",
      "|'9d345009-a-62cb3...|  benign|       0|\n",
      "|'9d345009-a-62cb3...|  benign|       0|\n",
      "|'9d345009-a-62cb3...|  benign|       0|\n",
      "|'9d345009-a-62cb3...|  benign|       0|\n",
      "|'9d345009-a-62cb3...|  benign|       0|\n",
      "|'9d345009-a-62cb3...|  benign|       0|\n",
      "|'9d345009-a-62cb3...|  benign|       0|\n",
      "|'9d345009-a-62cb3...|  benign|       0|\n",
      "|'9d345009-a-62cb3...|  benign|       0|\n",
      "|'9d345009-a-62cb3...|  benign|       0|\n",
      "+--------------------+--------+--------+\n",
      "only showing top 20 rows\n",
      "\n"
     ]
    }
   ],
   "source": [
    "data = data.withColumn(\"url_type\", when(data[\"type\"].contains(\"benign\"), 0).otherwise(1))\n",
    "#data = data.drop(\"type\")\n",
    "data.show()"
   ]
  },
  {
   "cell_type": "markdown",
   "id": "ed40f746",
   "metadata": {},
   "source": [
    "Selecting URLs that contain only ASCII characters"
   ]
  },
  {
   "cell_type": "code",
   "execution_count": 11,
   "id": "6631acee",
   "metadata": {},
   "outputs": [
    {
     "name": "stdout",
     "output_type": "stream",
     "text": [
      "+--------------------+------+--------+\n",
      "|                 url|  type|url_type|\n",
      "+--------------------+------+--------+\n",
      "|'118bm.com/images...|benign|       0|\n",
      "|'1pcables-inox.co...|benign|       0|\n",
      "|'9d345009-a-62cb3...|benign|       0|\n",
      "|'9d345009-a-62cb3...|benign|       0|\n",
      "|'9d345009-a-62cb3...|benign|       0|\n",
      "|'9d345009-a-62cb3...|benign|       0|\n",
      "|'9d345009-a-62cb3...|benign|       0|\n",
      "|'9d345009-a-62cb3...|benign|       0|\n",
      "|'9d345009-a-62cb3...|benign|       0|\n",
      "|'9d345009-a-62cb3...|benign|       0|\n",
      "|'9d345009-a-62cb3...|benign|       0|\n",
      "|'9d345009-a-62cb3...|benign|       0|\n",
      "|'9d345009-a-62cb3...|benign|       0|\n",
      "|'9d345009-a-62cb3...|benign|       0|\n",
      "|'9d345009-a-62cb3...|benign|       0|\n",
      "|'9d345009-a-62cb3...|benign|       0|\n",
      "|'9d345009-a-62cb3...|benign|       0|\n",
      "|'9d345009-a-62cb3...|benign|       0|\n",
      "|'9d345009-a-62cb3...|benign|       0|\n",
      "|'9d345009-a-62cb3...|benign|       0|\n",
      "+--------------------+------+--------+\n",
      "only showing top 20 rows\n",
      "\n"
     ]
    }
   ],
   "source": [
    "data = data.filter(col(\"url\").rlike(r'^[ -~]+$'))\n",
    "data.show()"
   ]
  },
  {
   "cell_type": "markdown",
   "id": "d448603f",
   "metadata": {},
   "source": [
    "Making a count of selected URLs"
   ]
  },
  {
   "cell_type": "code",
   "execution_count": 12,
   "id": "89ccec7e",
   "metadata": {},
   "outputs": [
    {
     "name": "stdout",
     "output_type": "stream",
     "text": [
      "+--------+------+\n",
      "|url_type| count|\n",
      "+--------+------+\n",
      "|       1|224323|\n",
      "|       0|427801|\n",
      "+--------+------+\n",
      "\n"
     ]
    }
   ],
   "source": [
    "data.groupBy(\"url_type\").count().show()"
   ]
  },
  {
   "cell_type": "markdown",
   "id": "e5378466",
   "metadata": {},
   "source": [
    "Visualisation in a bar graph of the two URL types in the dataset"
   ]
  },
  {
   "cell_type": "code",
   "execution_count": 13,
   "id": "a6922220",
   "metadata": {},
   "outputs": [
    {
     "data": {
      "image/png": "[encoded data removed]",
      "text/plain": [
       "<Figure size 1296x576 with 1 Axes>"
      ]
     },
     "metadata": {
      "needs_background": "light"
     },
     "output_type": "display_data"
    }
   ],
   "source": [
    "pd_data = data.toPandas()\n",
    "count = pd_data.type.value_counts()\n",
    "\n",
    "benign = count[0]\n",
    "malicious = len(pd_data) - benign\n",
    "bar_labels = ['Benign (n.'+str(benign)+')', 'Malicious (n.'+str(malicious)+')']\n",
    "bars = plt.bar(['benign', 'malicious'], height=[benign, malicious], label=bar_labels, color=['#8fce00', '#ff1100'])\n",
    "\n",
    "for rect in bars:\n",
    "    height = rect.get_height()\n",
    "    plt.text(rect.get_x() + rect.get_width() / 2.0, height, f'{height:.0f} ({height/len(pd_data)*100:.2f}%)', ha='center', va='bottom')\n",
    "\n",
    "plt.xlabel('CLASSES', labelpad=20)\n",
    "plt.ylabel('COUNT', labelpad=20)\n",
    "plt.title('EXPLORING DATASET')\n",
    "plt.show()"
   ]
  },
  {
   "cell_type": "markdown",
   "id": "d056a925",
   "metadata": {},
   "source": [
    "Making a sample of 100.000 URLs for each type of URL"
   ]
  },
  {
   "cell_type": "code",
   "execution_count": 14,
   "id": "d5f838e4",
   "metadata": {},
   "outputs": [
    {
     "name": "stdout",
     "output_type": "stream",
     "text": [
      "+--------+------+\n",
      "|url_type| count|\n",
      "+--------+------+\n",
      "|       1|100473|\n",
      "|       0|100153|\n",
      "+--------+------+\n",
      "\n"
     ]
    }
   ],
   "source": [
    "sample_size = 100000\n",
    "\n",
    "data = data.sampleBy(\"url_type\", fractions={0 : sample_size/data.filter(col(\"url_type\") == 0).count(),\n",
    "                                               1 : sample_size/data.filter(col(\"url_type\") == 1).count()}, seed=42)\n",
    "data.groupBy(\"url_type\").count().show()"
   ]
  },
  {
   "cell_type": "markdown",
   "id": "59ff26f8",
   "metadata": {},
   "source": [
    "Visualization in a bar chart of sampling"
   ]
  },
  {
   "cell_type": "code",
   "execution_count": 15,
   "id": "e5c0b8c6",
   "metadata": {},
   "outputs": [
    {
     "data": {
      "image/png": "[encoded data removed]",
      "text/plain": [
       "<Figure size 1296x576 with 1 Axes>"
      ]
     },
     "metadata": {
      "needs_background": "light"
     },
     "output_type": "display_data"
    }
   ],
   "source": [
    "pd_data = data.toPandas()\n",
    "count = pd_data.type.value_counts()\n",
    "\n",
    "benign = count[0]\n",
    "malicious = len(pd_data) - benign\n",
    "bar_labels = ['Benign (n.'+str(benign)+')', 'Malicious (n.'+str(malicious)+')']\n",
    "bars = plt.bar(['benign', 'malicious'], height=[benign, malicious], label=bar_labels, color=['#8fce00', '#ff1100'])\n",
    "\n",
    "for rect in bars:\n",
    "    height = rect.get_height()\n",
    "    plt.text(rect.get_x() + rect.get_width() / 2.0, height, f'{height:.0f} ({height/len(pd_data)*100:.2f}%)', ha='center', va='bottom')\n",
    "\n",
    "plt.xlabel('CLASSES', labelpad=20)\n",
    "plt.ylabel('COUNT', labelpad=20)\n",
    "plt.title('EXPLORING DATASET')\n",
    "plt.show()"
   ]
  },
  {
   "cell_type": "markdown",
   "id": "a4d99970",
   "metadata": {},
   "source": [
    "## Features engineering"
   ]
  },
  {
   "cell_type": "markdown",
   "id": "8b403b12",
   "metadata": {},
   "source": [
    "Starting from filtered and sampled URLs in the previous phase, in this phase there is the extraction of features like:\n",
    "- \"url_length\" : lenght of URL\n",
    "- \"digit_count\": number of digit characters in the URL\n",
    "- \"ampersand_count\": number of ampersand characters in the URL\n",
    "- \"dot_count\": number of dot characters in the URL\n",
    "- \"percent_count\": number of '%' characters in the URL\n",
    "- \"at_count\": number of '@' characters in the URL\n",
    "- \"tilde_count\": number of '~' characters in the URL\n",
    "- \"hash_count\": number of '#' characters in the URL\n",
    "- \"has_https\": checks if the URL starts with 'https'\n",
    "- \"has_http\": checks if the URL starts with 'http'\n",
    "- \"starts_with_digit\": checks if the URL starts with a digit "
   ]
  },
  {
   "cell_type": "code",
   "execution_count": 16,
   "id": "64b63701",
   "metadata": {},
   "outputs": [],
   "source": [
    "data = data.withColumn(\"url_length\", length(\"url\"))\n",
    "data = data.withColumn(\"digit_count\", length(regexp_replace(col(\"url\"), \"[^0-9]\", \"\")))\n",
    "data = data.withColumn(\"ampersand_count\", length(regexp_replace(col(\"url\"), \"[^&]\", \"\")))\n",
    "data = data.withColumn(\"underscore_count\", length(regexp_replace(col(\"url\"), \"[^_]\", \"\")))\n",
    "data = data.withColumn(\"dot_count\", length(regexp_replace(col(\"url\"), \"[^.]\", \"\")))\n",
    "data = data.withColumn(\"percent_count\", length(regexp_replace(col(\"url\"), \"[^%]\", \"\")))\n",
    "data = data.withColumn(\"at_count\", length(regexp_replace(col(\"url\"), \"[^@]\", \"\")))\n",
    "data = data.withColumn(\"tilde_count\", length(regexp_replace(col(\"url\"), \"[^~]\", \"\")))\n",
    "data = data.withColumn(\"hash_count\", length(regexp_replace(col(\"url\"), \"[^#]\", \"\")))\n",
    "data = data.withColumn(\"has_https\", when(data[\"url\"].startswith(\"https\"), 1).otherwise(0))\n",
    "data = data.withColumn(\"has_http\", when(data[\"url\"].startswith(\"http\"), 1).otherwise(0))\n",
    "data = data.withColumn(\"starts_with_digit\", when(data[\"url\"].rlike(\"^[0-9]\"), 1).otherwise(0))"
   ]
  },
  {
   "cell_type": "code",
   "execution_count": 17,
   "id": "3c4c485c",
   "metadata": {},
   "outputs": [
    {
     "name": "stdout",
     "output_type": "stream",
     "text": [
      "+--------------------+------+--------+----------+-----------+---------------+----------------+---------+-------------+--------+-----------+----------+---------+--------+-----------------+\n",
      "|                 url|  type|url_type|url_length|digit_count|ampersand_count|underscore_count|dot_count|percent_count|at_count|tilde_count|hash_count|has_https|has_http|starts_with_digit|\n",
      "+--------------------+------+--------+----------+-----------+---------------+----------------+---------+-------------+--------+-----------+----------+---------+--------+-----------------+\n",
      "|'9d345009-a-62cb3...|benign|       0|       363|         46|              2|               1|        3|            3|       0|          0|         0|        0|       0|                0|\n",
      "|'9d345009-a-62cb3...|benign|       0|       371|         51|              2|               6|        3|            3|       0|          0|         0|        0|       0|                0|\n",
      "|'9d345009-a-62cb3...|benign|       0|       371|         50|              2|               2|        3|            3|       0|          0|         0|        0|       0|                0|\n",
      "|'9d345009-a-62cb3...|benign|       0|       371|         55|              2|               5|        3|            3|       0|          0|         0|        0|       0|                0|\n",
      "|'9d345009-a-62cb3...|benign|       0|       371|         44|              2|               1|        3|            3|       0|          0|         0|        0|       0|                0|\n",
      "|'9d345009-a-62cb3...|benign|       0|       371|         54|              2|               1|        3|            3|       0|          0|         0|        0|       0|                0|\n",
      "|'9d345009-a-62cb3...|benign|       0|       371|         46|              2|               5|        3|            3|       0|          0|         0|        0|       0|                0|\n",
      "|'9d345009-a-62cb3...|benign|       0|       371|         56|              2|               4|        3|            3|       0|          0|         0|        0|       0|                0|\n",
      "|'9d345009-a-62cb3...|benign|       0|       371|         54|              2|               3|        3|            3|       0|          0|         0|        0|       0|                0|\n",
      "|'9d345009-a-62cb3...|benign|       0|       371|         51|              2|               2|        3|            3|       0|          0|         0|        0|       0|                0|\n",
      "|'9d345009-a-62cb3...|benign|       0|       371|         36|              2|               4|        3|            3|       0|          0|         0|        0|       0|                0|\n",
      "|'9d345009-a-62cb3...|benign|       0|       371|         53|              2|               1|        3|            3|       0|          0|         0|        0|       0|                0|\n",
      "|'9d345009-a-62cb3...|benign|       0|       371|         50|              2|               5|        3|            3|       0|          0|         0|        0|       0|                0|\n",
      "|'9d345009-a-62cb3...|benign|       0|       371|         57|              2|               1|        3|            3|       0|          0|         0|        0|       0|                0|\n",
      "|'9d345009-a-62cb3...|benign|       0|       371|         44|              2|               7|        3|            3|       0|          0|         0|        0|       0|                0|\n",
      "|'9d345009-a-62cb3...|benign|       0|       371|         50|              2|               1|        3|            3|       0|          0|         0|        0|       0|                0|\n",
      "|'9d345009-a-62cb3...|benign|       0|       371|         50|              2|               5|        3|            3|       0|          0|         0|        0|       0|                0|\n",
      "|'9d345009-a-62cb3...|benign|       0|       371|         44|              2|               3|        3|            3|       0|          0|         0|        0|       0|                0|\n",
      "|'9d345009-a-62cb3...|benign|       0|       371|         56|              2|               3|        3|            3|       0|          0|         0|        0|       0|                0|\n",
      "|'9d345009-a-62cb3...|benign|       0|       363|         49|              2|               4|        3|            3|       0|          0|         0|        0|       0|                0|\n",
      "+--------------------+------+--------+----------+-----------+---------------+----------------+---------+-------------+--------+-----------+----------+---------+--------+-----------------+\n",
      "only showing top 20 rows\n",
      "\n"
     ]
    }
   ],
   "source": [
    "data.show()"
   ]
  },
  {
   "cell_type": "markdown",
   "id": "7e8647d0",
   "metadata": {},
   "source": [
    "Visualization of the distribution of values for each continuos numerical feature"
   ]
  },
  {
   "cell_type": "code",
   "execution_count": 18,
   "id": "cc3dd3b9",
   "metadata": {},
   "outputs": [
    {
     "data": {
      "image/png": "[encoded data removed]",
      "text/plain": [
       "<Figure size 1080x864 with 9 Axes>"
      ]
     },
     "metadata": {
      "needs_background": "light"
     },
     "output_type": "display_data"
    }
   ],
   "source": [
    "columns_to_check = [\"url_length\", \"digit_count\", \"ampersand_count\", \"underscore_count\", \n",
    "                    \"dot_count\", \"percent_count\", \"at_count\", \"tilde_count\", \"hash_count\"]\n",
    "\n",
    "fig, axes = plt.subplots(nrows=3, ncols=3, figsize=(15, 12))\n",
    "fig.suptitle(\"Distribuzione delle Features\", y=1.02)\n",
    "\n",
    "for i, col_name in enumerate(columns_to_check):\n",
    "    row, col = divmod(i, 3)\n",
    "    sns.histplot(data.select(col_name).toPandas()[col_name], kde=True, ax=axes[row, col])\n",
    "    axes[row, col].set_title(f\"Distribuzione di {col_name}\")\n",
    "    axes[row, col].set_xlabel(col_name)\n",
    "    axes[row, col].set_ylabel(\"Frequenza\")\n",
    "\n",
    "plt.tight_layout()\n",
    "plt.show()"
   ]
  },
  {
   "cell_type": "markdown",
   "id": "96e57718",
   "metadata": {},
   "source": [
    "### Features selection"
   ]
  },
  {
   "cell_type": "markdown",
   "id": "fe6bbb76",
   "metadata": {},
   "source": [
    "Dropping column type which contains strings"
   ]
  },
  {
   "cell_type": "code",
   "execution_count": 19,
   "id": "c9c12b7a",
   "metadata": {},
   "outputs": [
    {
     "data": {
      "text/plain": [
       "['url',\n",
       " 'url_type',\n",
       " 'url_length',\n",
       " 'digit_count',\n",
       " 'ampersand_count',\n",
       " 'underscore_count',\n",
       " 'dot_count',\n",
       " 'percent_count',\n",
       " 'at_count',\n",
       " 'tilde_count',\n",
       " 'hash_count',\n",
       " 'has_https',\n",
       " 'has_http',\n",
       " 'starts_with_digit']"
      ]
     },
     "execution_count": 19,
     "metadata": {},
     "output_type": "execute_result"
    }
   ],
   "source": [
    "data = data.drop(\"type\")\n",
    "data.columns"
   ]
  },
  {
   "cell_type": "markdown",
   "id": "51d63783",
   "metadata": {},
   "source": [
    "Putting in a list all the features to be joined in a vector using VectorAssembler"
   ]
  },
  {
   "cell_type": "code",
   "execution_count": 20,
   "id": "924cfdd1",
   "metadata": {},
   "outputs": [
    {
     "data": {
      "text/plain": [
       "12"
      ]
     },
     "execution_count": 20,
     "metadata": {},
     "output_type": "execute_result"
    }
   ],
   "source": [
    "feature_columns = [\n",
    "    \"url_length\",\n",
    "    \"digit_count\",\n",
    "    \"ampersand_count\",\n",
    "    \"underscore_count\",\n",
    "    \"dot_count\",\n",
    "    \"percent_count\",\n",
    "    \"at_count\",\n",
    "    \"tilde_count\",\n",
    "    \"hash_count\",\n",
    "    \"has_https\",\n",
    "    \"has_http\",\n",
    "    \"starts_with_digit\"\n",
    "]\n",
    "len(feature_columns)"
   ]
  },
  {
   "cell_type": "code",
   "execution_count": 21,
   "id": "47c7b18f",
   "metadata": {},
   "outputs": [],
   "source": [
    "assembler = VectorAssembler(inputCols=feature_columns, outputCol=\"features_vector\")\n",
    "data = assembler.transform(data)"
   ]
  },
  {
   "cell_type": "code",
   "execution_count": 22,
   "id": "9881a72a",
   "metadata": {},
   "outputs": [
    {
     "name": "stdout",
     "output_type": "stream",
     "text": [
      "+-----------------------------------------------+\n",
      "|features_vector                                |\n",
      "+-----------------------------------------------+\n",
      "|(12,[0,1,2,3,4,5],[363.0,46.0,2.0,1.0,3.0,3.0])|\n",
      "|(12,[0,1,2,3,4,5],[371.0,51.0,2.0,6.0,3.0,3.0])|\n",
      "|(12,[0,1,2,3,4,5],[371.0,50.0,2.0,2.0,3.0,3.0])|\n",
      "|(12,[0,1,2,3,4,5],[371.0,55.0,2.0,5.0,3.0,3.0])|\n",
      "|(12,[0,1,2,3,4,5],[371.0,44.0,2.0,1.0,3.0,3.0])|\n",
      "|(12,[0,1,2,3,4,5],[371.0,54.0,2.0,1.0,3.0,3.0])|\n",
      "|(12,[0,1,2,3,4,5],[371.0,46.0,2.0,5.0,3.0,3.0])|\n",
      "|(12,[0,1,2,3,4,5],[371.0,56.0,2.0,4.0,3.0,3.0])|\n",
      "|(12,[0,1,2,3,4,5],[371.0,54.0,2.0,3.0,3.0,3.0])|\n",
      "|(12,[0,1,2,3,4,5],[371.0,51.0,2.0,2.0,3.0,3.0])|\n",
      "|(12,[0,1,2,3,4,5],[371.0,36.0,2.0,4.0,3.0,3.0])|\n",
      "|(12,[0,1,2,3,4,5],[371.0,53.0,2.0,1.0,3.0,3.0])|\n",
      "|(12,[0,1,2,3,4,5],[371.0,50.0,2.0,5.0,3.0,3.0])|\n",
      "|(12,[0,1,2,3,4,5],[371.0,57.0,2.0,1.0,3.0,3.0])|\n",
      "|(12,[0,1,2,3,4,5],[371.0,44.0,2.0,7.0,3.0,3.0])|\n",
      "|(12,[0,1,2,3,4,5],[371.0,50.0,2.0,1.0,3.0,3.0])|\n",
      "|(12,[0,1,2,3,4,5],[371.0,50.0,2.0,5.0,3.0,3.0])|\n",
      "|(12,[0,1,2,3,4,5],[371.0,44.0,2.0,3.0,3.0,3.0])|\n",
      "|(12,[0,1,2,3,4,5],[371.0,56.0,2.0,3.0,3.0,3.0])|\n",
      "|(12,[0,1,2,3,4,5],[363.0,49.0,2.0,4.0,3.0,3.0])|\n",
      "+-----------------------------------------------+\n",
      "only showing top 20 rows\n",
      "\n"
     ]
    }
   ],
   "source": [
    "data.select(\"features_vector\").show(truncate=False)"
   ]
  },
  {
   "cell_type": "markdown",
   "id": "b69e4bb8",
   "metadata": {},
   "source": [
    "#### Variance Threshold Selector"
   ]
  },
  {
   "cell_type": "markdown",
   "id": "680d50e4",
   "metadata": {},
   "source": [
    "The VarianceThresholdSelector is a feature selection technique in machine learning used to eliminate features with low variance. Variance measures the spread of values within a feature, the selector calculates the variance for each feature and removes those with values below a specified threshold. This technique is useful for discarding features with limited variability, thereby simplifying the model and reducing overfitting. "
   ]
  },
  {
   "cell_type": "code",
   "execution_count": 23,
   "id": "8cc8dd6c",
   "metadata": {},
   "outputs": [],
   "source": [
    "selector = VarianceThresholdSelector(featuresCol=\"features_vector\", varianceThreshold=1.0, outputCol=\"vts_features\")\n",
    "data = selector.fit(data).transform(data)"
   ]
  },
  {
   "cell_type": "code",
   "execution_count": 24,
   "id": "462a750d",
   "metadata": {},
   "outputs": [
    {
     "name": "stdout",
     "output_type": "stream",
     "text": [
      "+----------------------------------------------+\n",
      "|vts_features                                  |\n",
      "+----------------------------------------------+\n",
      "|(6,[0,1,2,3,4,5],[363.0,46.0,2.0,1.0,3.0,3.0])|\n",
      "|(6,[0,1,2,3,4,5],[371.0,51.0,2.0,6.0,3.0,3.0])|\n",
      "|(6,[0,1,2,3,4,5],[371.0,50.0,2.0,2.0,3.0,3.0])|\n",
      "|(6,[0,1,2,3,4,5],[371.0,55.0,2.0,5.0,3.0,3.0])|\n",
      "|(6,[0,1,2,3,4,5],[371.0,44.0,2.0,1.0,3.0,3.0])|\n",
      "|(6,[0,1,2,3,4,5],[371.0,54.0,2.0,1.0,3.0,3.0])|\n",
      "|(6,[0,1,2,3,4,5],[371.0,46.0,2.0,5.0,3.0,3.0])|\n",
      "|(6,[0,1,2,3,4,5],[371.0,56.0,2.0,4.0,3.0,3.0])|\n",
      "|(6,[0,1,2,3,4,5],[371.0,54.0,2.0,3.0,3.0,3.0])|\n",
      "|(6,[0,1,2,3,4,5],[371.0,51.0,2.0,2.0,3.0,3.0])|\n",
      "|(6,[0,1,2,3,4,5],[371.0,36.0,2.0,4.0,3.0,3.0])|\n",
      "|(6,[0,1,2,3,4,5],[371.0,53.0,2.0,1.0,3.0,3.0])|\n",
      "|(6,[0,1,2,3,4,5],[371.0,50.0,2.0,5.0,3.0,3.0])|\n",
      "|(6,[0,1,2,3,4,5],[371.0,57.0,2.0,1.0,3.0,3.0])|\n",
      "|(6,[0,1,2,3,4,5],[371.0,44.0,2.0,7.0,3.0,3.0])|\n",
      "|(6,[0,1,2,3,4,5],[371.0,50.0,2.0,1.0,3.0,3.0])|\n",
      "|(6,[0,1,2,3,4,5],[371.0,50.0,2.0,5.0,3.0,3.0])|\n",
      "|(6,[0,1,2,3,4,5],[371.0,44.0,2.0,3.0,3.0,3.0])|\n",
      "|(6,[0,1,2,3,4,5],[371.0,56.0,2.0,3.0,3.0,3.0])|\n",
      "|(6,[0,1,2,3,4,5],[363.0,49.0,2.0,4.0,3.0,3.0])|\n",
      "+----------------------------------------------+\n",
      "only showing top 20 rows\n",
      "\n"
     ]
    }
   ],
   "source": [
    "data.select(\"vts_features\").show(truncate=False)"
   ]
  },
  {
   "cell_type": "markdown",
   "id": "1cd095a2",
   "metadata": {},
   "source": [
    "#### Principal Component Analysis - PCA"
   ]
  },
  {
   "cell_type": "markdown",
   "id": "a5e0449f",
   "metadata": {},
   "source": [
    "Principal Component Analysis (PCA) is a dimensionality reduction technique used in data analysis and machine learning. Its goal is to project the original data into a lower-dimensional space while preserving as much variance as possible. PCA identifies the principal axes along which the data varies the most and uses them as new variables, known as principal components. "
   ]
  },
  {
   "cell_type": "code",
   "execution_count": 25,
   "id": "ff7c73e4",
   "metadata": {},
   "outputs": [],
   "source": [
    "pca_components = 5\n",
    "pca = PCA(k=pca_components, inputCol=\"features_vector\", outputCol=\"pca_features\")\n",
    "pca_model = pca.fit(data)"
   ]
  },
  {
   "cell_type": "code",
   "execution_count": 26,
   "id": "c5a1cde7",
   "metadata": {},
   "outputs": [],
   "source": [
    "data = pca_model.transform(data)"
   ]
  },
  {
   "cell_type": "code",
   "execution_count": 27,
   "id": "c210e829",
   "metadata": {},
   "outputs": [
    {
     "name": "stdout",
     "output_type": "stream",
     "text": [
      "+----------------------------------------------------------------------------------------------------+\n",
      "|pca_features                                                                                        |\n",
      "+----------------------------------------------------------------------------------------------------+\n",
      "|[-365.5514081011776,16.372861887450437,-0.7296347493709843,1.0117430546372144,-2.971039453158078]   |\n",
      "|[-374.3100822182446,12.910973704839162,-1.4922236394048216,1.3891475391665034,0.3251856560551555]   |\n",
      "|[-374.11706863763965,13.846029007844402,-1.2740377139347574,1.1882550682248634,-2.3231067145497293] |\n",
      "|[-374.9818467126416,9.00954223137149,-2.081013953506984,1.3805116551821723,-0.19688371387317574]    |\n",
      "|[-373.09467339192315,19.674468826656682,-0.3490943916376752,1.0817668695321099,-3.174596608531919]  |\n",
      "|[-374.7888331320366,9.944597534376722,-1.862828028036919,1.1796191842405332,-2.84517608447806]      |\n",
      "|[-373.45710294653946,17.766426394423455,-0.7186536807476642,1.2924445719445923,-0.49336218552164846]|\n",
      "|[-375.1453632850045,8.027072145587805,-2.215684176689374,1.3425200767853158,-0.8177792410176646]    |\n",
      "|[-374.8006319353334,9.963563447488104,-1.896234308951989,1.275172803975932,-1.5375009253783107]     |\n",
      "|[-374.286484611651,12.8730418786164,-1.4254110775746813,1.1980402996957058,-2.290164662144343]      |\n",
      "|[-371.7570438047776,27.486814730147724,0.811783096109115,1.14681544736847,-1.4766202891253815]      |\n",
      "|[-374.61941715802527,10.917584663604718,-1.711454664396996,1.1698339527696908,-2.878118136883446]   |\n",
      "|[-374.13476684258484,13.874477877511474,-1.3241471353073626,1.331585497827961,-0.3615939759001051]  |\n",
      "|[-375.29708105407065,7.025636146692738,-2.3169481189566934,1.2089748786530596,-2.7463499272619027]  |\n",
      "|[-373.13006980181353,19.731366565990825,-0.4493132343828856,1.3684277287383062,0.7484288687673294]  |\n",
      "|[-374.1111692359912,13.83654605128871,-1.2573345734772223,1.1404782583571635,-2.9769442940996043]   |\n",
      "|[-374.13476684258484,13.874477877511474,-1.3241471353073626,1.331585497827961,-0.3615939759001051]  |\n",
      "|[-373.10647219521996,19.693434739768065,-0.38250067255274534,1.1773204892675087,-1.8669214494321695]|\n",
      "|[-375.13946388335614,8.017589189032114,-2.1989810362318387,1.294743266917616,-1.4716168205675395]   |\n",
      "|[-366.0773542281569,13.482349369433525,-1.2338642616633626,1.1844291786528394,-0.9107005572922956]  |\n",
      "+----------------------------------------------------------------------------------------------------+\n",
      "only showing top 20 rows\n",
      "\n"
     ]
    }
   ],
   "source": [
    "data.select(\"pca_features\").show(truncate=False)"
   ]
  },
  {
   "cell_type": "markdown",
   "id": "1e881294",
   "metadata": {},
   "source": [
    "## Classification models"
   ]
  },
  {
   "cell_type": "markdown",
   "id": "dc034965",
   "metadata": {},
   "source": [
    "### Train test split\n",
    "\n",
    "Splitting the features dataset in 80% of training data and 20% of test data"
   ]
  },
  {
   "cell_type": "code",
   "execution_count": 28,
   "id": "c6f838f8",
   "metadata": {},
   "outputs": [],
   "source": [
    "train, test = data.randomSplit([0.8, 0.2], seed = 2018)"
   ]
  },
  {
   "cell_type": "markdown",
   "id": "93ff1dfb",
   "metadata": {},
   "source": [
    "This function takes in input:\n",
    "- A spark classifier\n",
    "- The training set\n",
    "- The test set\n",
    "\n",
    "It fits the model in the training set and it test the model in test set, then it computes metrics like:\n",
    "- Accuracy\n",
    "- Precision\n",
    "- Recall\n",
    "\n",
    "This function is useful to paralleling the training phase of the selected models"
   ]
  },
  {
   "cell_type": "code",
   "execution_count": 29,
   "id": "d25a05ca",
   "metadata": {},
   "outputs": [],
   "source": [
    "def train_and_evaluate(classifier, train, test):\n",
    "    print(f\"Training of: {classifier.__class__.__name__}\")\n",
    "\n",
    "    evaluator = MulticlassClassificationEvaluator(labelCol=\"url_type\", predictionCol=\"prediction\", metricName=\"accuracy\")\n",
    "\n",
    "    pipeline = Pipeline(stages=[classifier])\n",
    "\n",
    "    model = pipeline.fit(train)\n",
    "    predictions = model.transform(test)\n",
    "\n",
    "    accuracy = round(evaluator.evaluate(predictions), 3)\n",
    "\n",
    "    evaluator.setMetricName(\"weightedPrecision\")\n",
    "    precision = round(evaluator.evaluate(predictions), 3)\n",
    "\n",
    "    evaluator.setMetricName(\"weightedRecall\")\n",
    "    recall = round(evaluator.evaluate(predictions), 3)\n",
    "\n",
    "    result = {\n",
    "        \"model\": model,\n",
    "        \"accuracy\": accuracy,\n",
    "        \"precision\": precision,\n",
    "        \"recall\": recall\n",
    "    }\n",
    "\n",
    "    # Stampa le metriche del modello\n",
    "    print(f\"Accuracy of {classifier.__class__.__name__}: {accuracy}\")\n",
    "    print(f\"Precision of {classifier.__class__.__name__}: {precision}\")\n",
    "    print(f\"Recall of {classifier.__class__.__name__}: {recall}\\n\")\n",
    "\n",
    "    return classifier.__class__.__name__, result"
   ]
  },
  {
   "cell_type": "markdown",
   "id": "f805c44c",
   "metadata": {},
   "source": [
    "### Choosed models\n",
    "\n",
    "Classifier models are taken from the pyspark.ml.classification library and are:\n",
    "1. Random forest classifier: Random Forest is robust, handles non-linear data well, and is less prone to overfitting, making it suitable for a wide range of classification problems.\n",
    "\n",
    "2. Logistic regression: Logistic Regression is easy to interpret, computationally efficient, and suitable when the relationship between features and output is approximately linear.\n",
    "\n",
    "3. Linear Support Vector Classifier (LinearSVC): LinearSVC is effective for linearly separable data, providing robustness and superior performance compared to traditional linear models.\n",
    "\n",
    "4. Gradient Boosted Trees (GBT) Classifier: GBT is powerful for complex and non-linear data, building sequential trees to capture intricate relationships between features and output."
   ]
  },
  {
   "cell_type": "markdown",
   "id": "17618351",
   "metadata": {},
   "source": [
    "### Models trained using base features"
   ]
  },
  {
   "cell_type": "code",
   "execution_count": 30,
   "id": "573efd44",
   "metadata": {},
   "outputs": [],
   "source": [
    "base_classifiers = [\n",
    "    RandomForestClassifier(featuresCol='features_vector', labelCol='url_type'),\n",
    "    LogisticRegression(featuresCol='features_vector', labelCol='url_type'),\n",
    "    LinearSVC(featuresCol='features_vector', labelCol='url_type'),\n",
    "    GBTClassifier(featuresCol='features_vector', labelCol='url_type')\n",
    "]\n",
    "\n",
    "base_classifiers_results = {}"
   ]
  },
  {
   "cell_type": "code",
   "execution_count": 31,
   "id": "46877b24",
   "metadata": {},
   "outputs": [
    {
     "name": "stdout",
     "output_type": "stream",
     "text": [
      "Training of: RandomForestClassifier\n",
      "Training of: LogisticRegression\n",
      "Training of: LinearSVC\n",
      "Training of: GBTClassifier\n",
      "Accuracy of LogisticRegression: 0.796\n",
      "Precision of LogisticRegression: 0.81\n",
      "Recall of LogisticRegression: 0.796\n",
      "\n",
      "Accuracy of RandomForestClassifier: 0.846\n",
      "Precision of RandomForestClassifier: 0.855\n",
      "Recall of RandomForestClassifier: 0.846\n",
      "\n",
      "Accuracy of GBTClassifier: 0.863\n",
      "Precision of GBTClassifier: 0.864\n",
      "Recall of GBTClassifier: 0.863\n",
      "\n",
      "Accuracy of LinearSVC: 0.808\n",
      "Precision of LinearSVC: 0.823\n",
      "Recall of LinearSVC: 0.808\n",
      "\n"
     ]
    }
   ],
   "source": [
    "with ThreadPoolExecutor() as executor:\n",
    "    base_classifiers_results = dict(executor.map(lambda clf: train_and_evaluate(clf, train, test), base_classifiers))"
   ]
  },
  {
   "cell_type": "code",
   "execution_count": 33,
   "id": "b704068d",
   "metadata": {},
   "outputs": [
    {
     "data": {
      "text/plain": [
       "'GBTClassifier'"
      ]
     },
     "execution_count": 33,
     "metadata": {},
     "output_type": "execute_result"
    }
   ],
   "source": [
    "best_classifier = max(base_classifiers_results, key=lambda x: base_classifiers_results[x]['accuracy'])\n",
    "best_classifier"
   ]
  },
  {
   "cell_type": "markdown",
   "id": "a78ec87f",
   "metadata": {},
   "source": [
    "#### Evaluation results using base features\n",
    "\n",
    "| Model                  | Precision | Recall | Accuracy |\n",
    "|------------------------|-----------|--------|----------|\n",
    "| RandomForestClassifier | 0.855     | 0.846  | 0.846    |\n",
    "| LogisticRegression     | 0.810     | 0.796  | 0.796    |\n",
    "| LinearSVC              | 0.823     | 0.808  | 0.808    |\n",
    "| <span style=\"color:green\"> GBTClassifier </span>           | 0.864     | 0.863  | 0.863    |\n"
   ]
  },
  {
   "cell_type": "markdown",
   "id": "e4a3dba2",
   "metadata": {},
   "source": [
    "### Models trained using PCA features"
   ]
  },
  {
   "cell_type": "code",
   "execution_count": 34,
   "id": "7dc52b6c",
   "metadata": {},
   "outputs": [],
   "source": [
    "pca_classifiers = [\n",
    "    RandomForestClassifier(featuresCol='pca_features', labelCol='url_type'),\n",
    "    LogisticRegression(featuresCol='pca_features', labelCol='url_type'),\n",
    "    LinearSVC(featuresCol='pca_features', labelCol='url_type'),\n",
    "    GBTClassifier(featuresCol='pca_features', labelCol='url_type')\n",
    "]\n",
    "\n",
    "pca_classifiers_results = {}"
   ]
  },
  {
   "cell_type": "code",
   "execution_count": 35,
   "id": "6174198f",
   "metadata": {},
   "outputs": [
    {
     "name": "stdout",
     "output_type": "stream",
     "text": [
      "Training of: RandomForestClassifier\n",
      "Training of: LogisticRegression\n",
      "Training of: LinearSVC\n",
      "Training of: GBTClassifier\n",
      "Accuracy of LogisticRegression: 0.719\n",
      "Precision of LogisticRegression: 0.727\n",
      "Recall of LogisticRegression: 0.719\n",
      "\n",
      "Accuracy of RandomForestClassifier: 0.753\n",
      "Precision of RandomForestClassifier: 0.753\n",
      "Recall of RandomForestClassifier: 0.753\n",
      "\n",
      "Accuracy of GBTClassifier: 0.789\n",
      "Precision of GBTClassifier: 0.789\n",
      "Recall of GBTClassifier: 0.789\n",
      "\n",
      "Accuracy of LinearSVC: 0.746\n",
      "Precision of LinearSVC: 0.751\n",
      "Recall of LinearSVC: 0.746\n",
      "\n"
     ]
    }
   ],
   "source": [
    "with ThreadPoolExecutor() as executor:\n",
    "    pca_classifiers_results = dict(executor.map(lambda clf: train_and_evaluate(clf, train, test), pca_classifiers))"
   ]
  },
  {
   "cell_type": "code",
   "execution_count": 37,
   "id": "c4b784fc",
   "metadata": {},
   "outputs": [
    {
     "data": {
      "text/plain": [
       "'GBTClassifier'"
      ]
     },
     "execution_count": 37,
     "metadata": {},
     "output_type": "execute_result"
    }
   ],
   "source": [
    "best_classifier_pca = max(pca_classifiers_results, key=lambda x: pca_classifiers_results[x]['accuracy'])\n",
    "best_classifier_pca "
   ]
  },
  {
   "cell_type": "markdown",
   "id": "bc5e82f0",
   "metadata": {},
   "source": [
    "#### Evaluation results using PCA features\n",
    "\n",
    "| Model                  | Accuracy | Precision | Recall |\n",
    "|------------------------|----------|-----------|--------|\n",
    "| LogisticRegression     | 0.719    | 0.727     | 0.719  |\n",
    "| RandomForestClassifier | 0.753    | 0.753     | 0.753  |\n",
    "| <span style=\"color:green\"> GBTClassifier </span>           | 0.789    | 0.789     | 0.789  |\n",
    "| LinearSVC              | 0.746    | 0.751     | 0.746  |"
   ]
  },
  {
   "cell_type": "markdown",
   "id": "5df49236",
   "metadata": {},
   "source": [
    "### Models trained using VTS features"
   ]
  },
  {
   "cell_type": "code",
   "execution_count": 38,
   "id": "1bb43edb",
   "metadata": {},
   "outputs": [],
   "source": [
    "vts_classifiers = [\n",
    "    RandomForestClassifier(featuresCol='vts_features', labelCol='url_type'),\n",
    "    LogisticRegression(featuresCol='vts_features', labelCol='url_type'),\n",
    "    LinearSVC(featuresCol='vts_features', labelCol='url_type'),\n",
    "    GBTClassifier(featuresCol='vts_features', labelCol='url_type')\n",
    "]\n",
    "\n",
    "vts_classifiers_results = {}"
   ]
  },
  {
   "cell_type": "code",
   "execution_count": 39,
   "id": "abc5b084",
   "metadata": {},
   "outputs": [
    {
     "name": "stdout",
     "output_type": "stream",
     "text": [
      "Training of: RandomForestClassifier\n",
      "Training of: LogisticRegression\n",
      "Training of: LinearSVC\n",
      "Training of: GBTClassifier\n",
      "Accuracy of LogisticRegression: 0.72\n",
      "Precision of LogisticRegression: 0.731\n",
      "Recall of LogisticRegression: 0.72\n",
      "\n",
      "Accuracy of RandomForestClassifier: 0.739\n",
      "Precision of RandomForestClassifier: 0.752\n",
      "Recall of RandomForestClassifier: 0.739\n",
      "\n",
      "Accuracy of GBTClassifier: 0.762\n",
      "Precision of GBTClassifier: 0.763\n",
      "Recall of GBTClassifier: 0.762\n",
      "\n",
      "Accuracy of LinearSVC: 0.725\n",
      "Precision of LinearSVC: 0.735\n",
      "Recall of LinearSVC: 0.725\n",
      "\n"
     ]
    }
   ],
   "source": [
    "with ThreadPoolExecutor() as executor:\n",
    "    vts_classifiers_results = dict(executor.map(lambda clf: train_and_evaluate(clf, train, test), vts_classifiers))"
   ]
  },
  {
   "cell_type": "code",
   "execution_count": 40,
   "id": "cf7d9e88",
   "metadata": {},
   "outputs": [
    {
     "data": {
      "text/plain": [
       "'GBTClassifier'"
      ]
     },
     "execution_count": 40,
     "metadata": {},
     "output_type": "execute_result"
    }
   ],
   "source": [
    "best_classifier_vts = max(vts_classifiers_results, key=lambda x: vts_classifiers_results[x]['accuracy'])\n",
    "best_classifier_vts "
   ]
  },
  {
   "cell_type": "markdown",
   "id": "b6f6f8b8",
   "metadata": {},
   "source": [
    "#### Evaluation results using VTS features\n",
    "\n",
    "| Model                  | Accuracy | Precision | Recall |\n",
    "|------------------------|----------|-----------|--------|\n",
    "| LogisticRegression     | 0.72     | 0.731     | 0.72   |\n",
    "| RandomForestClassifier | 0.739    | 0.752     | 0.739  |\n",
    "| <span style=\"color:green\"> GBTClassifier </span>          | 0.762    | 0.763     | 0.762  |\n",
    "| LinearSVC              | 0.725    | 0.735     | 0.725  |"
   ]
  },
  {
   "cell_type": "markdown",
   "id": "6a27f860",
   "metadata": {},
   "source": [
    "## Summary base models"
   ]
  },
  {
   "cell_type": "markdown",
   "id": "e88de066",
   "metadata": {},
   "source": [
    "In all of the three cases taken into account:\n",
    "- Training of base models with base features\n",
    "- Training of base models with PCA features\n",
    "- Training of base models with VTS features\n",
    "\n",
    "the Gradient Boosting Tree classifier was the best, here there are performances of each version:\n",
    "\n",
    "| Model                  | Accuracy | Precision | Recall |\n",
    "|------------------------|----------|-----------|--------|\n",
    "| <span style=\"color:green\"> GBTClassifier (base) </span>  | 0.864    | 0.863    | 0.863  |\n",
    "| GBTClassifier (PCA)    | 0.789    | 0.789     | 0.789  |\n",
    "| GBTClassifier (VTS)    | 0.762    | 0.763     | 0.762  |"
   ]
  },
  {
   "cell_type": "code",
   "execution_count": null,
   "id": "627f1407",
   "metadata": {},
   "outputs": [],
   "source": []
  }
 ],
 "metadata": {
  "kernelspec": {
   "display_name": "Python 3 (ipykernel)",
   "language": "python",
   "name": "python3"
  },
  "language_info": {
   "codemirror_mode": {
    "name": "ipython",
    "version": 3
   },
   "file_extension": ".py",
   "mimetype": "text/x-python",
   "name": "python",
   "nbconvert_exporter": "python",
   "pygments_lexer": "ipython3",
   "version": "3.10.4"
  }
 },
 "nbformat": 4,
 "nbformat_minor": 5
}
