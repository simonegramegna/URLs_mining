{
 "cells": [
  {
   "cell_type": "code",
   "execution_count": 196,
   "id": "ac41252f",
   "metadata": {},
   "outputs": [],
   "source": [
    "from pyspark.sql import SparkSession\n",
    "from pyspark.sql.functions import count, when, col, length, regexp_replace\n",
    "from pyspark.sql.types import IntegerType, BooleanType, StringType"
   ]
  },
  {
   "cell_type": "code",
   "execution_count": 197,
   "id": "2ab97899",
   "metadata": {},
   "outputs": [
    {
     "data": {
      "text/html": [
       "\n",
       "            <div>\n",
       "                <p><b>SparkSession - in-memory</b></p>\n",
       "                \n",
       "        <div>\n",
       "            <p><b>SparkContext</b></p>\n",
       "\n",
       "            <p><a href=\"http://DESKTOP-B4I5JT1:4040\">Spark UI</a></p>\n",
       "\n",
       "            <dl>\n",
       "              <dt>Version</dt>\n",
       "                <dd><code>v3.5.0</code></dd>\n",
       "              <dt>Master</dt>\n",
       "                <dd><code>local[*]</code></dd>\n",
       "              <dt>AppName</dt>\n",
       "                <dd><code>URLs_mining</code></dd>\n",
       "            </dl>\n",
       "        </div>\n",
       "        \n",
       "            </div>\n",
       "        "
      ],
      "text/plain": [
       "<pyspark.sql.session.SparkSession at 0x18234c792a0>"
      ]
     },
     "execution_count": 197,
     "metadata": {},
     "output_type": "execute_result"
    }
   ],
   "source": [
    "spark = SparkSession.builder.appName('URLs_mining').getOrCreate()\n",
    "spark"
   ]
  },
  {
   "cell_type": "code",
   "execution_count": 198,
   "id": "8b3e2a52",
   "metadata": {},
   "outputs": [
    {
     "name": "stdout",
     "output_type": "stream",
     "text": [
      "+--------------------+----------+\n",
      "|                 url|      type|\n",
      "+--------------------+----------+\n",
      "|    br-icloud.com.br|  phishing|\n",
      "|mp3raid.com/music...|    benign|\n",
      "|bopsecrets.org/re...|    benign|\n",
      "|http://www.garage...|defacement|\n",
      "|http://adventure-...|defacement|\n",
      "|http://buzzfil.ne...|    benign|\n",
      "|espn.go.com/nba/p...|    benign|\n",
      "|yourbittorrent.co...|    benign|\n",
      "|http://www.pashmi...|defacement|\n",
      "|allmusic.com/albu...|    benign|\n",
      "|corporationwiki.c...|    benign|\n",
      "|http://www.ikenmi...|defacement|\n",
      "|myspace.com/video...|    benign|\n",
      "|http://www.lebens...|defacement|\n",
      "|http://www.szabad...|defacement|\n",
      "|http://larcadelca...|defacement|\n",
      "|quickfacts.census...|    benign|\n",
      "|nugget.ca/Article...|    benign|\n",
      "|uk.linkedin.com/p...|    benign|\n",
      "|http://www.vnic.c...|defacement|\n",
      "+--------------------+----------+\n",
      "only showing top 20 rows\n",
      "\n"
     ]
    }
   ],
   "source": [
    "# Read the CSV file into a DataFrame\n",
    "data = spark.read.csv(\"malicious_urls.csv\", header=True, inferSchema=True)\n",
    "\n",
    "# Show the first few rows of the DataFrame\n",
    "data.show()"
   ]
  },
  {
   "cell_type": "code",
   "execution_count": 199,
   "id": "cb61133b",
   "metadata": {},
   "outputs": [
    {
     "name": "stdout",
     "output_type": "stream",
     "text": [
      "+--------------------+------+\n",
      "|                type| count|\n",
      "+--------------------+------+\n",
      "|              benign|428103|\n",
      "|          defacement| 96457|\n",
      "|            phishing| 94108|\n",
      "|             malware| 32520|\n",
      "|                NULL|    15|\n",
      "|                \u0015Ð\u001a\u001f|     1|\n",
      "|\u0010\u0011PhµW\u0011\\v;XyOy...|     1|\n",
      "|cÔ",
      "¡æ>1\\bHÇÕ\u001bd...|     1|\n",
      "|                spam| 12000|\n",
      "+--------------------+------+\n",
      "\n"
     ]
    }
   ],
   "source": [
    "data.groupBy(\"type\").count().show()"
   ]
  },
  {
   "cell_type": "markdown",
   "id": "8752caab",
   "metadata": {},
   "source": [
    "## Data pre-processing"
   ]
  },
  {
   "cell_type": "code",
   "execution_count": 200,
   "id": "72d65a72",
   "metadata": {},
   "outputs": [
    {
     "name": "stdout",
     "output_type": "stream",
     "text": [
      "+--------------------+------+\n",
      "|                type| count|\n",
      "+--------------------+------+\n",
      "|                spam| 11921|\n",
      "|              benign|428080|\n",
      "|          defacement| 95308|\n",
      "|            phishing| 94083|\n",
      "|             malware| 23645|\n",
      "|                \u0015Ð\u001a\u001f|     1|\n",
      "|\u0010\u0011PhµW\u0011\\v;XyOy...|     1|\n",
      "|cÔ",
      "¡æ>1\\bHÇÕ\u001bd...|     1|\n",
      "+--------------------+------+\n",
      "\n"
     ]
    }
   ],
   "source": [
    "data = data.dropDuplicates([\"url\"])\n",
    "data = data.na.drop()\n",
    "\n",
    "data.groupBy(\"type\").count().show()"
   ]
  },
  {
   "cell_type": "code",
   "execution_count": 201,
   "id": "b8abcc25",
   "metadata": {},
   "outputs": [
    {
     "name": "stdout",
     "output_type": "stream",
     "text": [
      "+----------+------+\n",
      "|      type| count|\n",
      "+----------+------+\n",
      "|      spam| 11921|\n",
      "|    benign|428080|\n",
      "|defacement| 95308|\n",
      "|  phishing| 94083|\n",
      "|   malware| 23645|\n",
      "+----------+------+\n",
      "\n"
     ]
    }
   ],
   "source": [
    "data = data.filter(col(\"type\").rlike(r'^[ -~]+$'))\n",
    "data.groupBy(\"type\").count().show()"
   ]
  },
  {
   "cell_type": "code",
   "execution_count": 202,
   "id": "b4840e8f",
   "metadata": {},
   "outputs": [
    {
     "name": "stdout",
     "output_type": "stream",
     "text": [
      "+--------------------+--------+--------+\n",
      "|                 url|    type|url_type|\n",
      "+--------------------+--------+--------+\n",
      "|   \u0010H\\vÖË\u001c",
      "]\u001ft¹[ÈöýE|phishing|       1|\n",
      "|\u0013^o\u0014ð]Â|¬|hõElò...|phishing|       1|\n",
      "|\"½\u0013<+U\u001f\u0012½¹1\\f[...|phishing|       1|\n",
      "|\"äÕ3ñºT-\\f\u0011TÖGÑîÊ...|phishing|       1|\n",
      "|\"ë\u0003Ël×uÏB'JI¨GÙn\"...|phishing|       1|\n",
      "|'118bm.com/images...|  benign|       0|\n",
      "|'1pcables-inox.co...|  benign|       0|\n",
      "|'9d345009-a-62cb3...|  benign|       0|\n",
      "|'9d345009-a-62cb3...|  benign|       0|\n",
      "|'9d345009-a-62cb3...|  benign|       0|\n",
      "|'9d345009-a-62cb3...|  benign|       0|\n",
      "|'9d345009-a-62cb3...|  benign|       0|\n",
      "|'9d345009-a-62cb3...|  benign|       0|\n",
      "|'9d345009-a-62cb3...|  benign|       0|\n",
      "|'9d345009-a-62cb3...|  benign|       0|\n",
      "|'9d345009-a-62cb3...|  benign|       0|\n",
      "|'9d345009-a-62cb3...|  benign|       0|\n",
      "|'9d345009-a-62cb3...|  benign|       0|\n",
      "|'9d345009-a-62cb3...|  benign|       0|\n",
      "|'9d345009-a-62cb3...|  benign|       0|\n",
      "+--------------------+--------+--------+\n",
      "only showing top 20 rows\n",
      "\n"
     ]
    }
   ],
   "source": [
    "data = data.withColumn(\"url_type\", when(data[\"type\"].contains(\"benign\"), 0).otherwise(1))\n",
    "#data = data.drop(\"type\")\n",
    "data.show()"
   ]
  },
  {
   "cell_type": "code",
   "execution_count": 203,
   "id": "6631acee",
   "metadata": {},
   "outputs": [
    {
     "name": "stdout",
     "output_type": "stream",
     "text": [
      "+--------------------+------+--------+\n",
      "|                 url|  type|url_type|\n",
      "+--------------------+------+--------+\n",
      "|'118bm.com/images...|benign|       0|\n",
      "|'1pcables-inox.co...|benign|       0|\n",
      "|'9d345009-a-62cb3...|benign|       0|\n",
      "|'9d345009-a-62cb3...|benign|       0|\n",
      "|'9d345009-a-62cb3...|benign|       0|\n",
      "|'9d345009-a-62cb3...|benign|       0|\n",
      "|'9d345009-a-62cb3...|benign|       0|\n",
      "|'9d345009-a-62cb3...|benign|       0|\n",
      "|'9d345009-a-62cb3...|benign|       0|\n",
      "|'9d345009-a-62cb3...|benign|       0|\n",
      "|'9d345009-a-62cb3...|benign|       0|\n",
      "|'9d345009-a-62cb3...|benign|       0|\n",
      "|'9d345009-a-62cb3...|benign|       0|\n",
      "|'9d345009-a-62cb3...|benign|       0|\n",
      "|'9d345009-a-62cb3...|benign|       0|\n",
      "|'9d345009-a-62cb3...|benign|       0|\n",
      "|'9d345009-a-62cb3...|benign|       0|\n",
      "|'9d345009-a-62cb3...|benign|       0|\n",
      "|'9d345009-a-62cb3...|benign|       0|\n",
      "|'9d345009-a-62cb3...|benign|       0|\n",
      "+--------------------+------+--------+\n",
      "only showing top 20 rows\n",
      "\n"
     ]
    }
   ],
   "source": [
    "data = data.filter(col(\"url\").rlike(r'^[ -~]+$'))\n",
    "data.show()"
   ]
  },
  {
   "cell_type": "code",
   "execution_count": 204,
   "id": "89ccec7e",
   "metadata": {},
   "outputs": [
    {
     "name": "stdout",
     "output_type": "stream",
     "text": [
      "+--------+------+\n",
      "|url_type| count|\n",
      "+--------+------+\n",
      "|       1|224323|\n",
      "|       0|427801|\n",
      "+--------+------+\n",
      "\n"
     ]
    }
   ],
   "source": [
    "data.groupBy(\"url_type\").count().show()"
   ]
  },
  {
   "cell_type": "code",
   "execution_count": 205,
   "id": "d5f838e4",
   "metadata": {},
   "outputs": [
    {
     "name": "stdout",
     "output_type": "stream",
     "text": [
      "+--------+------+\n",
      "|url_type| count|\n",
      "+--------+------+\n",
      "|       1|100473|\n",
      "|       0|100153|\n",
      "+--------+------+\n",
      "\n"
     ]
    }
   ],
   "source": [
    "sample_size = 100000\n",
    "\n",
    "data = data.sampleBy(\"url_type\", fractions={0 : sample_size/data.filter(col(\"url_type\") == 0).count(),\n",
    "                                               1 : sample_size/data.filter(col(\"url_type\") == 1).count()}, seed=42)\n",
    "data.groupBy(\"url_type\").count().show()"
   ]
  },
  {
   "cell_type": "markdown",
   "id": "a4d99970",
   "metadata": {},
   "source": [
    "## Features engineering"
   ]
  },
  {
   "cell_type": "code",
   "execution_count": 206,
   "id": "39f30cb5",
   "metadata": {},
   "outputs": [],
   "source": [
    "data = data.withColumn(\"url_length\", length(\"url\"))\n",
    "data = data.withColumn(\"digit_count\", length(regexp_replace(col(\"url\"), \"[^0-9]\", \"\")))\n",
    "data = data.withColumn(\"ampersand_count\", length(regexp_replace(col(\"url\"), \"[^&]\", \"\")))\n",
    "data = data.withColumn(\"underscore_count\", length(regexp_replace(col(\"url\"), \"[^_]\", \"\")))\n",
    "data = data.withColumn(\"dot_count\", length(regexp_replace(col(\"url\"), \"[^.]\", \"\")))\n",
    "data = data.withColumn(\"percent_count\", length(regexp_replace(col(\"url\"), \"[^%]\", \"\")))\n",
    "data = data.withColumn(\"at_count\", length(regexp_replace(col(\"url\"), \"[^@]\", \"\")))\n",
    "data = data.withColumn(\"tilde_count\", length(regexp_replace(col(\"url\"), \"[^~]\", \"\")))\n",
    "data = data.withColumn(\"hash_count\", length(regexp_replace(col(\"url\"), \"[^#]\", \"\")))\n",
    "data = data.withColumn(\"has_https\", when(data[\"url\"].startswith(\"https\"), 1).otherwise(0))\n",
    "data = data.withColumn(\"has_http\", when(data[\"url\"].startswith(\"http\"), 1).otherwise(0))\n",
    "data = data.withColumn(\"starts_with_digit\", when(data[\"url\"].rlike(\"^[0-9]\"), 1).otherwise(0))"
   ]
  },
  {
   "cell_type": "code",
   "execution_count": 207,
   "id": "913d9be4",
   "metadata": {},
   "outputs": [
    {
     "name": "stdout",
     "output_type": "stream",
     "text": [
      "+--------------------+------+--------+----------+-----------+---------------+----------------+---------+-------------+--------+-----------+----------+---------+--------+-----------------+\n",
      "|                 url|  type|url_type|url_length|digit_count|ampersand_count|underscore_count|dot_count|percent_count|at_count|tilde_count|hash_count|has_https|has_http|starts_with_digit|\n",
      "+--------------------+------+--------+----------+-----------+---------------+----------------+---------+-------------+--------+-----------+----------+---------+--------+-----------------+\n",
      "|'9d345009-a-62cb3...|benign|       0|       363|         46|              2|               1|        3|            3|       0|          0|         0|        0|       0|                0|\n",
      "|'9d345009-a-62cb3...|benign|       0|       371|         51|              2|               6|        3|            3|       0|          0|         0|        0|       0|                0|\n",
      "|'9d345009-a-62cb3...|benign|       0|       371|         50|              2|               2|        3|            3|       0|          0|         0|        0|       0|                0|\n",
      "|'9d345009-a-62cb3...|benign|       0|       371|         55|              2|               5|        3|            3|       0|          0|         0|        0|       0|                0|\n",
      "|'9d345009-a-62cb3...|benign|       0|       371|         44|              2|               1|        3|            3|       0|          0|         0|        0|       0|                0|\n",
      "|'9d345009-a-62cb3...|benign|       0|       371|         54|              2|               1|        3|            3|       0|          0|         0|        0|       0|                0|\n",
      "|'9d345009-a-62cb3...|benign|       0|       371|         46|              2|               5|        3|            3|       0|          0|         0|        0|       0|                0|\n",
      "|'9d345009-a-62cb3...|benign|       0|       371|         56|              2|               4|        3|            3|       0|          0|         0|        0|       0|                0|\n",
      "|'9d345009-a-62cb3...|benign|       0|       371|         54|              2|               3|        3|            3|       0|          0|         0|        0|       0|                0|\n",
      "|'9d345009-a-62cb3...|benign|       0|       371|         51|              2|               2|        3|            3|       0|          0|         0|        0|       0|                0|\n",
      "|'9d345009-a-62cb3...|benign|       0|       371|         36|              2|               4|        3|            3|       0|          0|         0|        0|       0|                0|\n",
      "|'9d345009-a-62cb3...|benign|       0|       371|         53|              2|               1|        3|            3|       0|          0|         0|        0|       0|                0|\n",
      "|'9d345009-a-62cb3...|benign|       0|       371|         50|              2|               5|        3|            3|       0|          0|         0|        0|       0|                0|\n",
      "|'9d345009-a-62cb3...|benign|       0|       371|         57|              2|               1|        3|            3|       0|          0|         0|        0|       0|                0|\n",
      "|'9d345009-a-62cb3...|benign|       0|       371|         44|              2|               7|        3|            3|       0|          0|         0|        0|       0|                0|\n",
      "|'9d345009-a-62cb3...|benign|       0|       371|         50|              2|               1|        3|            3|       0|          0|         0|        0|       0|                0|\n",
      "|'9d345009-a-62cb3...|benign|       0|       371|         50|              2|               5|        3|            3|       0|          0|         0|        0|       0|                0|\n",
      "|'9d345009-a-62cb3...|benign|       0|       371|         44|              2|               3|        3|            3|       0|          0|         0|        0|       0|                0|\n",
      "|'9d345009-a-62cb3...|benign|       0|       371|         56|              2|               3|        3|            3|       0|          0|         0|        0|       0|                0|\n",
      "|'9d345009-a-62cb3...|benign|       0|       363|         49|              2|               4|        3|            3|       0|          0|         0|        0|       0|                0|\n",
      "+--------------------+------+--------+----------+-----------+---------------+----------------+---------+-------------+--------+-----------+----------+---------+--------+-----------------+\n",
      "only showing top 20 rows\n",
      "\n"
     ]
    }
   ],
   "source": [
    "data.show()"
   ]
  },
  {
   "cell_type": "markdown",
   "id": "8cc53e46",
   "metadata": {},
   "source": [
    "### Features selection"
   ]
  }
 ],
 "metadata": {
  "kernelspec": {
   "display_name": "Python 3 (ipykernel)",
   "language": "python",
   "name": "python3"
  },
  "language_info": {
   "codemirror_mode": {
    "name": "ipython",
    "version": 3
   },
   "file_extension": ".py",
   "mimetype": "text/x-python",
   "name": "python",
   "nbconvert_exporter": "python",
   "pygments_lexer": "ipython3",
   "version": "3.10.4"
  }
 },
 "nbformat": 4,
 "nbformat_minor": 5
}
