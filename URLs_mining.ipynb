{
 "cells": [
  {
   "cell_type": "code",
   "execution_count": 70,
   "id": "ac41252f",
   "metadata": {},
   "outputs": [],
   "source": [
    "from pyspark.sql import SparkSession\n",
    "from pyspark.sql.functions import count, when, col, length, regexp_replace\n",
    "from pyspark.sql.types import IntegerType, BooleanType, StringType\n",
    "from pyspark.ml.feature import VectorAssembler, MinMaxScaler, PCA, VarianceThresholdSelector\n",
    "from pyspark.ml.classification import RandomForestClassifier, LinearSVC, GBTClassifier, LogisticRegression\n",
    "from pyspark.ml.evaluation import MulticlassClassificationEvaluator\n",
    "from pyspark.ml.tuning import CrossValidator\n",
    "from pyspark.ml import Pipeline\n",
    "from pyspark.ml.stat import Correlation\n",
    "\n",
    "from concurrent.futures import ThreadPoolExecutor"
   ]
  },
  {
   "cell_type": "code",
   "execution_count": 71,
   "id": "e7c55434",
   "metadata": {},
   "outputs": [],
   "source": [
    "import numpy as np\n",
    "import pandas as pd\n",
    "\n",
    "# Graphics Libs\n",
    "import matplotlib.pyplot as plt\n",
    "%matplotlib inline\n",
    "plt.rcParams['figure.figsize'] = 18, 8\n",
    "import seaborn as sns\n",
    "\n",
    "import warnings\n",
    "warnings.filterwarnings(\"ignore\")"
   ]
  },
  {
   "cell_type": "markdown",
   "id": "f9aae929",
   "metadata": {},
   "source": [
    "Initialising the spark session"
   ]
  },
  {
   "cell_type": "code",
   "execution_count": 72,
   "id": "2ab97899",
   "metadata": {},
   "outputs": [
    {
     "data": {
      "text/html": [
       "\n",
       "            <div>\n",
       "                <p><b>SparkSession - in-memory</b></p>\n",
       "                \n",
       "        <div>\n",
       "            <p><b>SparkContext</b></p>\n",
       "\n",
       "            <p><a href=\"http://DESKTOP-B4I5JT1:4040\">Spark UI</a></p>\n",
       "\n",
       "            <dl>\n",
       "              <dt>Version</dt>\n",
       "                <dd><code>v3.5.0</code></dd>\n",
       "              <dt>Master</dt>\n",
       "                <dd><code>local[*]</code></dd>\n",
       "              <dt>AppName</dt>\n",
       "                <dd><code>URLs_mining</code></dd>\n",
       "            </dl>\n",
       "        </div>\n",
       "        \n",
       "            </div>\n",
       "        "
      ],
      "text/plain": [
       "<pyspark.sql.session.SparkSession at 0x2afe15ab940>"
      ]
     },
     "execution_count": 72,
     "metadata": {},
     "output_type": "execute_result"
    }
   ],
   "source": [
    "spark = SparkSession.builder.appName('URLs_mining').getOrCreate()\n",
    "spark"
   ]
  },
  {
   "cell_type": "markdown",
   "id": "35dc5383",
   "metadata": {},
   "source": [
    "Show the original malicious_urls dataset"
   ]
  },
  {
   "cell_type": "code",
   "execution_count": 73,
   "id": "8b3e2a52",
   "metadata": {
    "scrolled": false
   },
   "outputs": [
    {
     "name": "stdout",
     "output_type": "stream",
     "text": [
      "+--------------------+----------+\n",
      "|                 url|      type|\n",
      "+--------------------+----------+\n",
      "|    br-icloud.com.br|  phishing|\n",
      "|mp3raid.com/music...|    benign|\n",
      "|bopsecrets.org/re...|    benign|\n",
      "|http://www.garage...|defacement|\n",
      "|http://adventure-...|defacement|\n",
      "|http://buzzfil.ne...|    benign|\n",
      "|espn.go.com/nba/p...|    benign|\n",
      "|yourbittorrent.co...|    benign|\n",
      "|http://www.pashmi...|defacement|\n",
      "|allmusic.com/albu...|    benign|\n",
      "|corporationwiki.c...|    benign|\n",
      "|http://www.ikenmi...|defacement|\n",
      "|myspace.com/video...|    benign|\n",
      "|http://www.lebens...|defacement|\n",
      "|http://www.szabad...|defacement|\n",
      "|http://larcadelca...|defacement|\n",
      "|quickfacts.census...|    benign|\n",
      "|nugget.ca/Article...|    benign|\n",
      "|uk.linkedin.com/p...|    benign|\n",
      "|http://www.vnic.c...|defacement|\n",
      "+--------------------+----------+\n",
      "only showing top 20 rows\n",
      "\n"
     ]
    }
   ],
   "source": [
    "# Read the CSV file into a DataFrame\n",
    "data = spark.read.csv(\"malicious_urls.csv\", header=True, inferSchema=True)\n",
    "\n",
    "# Show the first few rows of the DataFrame\n",
    "data.show()"
   ]
  },
  {
   "cell_type": "markdown",
   "id": "8e1f78fa",
   "metadata": {},
   "source": [
    "Count of every type of URL in the dataset"
   ]
  },
  {
   "cell_type": "code",
   "execution_count": 74,
   "id": "cb61133b",
   "metadata": {},
   "outputs": [
    {
     "name": "stdout",
     "output_type": "stream",
     "text": [
      "+--------------------+------+\n",
      "|                type| count|\n",
      "+--------------------+------+\n",
      "|              benign|428103|\n",
      "|          defacement| 96457|\n",
      "|            phishing| 94108|\n",
      "|             malware| 32520|\n",
      "|                NULL|    15|\n",
      "|                \u0015Ð\u001a\u001f|     1|\n",
      "|\u0010\u0011PhµW\u0011\\v;XyOy...|     1|\n",
      "|cÔ",
      "¡æ>1\\bHÇÕ\u001bd...|     1|\n",
      "|                spam| 12000|\n",
      "+--------------------+------+\n",
      "\n"
     ]
    }
   ],
   "source": [
    "data.groupBy(\"type\").count().show()"
   ]
  },
  {
   "cell_type": "markdown",
   "id": "8752caab",
   "metadata": {},
   "source": [
    "## Data pre-processing"
   ]
  },
  {
   "cell_type": "markdown",
   "id": "35a7034d",
   "metadata": {},
   "source": [
    "Drop duplicates and count of every type of URL in the dataset"
   ]
  },
  {
   "cell_type": "code",
   "execution_count": 75,
   "id": "72d65a72",
   "metadata": {},
   "outputs": [
    {
     "name": "stdout",
     "output_type": "stream",
     "text": [
      "+--------------------+------+\n",
      "|                type| count|\n",
      "+--------------------+------+\n",
      "|                spam| 11921|\n",
      "|              benign|428080|\n",
      "|          defacement| 95308|\n",
      "|            phishing| 94083|\n",
      "|             malware| 23645|\n",
      "|                \u0015Ð\u001a\u001f|     1|\n",
      "|\u0010\u0011PhµW\u0011\\v;XyOy...|     1|\n",
      "|cÔ",
      "¡æ>1\\bHÇÕ\u001bd...|     1|\n",
      "+--------------------+------+\n",
      "\n"
     ]
    }
   ],
   "source": [
    "data = data.dropDuplicates([\"url\"])\n",
    "data = data.na.drop()\n",
    "\n",
    "data.groupBy(\"type\").count().show()"
   ]
  },
  {
   "cell_type": "markdown",
   "id": "5b8a559d",
   "metadata": {},
   "source": [
    "Removing URLs whose type is not in ASCII"
   ]
  },
  {
   "cell_type": "code",
   "execution_count": 76,
   "id": "b8abcc25",
   "metadata": {},
   "outputs": [
    {
     "name": "stdout",
     "output_type": "stream",
     "text": [
      "+----------+------+\n",
      "|      type| count|\n",
      "+----------+------+\n",
      "|      spam| 11921|\n",
      "|    benign|428080|\n",
      "|defacement| 95308|\n",
      "|  phishing| 94083|\n",
      "|   malware| 23645|\n",
      "+----------+------+\n",
      "\n"
     ]
    }
   ],
   "source": [
    "data = data.filter(col(\"type\").rlike(r'^[ -~]+$'))\n",
    "data.groupBy(\"type\").count().show()"
   ]
  },
  {
   "cell_type": "code",
   "execution_count": 77,
   "id": "c884c8b8",
   "metadata": {},
   "outputs": [],
   "source": [
    "# convert spark dataframe to pandas dataframe\n",
    "pd_data = data.toPandas()"
   ]
  },
  {
   "cell_type": "markdown",
   "id": "cfea5979",
   "metadata": {},
   "source": [
    "Visualisation in a bar graph of the various URL types in the dataset"
   ]
  },
  {
   "cell_type": "code",
   "execution_count": 78,
   "id": "cabe40b5",
   "metadata": {},
   "outputs": [
    {
     "data": {
      "image/png": "[encoded data removed]",
      "text/plain": [
       "<Figure size 1296x576 with 1 Axes>"
      ]
     },
     "metadata": {
      "needs_background": "light"
     },
     "output_type": "display_data"
    }
   ],
   "source": [
    "count = pd_data.type.value_counts()\n",
    "bar_labels = [count.index[i].capitalize()+' (n. ' + str(count[i]) + ')' for i in range(len(count.index))]\n",
    "bars = plt.bar(count.index, height=count, label=bar_labels, color=['#8fce00', '#0092ff', '#ff8200', '#ff1100', '#ffcd34'])\n",
    "\n",
    "for rect in bars:\n",
    "    height = rect.get_height()\n",
    "    plt.text(rect.get_x() + rect.get_width() / 2.0, height, f'{height:.0f} ({height/len(pd_data)*100:.2f}%)', ha='center', va='bottom')\n",
    "\n",
    "plt.xlabel('LABELS', labelpad=20)\n",
    "plt.ylabel('COUNT', labelpad=20)\n",
    "plt.title('EXPLORING DATASET')\n",
    "plt.show()"
   ]
  },
  {
   "cell_type": "markdown",
   "id": "692d428a",
   "metadata": {},
   "source": [
    "I make a mapping: benign urls become type 0 while the other types of urls i.e. defacement, phishing, malware, spam become type 1"
   ]
  },
  {
   "cell_type": "code",
   "execution_count": 79,
   "id": "b4840e8f",
   "metadata": {},
   "outputs": [
    {
     "name": "stdout",
     "output_type": "stream",
     "text": [
      "+--------------------+--------+--------+\n",
      "|                 url|    type|url_type|\n",
      "+--------------------+--------+--------+\n",
      "|   \u0010H\\vÖË\u001c",
      "]\u001ft¹[ÈöýE|phishing|       1|\n",
      "|\u0013^o\u0014ð]Â|¬|hõElò...|phishing|       1|\n",
      "|\"½\u0013<+U\u001f\u0012½¹1\\f[...|phishing|       1|\n",
      "|\"äÕ3ñºT-\\f\u0011TÖGÑîÊ...|phishing|       1|\n",
      "|\"ë\u0003Ël×uÏB'JI¨GÙn\"...|phishing|       1|\n",
      "|'118bm.com/images...|  benign|       0|\n",
      "|'1pcables-inox.co...|  benign|       0|\n",
      "|'9d345009-a-62cb3...|  benign|       0|\n",
      "|'9d345009-a-62cb3...|  benign|       0|\n",
      "|'9d345009-a-62cb3...|  benign|       0|\n",
      "|'9d345009-a-62cb3...|  benign|       0|\n",
      "|'9d345009-a-62cb3...|  benign|       0|\n",
      "|'9d345009-a-62cb3...|  benign|       0|\n",
      "|'9d345009-a-62cb3...|  benign|       0|\n",
      "|'9d345009-a-62cb3...|  benign|       0|\n",
      "|'9d345009-a-62cb3...|  benign|       0|\n",
      "|'9d345009-a-62cb3...|  benign|       0|\n",
      "|'9d345009-a-62cb3...|  benign|       0|\n",
      "|'9d345009-a-62cb3...|  benign|       0|\n",
      "|'9d345009-a-62cb3...|  benign|       0|\n",
      "+--------------------+--------+--------+\n",
      "only showing top 20 rows\n",
      "\n"
     ]
    }
   ],
   "source": [
    "data = data.withColumn(\"url_type\", when(data[\"type\"].contains(\"benign\"), 0).otherwise(1))\n",
    "#data = data.drop(\"type\")\n",
    "data.show()"
   ]
  },
  {
   "cell_type": "markdown",
   "id": "ed40f746",
   "metadata": {},
   "source": [
    "Selecting URLs that contain only ASCII characters"
   ]
  },
  {
   "cell_type": "code",
   "execution_count": 80,
   "id": "6631acee",
   "metadata": {},
   "outputs": [
    {
     "name": "stdout",
     "output_type": "stream",
     "text": [
      "+--------------------+------+--------+\n",
      "|                 url|  type|url_type|\n",
      "+--------------------+------+--------+\n",
      "|'118bm.com/images...|benign|       0|\n",
      "|'1pcables-inox.co...|benign|       0|\n",
      "|'9d345009-a-62cb3...|benign|       0|\n",
      "|'9d345009-a-62cb3...|benign|       0|\n",
      "|'9d345009-a-62cb3...|benign|       0|\n",
      "|'9d345009-a-62cb3...|benign|       0|\n",
      "|'9d345009-a-62cb3...|benign|       0|\n",
      "|'9d345009-a-62cb3...|benign|       0|\n",
      "|'9d345009-a-62cb3...|benign|       0|\n",
      "|'9d345009-a-62cb3...|benign|       0|\n",
      "|'9d345009-a-62cb3...|benign|       0|\n",
      "|'9d345009-a-62cb3...|benign|       0|\n",
      "|'9d345009-a-62cb3...|benign|       0|\n",
      "|'9d345009-a-62cb3...|benign|       0|\n",
      "|'9d345009-a-62cb3...|benign|       0|\n",
      "|'9d345009-a-62cb3...|benign|       0|\n",
      "|'9d345009-a-62cb3...|benign|       0|\n",
      "|'9d345009-a-62cb3...|benign|       0|\n",
      "|'9d345009-a-62cb3...|benign|       0|\n",
      "|'9d345009-a-62cb3...|benign|       0|\n",
      "+--------------------+------+--------+\n",
      "only showing top 20 rows\n",
      "\n"
     ]
    }
   ],
   "source": [
    "data = data.filter(col(\"url\").rlike(r'^[ -~]+$'))\n",
    "data.show()"
   ]
  },
  {
   "cell_type": "markdown",
   "id": "d448603f",
   "metadata": {},
   "source": [
    "Making a count of selected URLs"
   ]
  },
  {
   "cell_type": "code",
   "execution_count": 81,
   "id": "89ccec7e",
   "metadata": {},
   "outputs": [
    {
     "name": "stdout",
     "output_type": "stream",
     "text": [
      "+--------+------+\n",
      "|url_type| count|\n",
      "+--------+------+\n",
      "|       1|224323|\n",
      "|       0|427801|\n",
      "+--------+------+\n",
      "\n"
     ]
    }
   ],
   "source": [
    "data.groupBy(\"url_type\").count().show()"
   ]
  },
  {
   "cell_type": "markdown",
   "id": "e5378466",
   "metadata": {},
   "source": [
    "Visualisation in a bar graph of the two URL types in the dataset"
   ]
  },
  {
   "cell_type": "code",
   "execution_count": 82,
   "id": "a6922220",
   "metadata": {},
   "outputs": [
    {
     "data": {
      "image/png": "[encoded data removed]",
      "text/plain": [
       "<Figure size 1296x576 with 1 Axes>"
      ]
     },
     "metadata": {
      "needs_background": "light"
     },
     "output_type": "display_data"
    }
   ],
   "source": [
    "pd_data = data.toPandas()\n",
    "count = pd_data.type.value_counts()\n",
    "\n",
    "benign = count[0]\n",
    "malicious = len(pd_data) - benign\n",
    "bar_labels = ['Benign (n.'+str(benign)+')', 'Malicious (n.'+str(malicious)+')']\n",
    "bars = plt.bar(['benign', 'malicious'], height=[benign, malicious], label=bar_labels, color=['#8fce00', '#ff1100'])\n",
    "\n",
    "for rect in bars:\n",
    "    height = rect.get_height()\n",
    "    plt.text(rect.get_x() + rect.get_width() / 2.0, height, f'{height:.0f} ({height/len(pd_data)*100:.2f}%)', ha='center', va='bottom')\n",
    "\n",
    "plt.xlabel('CLASSES', labelpad=20)\n",
    "plt.ylabel('COUNT', labelpad=20)\n",
    "plt.title('EXPLORING DATASET')\n",
    "plt.show()"
   ]
  },
  {
   "cell_type": "markdown",
   "id": "d056a925",
   "metadata": {},
   "source": [
    "Making a sample of 100.000 URLs for each type of URL"
   ]
  },
  {
   "cell_type": "code",
   "execution_count": 83,
   "id": "d5f838e4",
   "metadata": {},
   "outputs": [
    {
     "name": "stdout",
     "output_type": "stream",
     "text": [
      "+--------+------+\n",
      "|url_type| count|\n",
      "+--------+------+\n",
      "|       1|100473|\n",
      "|       0|100153|\n",
      "+--------+------+\n",
      "\n"
     ]
    }
   ],
   "source": [
    "sample_size = 100000\n",
    "\n",
    "data = data.sampleBy(\"url_type\", fractions={0 : sample_size/data.filter(col(\"url_type\") == 0).count(),\n",
    "                                               1 : sample_size/data.filter(col(\"url_type\") == 1).count()}, seed=42)\n",
    "data.groupBy(\"url_type\").count().show()"
   ]
  },
  {
   "cell_type": "markdown",
   "id": "59ff26f8",
   "metadata": {},
   "source": [
    "Visualization in a bar chart of sampling"
   ]
  },
  {
   "cell_type": "code",
   "execution_count": 84,
   "id": "e5c0b8c6",
   "metadata": {},
   "outputs": [
    {
     "data": {
      "image/png": "[encoded data removed]",
      "text/plain": [
       "<Figure size 1296x576 with 1 Axes>"
      ]
     },
     "metadata": {
      "needs_background": "light"
     },
     "output_type": "display_data"
    }
   ],
   "source": [
    "pd_data = data.toPandas()\n",
    "count = pd_data.type.value_counts()\n",
    "\n",
    "benign = count[0]\n",
    "malicious = len(pd_data) - benign\n",
    "bar_labels = ['Benign (n.'+str(benign)+')', 'Malicious (n.'+str(malicious)+')']\n",
    "bars = plt.bar(['benign', 'malicious'], height=[benign, malicious], label=bar_labels, color=['#8fce00', '#ff1100'])\n",
    "\n",
    "for rect in bars:\n",
    "    height = rect.get_height()\n",
    "    plt.text(rect.get_x() + rect.get_width() / 2.0, height, f'{height:.0f} ({height/len(pd_data)*100:.2f}%)', ha='center', va='bottom')\n",
    "\n",
    "plt.xlabel('CLASSES', labelpad=20)\n",
    "plt.ylabel('COUNT', labelpad=20)\n",
    "plt.title('EXPLORING DATASET')\n",
    "plt.show()"
   ]
  },
  {
   "cell_type": "markdown",
   "id": "a4d99970",
   "metadata": {},
   "source": [
    "## Features engineering"
   ]
  },
  {
   "cell_type": "markdown",
   "id": "8b403b12",
   "metadata": {},
   "source": [
    "Starting from filtered and sampled URLs in the previous phase, in this phase there is the extraction of features like:\n",
    "- \"url_length\" : lenght of URL\n",
    "- \"digit_count\": number of digit characters in the URL\n",
    "- \"ampersand_count\": number of ampersand characters in the URL\n",
    "- \"dot_count\": number of dot characters in the URL\n",
    "- \"percent_count\": number of '%' characters in the URL\n",
    "- \"at_count\": number of '@' characters in the URL\n",
    "- \"tilde_count\": number of '~' characters in the URL\n",
    "- \"hash_count\": number of '#' characters in the URL\n",
    "- \"has_https\": checks if the URL starts with 'https'\n",
    "- \"has_http\": checks if the URL starts with 'http'\n",
    "- \"starts_with_digit\": checks if the URL starts with a digit "
   ]
  },
  {
   "cell_type": "code",
   "execution_count": 85,
   "id": "64b63701",
   "metadata": {},
   "outputs": [],
   "source": [
    "data = data.withColumn(\"url_length\", length(\"url\"))\n",
    "data = data.withColumn(\"digit_count\", length(regexp_replace(col(\"url\"), \"[^0-9]\", \"\")))\n",
    "data = data.withColumn(\"ampersand_count\", length(regexp_replace(col(\"url\"), \"[^&]\", \"\")))\n",
    "data = data.withColumn(\"underscore_count\", length(regexp_replace(col(\"url\"), \"[^_]\", \"\")))\n",
    "data = data.withColumn(\"dot_count\", length(regexp_replace(col(\"url\"), \"[^.]\", \"\")))\n",
    "data = data.withColumn(\"percent_count\", length(regexp_replace(col(\"url\"), \"[^%]\", \"\")))\n",
    "data = data.withColumn(\"at_count\", length(regexp_replace(col(\"url\"), \"[^@]\", \"\")))\n",
    "data = data.withColumn(\"tilde_count\", length(regexp_replace(col(\"url\"), \"[^~]\", \"\")))\n",
    "data = data.withColumn(\"hash_count\", length(regexp_replace(col(\"url\"), \"[^#]\", \"\")))\n",
    "data = data.withColumn(\"has_https\", when(data[\"url\"].startswith(\"https\"), 1).otherwise(0))\n",
    "data = data.withColumn(\"has_http\", when(data[\"url\"].startswith(\"http\"), 1).otherwise(0))\n",
    "data = data.withColumn(\"starts_with_digit\", when(data[\"url\"].rlike(\"^[0-9]\"), 1).otherwise(0))"
   ]
  },
  {
   "cell_type": "code",
   "execution_count": 86,
   "id": "3c4c485c",
   "metadata": {},
   "outputs": [
    {
     "name": "stdout",
     "output_type": "stream",
     "text": [
      "+--------------------+------+--------+----------+-----------+---------------+----------------+---------+-------------+--------+-----------+----------+---------+--------+-----------------+\n",
      "|                 url|  type|url_type|url_length|digit_count|ampersand_count|underscore_count|dot_count|percent_count|at_count|tilde_count|hash_count|has_https|has_http|starts_with_digit|\n",
      "+--------------------+------+--------+----------+-----------+---------------+----------------+---------+-------------+--------+-----------+----------+---------+--------+-----------------+\n",
      "|'9d345009-a-62cb3...|benign|       0|       363|         46|              2|               1|        3|            3|       0|          0|         0|        0|       0|                0|\n",
      "|'9d345009-a-62cb3...|benign|       0|       371|         51|              2|               6|        3|            3|       0|          0|         0|        0|       0|                0|\n",
      "|'9d345009-a-62cb3...|benign|       0|       371|         50|              2|               2|        3|            3|       0|          0|         0|        0|       0|                0|\n",
      "|'9d345009-a-62cb3...|benign|       0|       371|         55|              2|               5|        3|            3|       0|          0|         0|        0|       0|                0|\n",
      "|'9d345009-a-62cb3...|benign|       0|       371|         44|              2|               1|        3|            3|       0|          0|         0|        0|       0|                0|\n",
      "|'9d345009-a-62cb3...|benign|       0|       371|         54|              2|               1|        3|            3|       0|          0|         0|        0|       0|                0|\n",
      "|'9d345009-a-62cb3...|benign|       0|       371|         46|              2|               5|        3|            3|       0|          0|         0|        0|       0|                0|\n",
      "|'9d345009-a-62cb3...|benign|       0|       371|         56|              2|               4|        3|            3|       0|          0|         0|        0|       0|                0|\n",
      "|'9d345009-a-62cb3...|benign|       0|       371|         54|              2|               3|        3|            3|       0|          0|         0|        0|       0|                0|\n",
      "|'9d345009-a-62cb3...|benign|       0|       371|         51|              2|               2|        3|            3|       0|          0|         0|        0|       0|                0|\n",
      "|'9d345009-a-62cb3...|benign|       0|       371|         36|              2|               4|        3|            3|       0|          0|         0|        0|       0|                0|\n",
      "|'9d345009-a-62cb3...|benign|       0|       371|         53|              2|               1|        3|            3|       0|          0|         0|        0|       0|                0|\n",
      "|'9d345009-a-62cb3...|benign|       0|       371|         50|              2|               5|        3|            3|       0|          0|         0|        0|       0|                0|\n",
      "|'9d345009-a-62cb3...|benign|       0|       371|         57|              2|               1|        3|            3|       0|          0|         0|        0|       0|                0|\n",
      "|'9d345009-a-62cb3...|benign|       0|       371|         44|              2|               7|        3|            3|       0|          0|         0|        0|       0|                0|\n",
      "|'9d345009-a-62cb3...|benign|       0|       371|         50|              2|               1|        3|            3|       0|          0|         0|        0|       0|                0|\n",
      "|'9d345009-a-62cb3...|benign|       0|       371|         50|              2|               5|        3|            3|       0|          0|         0|        0|       0|                0|\n",
      "|'9d345009-a-62cb3...|benign|       0|       371|         44|              2|               3|        3|            3|       0|          0|         0|        0|       0|                0|\n",
      "|'9d345009-a-62cb3...|benign|       0|       371|         56|              2|               3|        3|            3|       0|          0|         0|        0|       0|                0|\n",
      "|'9d345009-a-62cb3...|benign|       0|       363|         49|              2|               4|        3|            3|       0|          0|         0|        0|       0|                0|\n",
      "+--------------------+------+--------+----------+-----------+---------------+----------------+---------+-------------+--------+-----------+----------+---------+--------+-----------------+\n",
      "only showing top 20 rows\n",
      "\n"
     ]
    }
   ],
   "source": [
    "data.show()"
   ]
  },
  {
   "cell_type": "markdown",
   "id": "7e8647d0",
   "metadata": {},
   "source": [
    "Visualization of the distribution of values for each continuos numerical feature"
   ]
  },
  {
   "cell_type": "code",
   "execution_count": 87,
   "id": "cc3dd3b9",
   "metadata": {},
   "outputs": [
    {
     "data": {
      "image/png": "[encoded data removed]",
      "text/plain": [
       "<Figure size 1080x864 with 9 Axes>"
      ]
     },
     "metadata": {
      "needs_background": "light"
     },
     "output_type": "display_data"
    }
   ],
   "source": [
    "columns_to_check = [\"url_length\", \"digit_count\", \"ampersand_count\", \"underscore_count\", \n",
    "                    \"dot_count\", \"percent_count\", \"at_count\", \"tilde_count\", \"hash_count\"]\n",
    "\n",
    "fig, axes = plt.subplots(nrows=3, ncols=3, figsize=(15, 12))\n",
    "fig.suptitle(\"Features values distribution\", y=1.02)\n",
    "\n",
    "for i, col_name in enumerate(columns_to_check):\n",
    "    row, col = divmod(i, 3)\n",
    "    sns.histplot(data.select(col_name).toPandas()[col_name], kde=True, ax=axes[row, col])\n",
    "    axes[row, col].set_title(f\"Distribution of {col_name}\")\n",
    "    axes[row, col].set_xlabel(col_name)\n",
    "    axes[row, col].set_ylabel(\"Frequency\")\n",
    "\n",
    "plt.tight_layout()\n",
    "plt.show()"
   ]
  },
  {
   "cell_type": "markdown",
   "id": "96e57718",
   "metadata": {},
   "source": [
    "### Features selection"
   ]
  },
  {
   "cell_type": "markdown",
   "id": "fe6bbb76",
   "metadata": {},
   "source": [
    "Dropping column type which contains strings"
   ]
  },
  {
   "cell_type": "code",
   "execution_count": 88,
   "id": "c9c12b7a",
   "metadata": {},
   "outputs": [
    {
     "data": {
      "text/plain": [
       "['url',\n",
       " 'url_type',\n",
       " 'url_length',\n",
       " 'digit_count',\n",
       " 'ampersand_count',\n",
       " 'underscore_count',\n",
       " 'dot_count',\n",
       " 'percent_count',\n",
       " 'at_count',\n",
       " 'tilde_count',\n",
       " 'hash_count',\n",
       " 'has_https',\n",
       " 'has_http',\n",
       " 'starts_with_digit']"
      ]
     },
     "execution_count": 88,
     "metadata": {},
     "output_type": "execute_result"
    }
   ],
   "source": [
    "data = data.drop(\"type\")\n",
    "data.columns"
   ]
  },
  {
   "cell_type": "markdown",
   "id": "51d63783",
   "metadata": {},
   "source": [
    "Putting in a list all the features to be joined in a vector using VectorAssembler"
   ]
  },
  {
   "cell_type": "code",
   "execution_count": 89,
   "id": "924cfdd1",
   "metadata": {},
   "outputs": [
    {
     "data": {
      "text/plain": [
       "12"
      ]
     },
     "execution_count": 89,
     "metadata": {},
     "output_type": "execute_result"
    }
   ],
   "source": [
    "feature_columns = [\n",
    "    \"url_length\",\n",
    "    \"digit_count\",\n",
    "    \"ampersand_count\",\n",
    "    \"underscore_count\",\n",
    "    \"dot_count\",\n",
    "    \"percent_count\",\n",
    "    \"at_count\",\n",
    "    \"tilde_count\",\n",
    "    \"hash_count\",\n",
    "    \"has_https\",\n",
    "    \"has_http\",\n",
    "    \"starts_with_digit\"\n",
    "]\n",
    "len(feature_columns)"
   ]
  },
  {
   "cell_type": "code",
   "execution_count": 90,
   "id": "47c7b18f",
   "metadata": {},
   "outputs": [],
   "source": [
    "assembler = VectorAssembler(inputCols=feature_columns, outputCol=\"features_vector\")\n",
    "data = assembler.transform(data)"
   ]
  },
  {
   "cell_type": "code",
   "execution_count": 91,
   "id": "9881a72a",
   "metadata": {},
   "outputs": [
    {
     "name": "stdout",
     "output_type": "stream",
     "text": [
      "+-----------------------------------------------+\n",
      "|features_vector                                |\n",
      "+-----------------------------------------------+\n",
      "|(12,[0,1,2,3,4,5],[363.0,46.0,2.0,1.0,3.0,3.0])|\n",
      "|(12,[0,1,2,3,4,5],[371.0,51.0,2.0,6.0,3.0,3.0])|\n",
      "|(12,[0,1,2,3,4,5],[371.0,50.0,2.0,2.0,3.0,3.0])|\n",
      "|(12,[0,1,2,3,4,5],[371.0,55.0,2.0,5.0,3.0,3.0])|\n",
      "|(12,[0,1,2,3,4,5],[371.0,44.0,2.0,1.0,3.0,3.0])|\n",
      "|(12,[0,1,2,3,4,5],[371.0,54.0,2.0,1.0,3.0,3.0])|\n",
      "|(12,[0,1,2,3,4,5],[371.0,46.0,2.0,5.0,3.0,3.0])|\n",
      "|(12,[0,1,2,3,4,5],[371.0,56.0,2.0,4.0,3.0,3.0])|\n",
      "|(12,[0,1,2,3,4,5],[371.0,54.0,2.0,3.0,3.0,3.0])|\n",
      "|(12,[0,1,2,3,4,5],[371.0,51.0,2.0,2.0,3.0,3.0])|\n",
      "|(12,[0,1,2,3,4,5],[371.0,36.0,2.0,4.0,3.0,3.0])|\n",
      "|(12,[0,1,2,3,4,5],[371.0,53.0,2.0,1.0,3.0,3.0])|\n",
      "|(12,[0,1,2,3,4,5],[371.0,50.0,2.0,5.0,3.0,3.0])|\n",
      "|(12,[0,1,2,3,4,5],[371.0,57.0,2.0,1.0,3.0,3.0])|\n",
      "|(12,[0,1,2,3,4,5],[371.0,44.0,2.0,7.0,3.0,3.0])|\n",
      "|(12,[0,1,2,3,4,5],[371.0,50.0,2.0,1.0,3.0,3.0])|\n",
      "|(12,[0,1,2,3,4,5],[371.0,50.0,2.0,5.0,3.0,3.0])|\n",
      "|(12,[0,1,2,3,4,5],[371.0,44.0,2.0,3.0,3.0,3.0])|\n",
      "|(12,[0,1,2,3,4,5],[371.0,56.0,2.0,3.0,3.0,3.0])|\n",
      "|(12,[0,1,2,3,4,5],[363.0,49.0,2.0,4.0,3.0,3.0])|\n",
      "+-----------------------------------------------+\n",
      "only showing top 20 rows\n",
      "\n"
     ]
    }
   ],
   "source": [
    "data.select(\"features_vector\").show(truncate=False)"
   ]
  },
  {
   "cell_type": "markdown",
   "id": "77a6286b",
   "metadata": {},
   "source": [
    "#### Variable associations"
   ]
  },
  {
   "cell_type": "markdown",
   "id": "80a92b85",
   "metadata": {},
   "source": [
    "I visualise in a confusion matrix the associations between the various features extracted from the URLs"
   ]
  },
  {
   "cell_type": "code",
   "execution_count": 92,
   "id": "01d21e7f",
   "metadata": {},
   "outputs": [
    {
     "data": {
      "text/html": [
       "<div>\n",
       "<style scoped>\n",
       "    .dataframe tbody tr th:only-of-type {\n",
       "        vertical-align: middle;\n",
       "    }\n",
       "\n",
       "    .dataframe tbody tr th {\n",
       "        vertical-align: top;\n",
       "    }\n",
       "\n",
       "    .dataframe thead th {\n",
       "        text-align: right;\n",
       "    }\n",
       "</style>\n",
       "<table border=\"1\" class=\"dataframe\">\n",
       "  <thead>\n",
       "    <tr style=\"text-align: right;\">\n",
       "      <th></th>\n",
       "      <th>url_length</th>\n",
       "      <th>digit_count</th>\n",
       "      <th>ampersand_count</th>\n",
       "      <th>underscore_count</th>\n",
       "      <th>dot_count</th>\n",
       "      <th>percent_count</th>\n",
       "      <th>at_count</th>\n",
       "      <th>tilde_count</th>\n",
       "      <th>hash_count</th>\n",
       "      <th>has_https</th>\n",
       "      <th>has_http</th>\n",
       "      <th>starts_with_digit</th>\n",
       "    </tr>\n",
       "  </thead>\n",
       "  <tbody>\n",
       "    <tr>\n",
       "      <th>url_length</th>\n",
       "      <td>1.000000</td>\n",
       "      <td>0.724601</td>\n",
       "      <td>0.450433</td>\n",
       "      <td>0.267642</td>\n",
       "      <td>0.341848</td>\n",
       "      <td>0.238022</td>\n",
       "      <td>0.042415</td>\n",
       "      <td>-0.026116</td>\n",
       "      <td>0.023422</td>\n",
       "      <td>0.055454</td>\n",
       "      <td>0.361881</td>\n",
       "      <td>-0.023899</td>\n",
       "    </tr>\n",
       "    <tr>\n",
       "      <th>digit_count</th>\n",
       "      <td>0.724601</td>\n",
       "      <td>1.000000</td>\n",
       "      <td>0.167507</td>\n",
       "      <td>0.156178</td>\n",
       "      <td>0.286452</td>\n",
       "      <td>0.370617</td>\n",
       "      <td>0.024203</td>\n",
       "      <td>-0.025226</td>\n",
       "      <td>0.023859</td>\n",
       "      <td>0.090717</td>\n",
       "      <td>0.188893</td>\n",
       "      <td>0.005650</td>\n",
       "    </tr>\n",
       "    <tr>\n",
       "      <th>ampersand_count</th>\n",
       "      <td>0.450433</td>\n",
       "      <td>0.167507</td>\n",
       "      <td>1.000000</td>\n",
       "      <td>0.272809</td>\n",
       "      <td>0.201634</td>\n",
       "      <td>-0.003051</td>\n",
       "      <td>0.006130</td>\n",
       "      <td>-0.037046</td>\n",
       "      <td>0.004576</td>\n",
       "      <td>-0.025841</td>\n",
       "      <td>0.373920</td>\n",
       "      <td>-0.023982</td>\n",
       "    </tr>\n",
       "    <tr>\n",
       "      <th>underscore_count</th>\n",
       "      <td>0.267642</td>\n",
       "      <td>0.156178</td>\n",
       "      <td>0.272809</td>\n",
       "      <td>1.000000</td>\n",
       "      <td>0.052066</td>\n",
       "      <td>0.004223</td>\n",
       "      <td>0.003350</td>\n",
       "      <td>-0.020067</td>\n",
       "      <td>0.001338</td>\n",
       "      <td>-0.015781</td>\n",
       "      <td>0.052333</td>\n",
       "      <td>-0.007819</td>\n",
       "    </tr>\n",
       "    <tr>\n",
       "      <th>dot_count</th>\n",
       "      <td>0.341848</td>\n",
       "      <td>0.286452</td>\n",
       "      <td>0.201634</td>\n",
       "      <td>0.052066</td>\n",
       "      <td>1.000000</td>\n",
       "      <td>-0.027341</td>\n",
       "      <td>0.044252</td>\n",
       "      <td>0.078825</td>\n",
       "      <td>0.037249</td>\n",
       "      <td>0.000129</td>\n",
       "      <td>0.276661</td>\n",
       "      <td>-0.037288</td>\n",
       "    </tr>\n",
       "    <tr>\n",
       "      <th>percent_count</th>\n",
       "      <td>0.238022</td>\n",
       "      <td>0.370617</td>\n",
       "      <td>-0.003051</td>\n",
       "      <td>0.004223</td>\n",
       "      <td>-0.027341</td>\n",
       "      <td>1.000000</td>\n",
       "      <td>0.004713</td>\n",
       "      <td>-0.009180</td>\n",
       "      <td>0.005251</td>\n",
       "      <td>0.030215</td>\n",
       "      <td>0.087664</td>\n",
       "      <td>-0.007005</td>\n",
       "    </tr>\n",
       "    <tr>\n",
       "      <th>at_count</th>\n",
       "      <td>0.042415</td>\n",
       "      <td>0.024203</td>\n",
       "      <td>0.006130</td>\n",
       "      <td>0.003350</td>\n",
       "      <td>0.044252</td>\n",
       "      <td>0.004713</td>\n",
       "      <td>1.000000</td>\n",
       "      <td>-0.002579</td>\n",
       "      <td>0.142870</td>\n",
       "      <td>0.090446</td>\n",
       "      <td>0.031655</td>\n",
       "      <td>-0.002619</td>\n",
       "    </tr>\n",
       "    <tr>\n",
       "      <th>tilde_count</th>\n",
       "      <td>-0.026116</td>\n",
       "      <td>-0.025226</td>\n",
       "      <td>-0.037046</td>\n",
       "      <td>-0.020067</td>\n",
       "      <td>0.078825</td>\n",
       "      <td>-0.009180</td>\n",
       "      <td>-0.002579</td>\n",
       "      <td>1.000000</td>\n",
       "      <td>0.006521</td>\n",
       "      <td>-0.017951</td>\n",
       "      <td>-0.079255</td>\n",
       "      <td>-0.008299</td>\n",
       "    </tr>\n",
       "    <tr>\n",
       "      <th>hash_count</th>\n",
       "      <td>0.023422</td>\n",
       "      <td>0.023859</td>\n",
       "      <td>0.004576</td>\n",
       "      <td>0.001338</td>\n",
       "      <td>0.037249</td>\n",
       "      <td>0.005251</td>\n",
       "      <td>0.142870</td>\n",
       "      <td>0.006521</td>\n",
       "      <td>1.000000</td>\n",
       "      <td>0.065866</td>\n",
       "      <td>0.007045</td>\n",
       "      <td>-0.002460</td>\n",
       "    </tr>\n",
       "    <tr>\n",
       "      <th>has_https</th>\n",
       "      <td>0.055454</td>\n",
       "      <td>0.090717</td>\n",
       "      <td>-0.025841</td>\n",
       "      <td>-0.015781</td>\n",
       "      <td>0.000129</td>\n",
       "      <td>0.030215</td>\n",
       "      <td>0.090446</td>\n",
       "      <td>-0.017951</td>\n",
       "      <td>0.065866</td>\n",
       "      <td>1.000000</td>\n",
       "      <td>0.231920</td>\n",
       "      <td>-0.015262</td>\n",
       "    </tr>\n",
       "    <tr>\n",
       "      <th>has_http</th>\n",
       "      <td>0.361881</td>\n",
       "      <td>0.188893</td>\n",
       "      <td>0.373920</td>\n",
       "      <td>0.052333</td>\n",
       "      <td>0.276661</td>\n",
       "      <td>0.087664</td>\n",
       "      <td>0.031655</td>\n",
       "      <td>-0.079255</td>\n",
       "      <td>0.007045</td>\n",
       "      <td>0.231920</td>\n",
       "      <td>1.000000</td>\n",
       "      <td>-0.065809</td>\n",
       "    </tr>\n",
       "    <tr>\n",
       "      <th>starts_with_digit</th>\n",
       "      <td>-0.023899</td>\n",
       "      <td>0.005650</td>\n",
       "      <td>-0.023982</td>\n",
       "      <td>-0.007819</td>\n",
       "      <td>-0.037288</td>\n",
       "      <td>-0.007005</td>\n",
       "      <td>-0.002619</td>\n",
       "      <td>-0.008299</td>\n",
       "      <td>-0.002460</td>\n",
       "      <td>-0.015262</td>\n",
       "      <td>-0.065809</td>\n",
       "      <td>1.000000</td>\n",
       "    </tr>\n",
       "  </tbody>\n",
       "</table>\n",
       "</div>"
      ],
      "text/plain": [
       "                   url_length  digit_count  ampersand_count  underscore_count  \\\n",
       "url_length           1.000000     0.724601         0.450433          0.267642   \n",
       "digit_count          0.724601     1.000000         0.167507          0.156178   \n",
       "ampersand_count      0.450433     0.167507         1.000000          0.272809   \n",
       "underscore_count     0.267642     0.156178         0.272809          1.000000   \n",
       "dot_count            0.341848     0.286452         0.201634          0.052066   \n",
       "percent_count        0.238022     0.370617        -0.003051          0.004223   \n",
       "at_count             0.042415     0.024203         0.006130          0.003350   \n",
       "tilde_count         -0.026116    -0.025226        -0.037046         -0.020067   \n",
       "hash_count           0.023422     0.023859         0.004576          0.001338   \n",
       "has_https            0.055454     0.090717        -0.025841         -0.015781   \n",
       "has_http             0.361881     0.188893         0.373920          0.052333   \n",
       "starts_with_digit   -0.023899     0.005650        -0.023982         -0.007819   \n",
       "\n",
       "                   dot_count  percent_count  at_count  tilde_count  \\\n",
       "url_length          0.341848       0.238022  0.042415    -0.026116   \n",
       "digit_count         0.286452       0.370617  0.024203    -0.025226   \n",
       "ampersand_count     0.201634      -0.003051  0.006130    -0.037046   \n",
       "underscore_count    0.052066       0.004223  0.003350    -0.020067   \n",
       "dot_count           1.000000      -0.027341  0.044252     0.078825   \n",
       "percent_count      -0.027341       1.000000  0.004713    -0.009180   \n",
       "at_count            0.044252       0.004713  1.000000    -0.002579   \n",
       "tilde_count         0.078825      -0.009180 -0.002579     1.000000   \n",
       "hash_count          0.037249       0.005251  0.142870     0.006521   \n",
       "has_https           0.000129       0.030215  0.090446    -0.017951   \n",
       "has_http            0.276661       0.087664  0.031655    -0.079255   \n",
       "starts_with_digit  -0.037288      -0.007005 -0.002619    -0.008299   \n",
       "\n",
       "                   hash_count  has_https  has_http  starts_with_digit  \n",
       "url_length           0.023422   0.055454  0.361881          -0.023899  \n",
       "digit_count          0.023859   0.090717  0.188893           0.005650  \n",
       "ampersand_count      0.004576  -0.025841  0.373920          -0.023982  \n",
       "underscore_count     0.001338  -0.015781  0.052333          -0.007819  \n",
       "dot_count            0.037249   0.000129  0.276661          -0.037288  \n",
       "percent_count        0.005251   0.030215  0.087664          -0.007005  \n",
       "at_count             0.142870   0.090446  0.031655          -0.002619  \n",
       "tilde_count          0.006521  -0.017951 -0.079255          -0.008299  \n",
       "hash_count           1.000000   0.065866  0.007045          -0.002460  \n",
       "has_https            0.065866   1.000000  0.231920          -0.015262  \n",
       "has_http             0.007045   0.231920  1.000000          -0.065809  \n",
       "starts_with_digit   -0.002460  -0.015262 -0.065809           1.000000  "
      ]
     },
     "execution_count": 92,
     "metadata": {},
     "output_type": "execute_result"
    }
   ],
   "source": [
    "correlation_matrix = Correlation.corr(data, \"features_vector\").collect()[0][0]\n",
    "\n",
    "correlation_df = pd.DataFrame(correlation_matrix.toArray(), columns=feature_columns, index=feature_columns)\n",
    "correlation_df"
   ]
  },
  {
   "cell_type": "markdown",
   "id": "e59b78b2",
   "metadata": {},
   "source": [
    "Plotting the confusion matrix"
   ]
  },
  {
   "cell_type": "code",
   "execution_count": 93,
   "id": "d48610bc",
   "metadata": {},
   "outputs": [
    {
     "data": {
      "image/png": "[encoded data removed]",
      "text/plain": [
       "<Figure size 1296x576 with 2 Axes>"
      ]
     },
     "metadata": {
      "needs_background": "light"
     },
     "output_type": "display_data"
    }
   ],
   "source": [
    "correlation_df.index, correlation_df.columns = feature_columns, feature_columns\n",
    "\n",
    "sns.heatmap(correlation_df, annot=True, cmap=\"coolwarm\", fmt=\".2f\", linewidths=.5)\n",
    "plt.title(\"Correlation Matrix\")\n",
    "plt.show()"
   ]
  },
  {
   "cell_type": "markdown",
   "id": "a85c2b7e",
   "metadata": {},
   "source": [
    "Displaying the five most related pairs of features"
   ]
  },
  {
   "cell_type": "code",
   "execution_count": 94,
   "id": "210ba70a",
   "metadata": {},
   "outputs": [
    {
     "data": {
      "text/plain": [
       "[(('digit_count', 'url_length'), 0.724600672395066),\n",
       " (('ampersand_count', 'url_length'), 0.4504331203714154),\n",
       " (('ampersand_count', 'has_http'), 0.3739195103300492),\n",
       " (('digit_count', 'percent_count'), 0.3706169701556114),\n",
       " (('has_http', 'url_length'), 0.36188125662743087),\n",
       " (('dot_count', 'url_length'), 0.3418481620397599),\n",
       " (('digit_count', 'dot_count'), 0.286452159454512),\n",
       " (('dot_count', 'has_http'), 0.27666067767985025),\n",
       " (('ampersand_count', 'underscore_count'), 0.2728094157514348),\n",
       " (('underscore_count', 'url_length'), 0.2676415590939119),\n",
       " (('percent_count', 'url_length'), 0.2380218796916543),\n",
       " (('has_http', 'has_https'), 0.23191959453922747),\n",
       " (('ampersand_count', 'dot_count'), 0.2016340112947331),\n",
       " (('digit_count', 'has_http'), 0.18889253940039438),\n",
       " (('ampersand_count', 'digit_count'), 0.16750723187655833),\n",
       " (('digit_count', 'underscore_count'), 0.15617803473465136),\n",
       " (('at_count', 'hash_count'), 0.1428703613035425),\n",
       " (('digit_count', 'has_https'), 0.09071666621816121),\n",
       " (('at_count', 'has_https'), 0.09044588835248138),\n",
       " (('has_http', 'percent_count'), 0.08766448427285858),\n",
       " (('has_http', 'tilde_count'), 0.07925532730510676),\n",
       " (('dot_count', 'tilde_count'), 0.07882474325451624),\n",
       " (('has_https', 'hash_count'), 0.0658663901161287),\n",
       " (('has_http', 'starts_with_digit'), 0.0658090282134808),\n",
       " (('has_https', 'url_length'), 0.055453627344891815),\n",
       " (('has_http', 'underscore_count'), 0.05233277521743163),\n",
       " (('dot_count', 'underscore_count'), 0.05206623442030507),\n",
       " (('at_count', 'dot_count'), 0.044251517947217725),\n",
       " (('at_count', 'url_length'), 0.04241465526824772),\n",
       " (('dot_count', 'starts_with_digit'), 0.03728809805839642),\n",
       " (('dot_count', 'hash_count'), 0.03724941541370245),\n",
       " (('ampersand_count', 'tilde_count'), 0.03704628518749585),\n",
       " (('at_count', 'has_http'), 0.031655472143075666),\n",
       " (('has_https', 'percent_count'), 0.03021517701521892),\n",
       " (('dot_count', 'percent_count'), 0.027340602223552952),\n",
       " (('tilde_count', 'url_length'), 0.02611578799382489),\n",
       " (('ampersand_count', 'has_https'), 0.025841050571585734),\n",
       " (('digit_count', 'tilde_count'), 0.025225849041553196),\n",
       " (('at_count', 'digit_count'), 0.024202928029499464),\n",
       " (('ampersand_count', 'starts_with_digit'), 0.023982473132768297),\n",
       " (('starts_with_digit', 'url_length'), 0.023898551045555317),\n",
       " (('digit_count', 'hash_count'), 0.023859479894904577),\n",
       " (('hash_count', 'url_length'), 0.02342223786306359),\n",
       " (('tilde_count', 'underscore_count'), 0.02006749486585994),\n",
       " (('has_https', 'tilde_count'), 0.017950977786265334),\n",
       " (('has_https', 'underscore_count'), 0.01578096127873555),\n",
       " (('has_https', 'starts_with_digit'), 0.015262403140311008),\n",
       " (('percent_count', 'tilde_count'), 0.009179523421702786),\n",
       " (('starts_with_digit', 'tilde_count'), 0.008299338492374273),\n",
       " (('starts_with_digit', 'underscore_count'), 0.00781916882080003),\n",
       " (('has_http', 'hash_count'), 0.007044896449090792),\n",
       " (('percent_count', 'starts_with_digit'), 0.007004822027203261),\n",
       " (('hash_count', 'tilde_count'), 0.006520774916656281),\n",
       " (('ampersand_count', 'at_count'), 0.006130179139880581),\n",
       " (('digit_count', 'starts_with_digit'), 0.005650225142537382),\n",
       " (('hash_count', 'percent_count'), 0.005251229466347092),\n",
       " (('at_count', 'percent_count'), 0.004713354659022826),\n",
       " (('ampersand_count', 'hash_count'), 0.004575632029550466),\n",
       " (('percent_count', 'underscore_count'), 0.004223184282877182),\n",
       " (('at_count', 'underscore_count'), 0.003350162938788896),\n",
       " (('ampersand_count', 'percent_count'), 0.003050567449891597),\n",
       " (('at_count', 'starts_with_digit'), 0.0026188836303982343),\n",
       " (('at_count', 'tilde_count'), 0.002578795800586279),\n",
       " (('hash_count', 'starts_with_digit'), 0.0024596217070310526),\n",
       " (('hash_count', 'underscore_count'), 0.0013383780696179337),\n",
       " (('dot_count', 'has_https'), 0.00012895552557020724)]"
      ]
     },
     "execution_count": 94,
     "metadata": {},
     "output_type": "execute_result"
    }
   ],
   "source": [
    "top_n = 6\n",
    "correlation_pairs = set()\n",
    "\n",
    "for col1 in correlation_df.columns:\n",
    "    for col2 in correlation_df.columns:\n",
    "        if col1 != col2:\n",
    "            correlation_value = correlation_df.loc[col1, col2]\n",
    "            pair = (col1, col2) if col1 < col2 else (col2, col1)\n",
    "            correlation_pairs.add((pair, abs(correlation_value)))\n",
    "\n",
    "correlation_pairs_list = list(correlation_pairs)\n",
    "correlation_pairs_list.sort(key=lambda x: x[1], reverse=True)\n",
    "\n",
    "correlation_pairs_list"
   ]
  },
  {
   "cell_type": "markdown",
   "id": "e806fdda",
   "metadata": {},
   "source": [
    "Selection of feature pairs whose correlation is greater than the set threshold"
   ]
  },
  {
   "cell_type": "code",
   "execution_count": 95,
   "id": "aeb8312b",
   "metadata": {},
   "outputs": [
    {
     "data": {
      "text/plain": [
       "[('digit_count', 'url_length'),\n",
       " ('ampersand_count', 'url_length'),\n",
       " ('ampersand_count', 'has_http'),\n",
       " ('digit_count', 'percent_count'),\n",
       " ('has_http', 'url_length')]"
      ]
     },
     "execution_count": 95,
     "metadata": {},
     "output_type": "execute_result"
    }
   ],
   "source": [
    "threshold_correlation = 0.35\n",
    "\n",
    "threshold_features_set_list = [\n",
    "    feature_pair[0] for feature_pair in correlation_pairs_list\n",
    "    if feature_pair[1] > threshold_correlation\n",
    "]\n",
    "\n",
    "threshold_features_set_list"
   ]
  },
  {
   "cell_type": "markdown",
   "id": "652f2d83",
   "metadata": {},
   "source": [
    "Listing of individual features in selected pairs"
   ]
  },
  {
   "cell_type": "code",
   "execution_count": 96,
   "id": "c919d939",
   "metadata": {},
   "outputs": [
    {
     "data": {
      "text/plain": [
       "['digit_count', 'url_length', 'ampersand_count', 'has_http', 'percent_count']"
      ]
     },
     "execution_count": 96,
     "metadata": {},
     "output_type": "execute_result"
    }
   ],
   "source": [
    "threshold_features = []\n",
    "\n",
    "for set_features in threshold_features_set_list:\n",
    "    for feature in set_features:\n",
    "        if feature not in threshold_features:\n",
    "            threshold_features.append(feature)\n",
    "\n",
    "threshold_features"
   ]
  },
  {
   "cell_type": "markdown",
   "id": "af871afa",
   "metadata": {},
   "source": [
    "Assembling in a features vector to train models"
   ]
  },
  {
   "cell_type": "code",
   "execution_count": 97,
   "id": "a6fa9381",
   "metadata": {},
   "outputs": [],
   "source": [
    "assembler = VectorAssembler(inputCols=threshold_features, outputCol=\"threshold_features_vector\")\n",
    "data = assembler.transform(data)"
   ]
  },
  {
   "cell_type": "code",
   "execution_count": 98,
   "id": "7c77afab",
   "metadata": {},
   "outputs": [
    {
     "name": "stdout",
     "output_type": "stream",
     "text": [
      "+-------------------------+\n",
      "|threshold_features_vector|\n",
      "+-------------------------+\n",
      "|[46.0,363.0,2.0,0.0,3.0] |\n",
      "|[51.0,371.0,2.0,0.0,3.0] |\n",
      "|[50.0,371.0,2.0,0.0,3.0] |\n",
      "|[55.0,371.0,2.0,0.0,3.0] |\n",
      "|[44.0,371.0,2.0,0.0,3.0] |\n",
      "|[54.0,371.0,2.0,0.0,3.0] |\n",
      "|[46.0,371.0,2.0,0.0,3.0] |\n",
      "|[56.0,371.0,2.0,0.0,3.0] |\n",
      "|[54.0,371.0,2.0,0.0,3.0] |\n",
      "|[51.0,371.0,2.0,0.0,3.0] |\n",
      "|[36.0,371.0,2.0,0.0,3.0] |\n",
      "|[53.0,371.0,2.0,0.0,3.0] |\n",
      "|[50.0,371.0,2.0,0.0,3.0] |\n",
      "|[57.0,371.0,2.0,0.0,3.0] |\n",
      "|[44.0,371.0,2.0,0.0,3.0] |\n",
      "|[50.0,371.0,2.0,0.0,3.0] |\n",
      "|[50.0,371.0,2.0,0.0,3.0] |\n",
      "|[44.0,371.0,2.0,0.0,3.0] |\n",
      "|[56.0,371.0,2.0,0.0,3.0] |\n",
      "|[49.0,363.0,2.0,0.0,3.0] |\n",
      "+-------------------------+\n",
      "only showing top 20 rows\n",
      "\n"
     ]
    }
   ],
   "source": [
    "data.select(\"threshold_features_vector\").show(truncate=False)"
   ]
  },
  {
   "cell_type": "markdown",
   "id": "b69e4bb8",
   "metadata": {},
   "source": [
    "#### Variance Threshold Selector"
   ]
  },
  {
   "cell_type": "markdown",
   "id": "680d50e4",
   "metadata": {},
   "source": [
    "The VarianceThresholdSelector is a feature selection technique in machine learning used to eliminate features with low variance. Variance measures the spread of values within a feature, the selector calculates the variance for each feature and removes those with values below a specified threshold. This technique is useful for discarding features with limited variability, thereby simplifying the model and reducing overfitting. "
   ]
  },
  {
   "cell_type": "code",
   "execution_count": 99,
   "id": "8cc8dd6c",
   "metadata": {},
   "outputs": [],
   "source": [
    "selector = VarianceThresholdSelector(featuresCol=\"features_vector\", varianceThreshold=1.0, outputCol=\"vts_features\")\n",
    "data = selector.fit(data).transform(data)"
   ]
  },
  {
   "cell_type": "code",
   "execution_count": 100,
   "id": "462a750d",
   "metadata": {},
   "outputs": [
    {
     "name": "stdout",
     "output_type": "stream",
     "text": [
      "+----------------------------------------------+\n",
      "|vts_features                                  |\n",
      "+----------------------------------------------+\n",
      "|(6,[0,1,2,3,4,5],[363.0,46.0,2.0,1.0,3.0,3.0])|\n",
      "|(6,[0,1,2,3,4,5],[371.0,51.0,2.0,6.0,3.0,3.0])|\n",
      "|(6,[0,1,2,3,4,5],[371.0,50.0,2.0,2.0,3.0,3.0])|\n",
      "|(6,[0,1,2,3,4,5],[371.0,55.0,2.0,5.0,3.0,3.0])|\n",
      "|(6,[0,1,2,3,4,5],[371.0,44.0,2.0,1.0,3.0,3.0])|\n",
      "|(6,[0,1,2,3,4,5],[371.0,54.0,2.0,1.0,3.0,3.0])|\n",
      "|(6,[0,1,2,3,4,5],[371.0,46.0,2.0,5.0,3.0,3.0])|\n",
      "|(6,[0,1,2,3,4,5],[371.0,56.0,2.0,4.0,3.0,3.0])|\n",
      "|(6,[0,1,2,3,4,5],[371.0,54.0,2.0,3.0,3.0,3.0])|\n",
      "|(6,[0,1,2,3,4,5],[371.0,51.0,2.0,2.0,3.0,3.0])|\n",
      "|(6,[0,1,2,3,4,5],[371.0,36.0,2.0,4.0,3.0,3.0])|\n",
      "|(6,[0,1,2,3,4,5],[371.0,53.0,2.0,1.0,3.0,3.0])|\n",
      "|(6,[0,1,2,3,4,5],[371.0,50.0,2.0,5.0,3.0,3.0])|\n",
      "|(6,[0,1,2,3,4,5],[371.0,57.0,2.0,1.0,3.0,3.0])|\n",
      "|(6,[0,1,2,3,4,5],[371.0,44.0,2.0,7.0,3.0,3.0])|\n",
      "|(6,[0,1,2,3,4,5],[371.0,50.0,2.0,1.0,3.0,3.0])|\n",
      "|(6,[0,1,2,3,4,5],[371.0,50.0,2.0,5.0,3.0,3.0])|\n",
      "|(6,[0,1,2,3,4,5],[371.0,44.0,2.0,3.0,3.0,3.0])|\n",
      "|(6,[0,1,2,3,4,5],[371.0,56.0,2.0,3.0,3.0,3.0])|\n",
      "|(6,[0,1,2,3,4,5],[363.0,49.0,2.0,4.0,3.0,3.0])|\n",
      "+----------------------------------------------+\n",
      "only showing top 20 rows\n",
      "\n"
     ]
    }
   ],
   "source": [
    "data.select(\"vts_features\").show(truncate=False)"
   ]
  },
  {
   "cell_type": "markdown",
   "id": "1cd095a2",
   "metadata": {},
   "source": [
    "#### Principal Component Analysis - PCA"
   ]
  },
  {
   "cell_type": "markdown",
   "id": "a5e0449f",
   "metadata": {},
   "source": [
    "Principal Component Analysis (PCA) is a dimensionality reduction technique used in data analysis and machine learning. Its goal is to project the original data into a lower-dimensional space while preserving as much variance as possible. PCA identifies the principal axes along which the data varies the most and uses them as new variables, known as principal components. "
   ]
  },
  {
   "cell_type": "code",
   "execution_count": 101,
   "id": "ff7c73e4",
   "metadata": {},
   "outputs": [],
   "source": [
    "pca_components = 5\n",
    "pca = PCA(k=pca_components, inputCol=\"features_vector\", outputCol=\"pca_features\")\n",
    "pca_model = pca.fit(data)"
   ]
  },
  {
   "cell_type": "code",
   "execution_count": 102,
   "id": "c5a1cde7",
   "metadata": {},
   "outputs": [],
   "source": [
    "data = pca_model.transform(data)"
   ]
  },
  {
   "cell_type": "code",
   "execution_count": 103,
   "id": "c210e829",
   "metadata": {},
   "outputs": [
    {
     "name": "stdout",
     "output_type": "stream",
     "text": [
      "+----------------------------------------------------------------------------------------------------+\n",
      "|pca_features                                                                                        |\n",
      "+----------------------------------------------------------------------------------------------------+\n",
      "|[-365.5514081011776,16.372861887450437,-0.7296347493709843,1.0117430546372144,-2.971039453158078]   |\n",
      "|[-374.3100822182446,12.910973704839162,-1.4922236394048216,1.3891475391665034,0.3251856560551555]   |\n",
      "|[-374.11706863763965,13.846029007844402,-1.2740377139347574,1.1882550682248634,-2.3231067145497293] |\n",
      "|[-374.9818467126416,9.00954223137149,-2.081013953506984,1.3805116551821723,-0.19688371387317574]    |\n",
      "|[-373.09467339192315,19.674468826656682,-0.3490943916376752,1.0817668695321099,-3.174596608531919]  |\n",
      "|[-374.7888331320366,9.944597534376722,-1.862828028036919,1.1796191842405332,-2.84517608447806]      |\n",
      "|[-373.45710294653946,17.766426394423455,-0.7186536807476642,1.2924445719445923,-0.49336218552164846]|\n",
      "|[-375.1453632850045,8.027072145587805,-2.215684176689374,1.3425200767853158,-0.8177792410176646]    |\n",
      "|[-374.8006319353334,9.963563447488104,-1.896234308951989,1.275172803975932,-1.5375009253783107]     |\n",
      "|[-374.286484611651,12.8730418786164,-1.4254110775746813,1.1980402996957058,-2.290164662144343]      |\n",
      "|[-371.7570438047776,27.486814730147724,0.811783096109115,1.14681544736847,-1.4766202891253815]      |\n",
      "|[-374.61941715802527,10.917584663604718,-1.711454664396996,1.1698339527696908,-2.878118136883446]   |\n",
      "|[-374.13476684258484,13.874477877511474,-1.3241471353073626,1.331585497827961,-0.3615939759001051]  |\n",
      "|[-375.29708105407065,7.025636146692738,-2.3169481189566934,1.2089748786530596,-2.7463499272619027]  |\n",
      "|[-373.13006980181353,19.731366565990825,-0.4493132343828856,1.3684277287383062,0.7484288687673294]  |\n",
      "|[-374.1111692359912,13.83654605128871,-1.2573345734772223,1.1404782583571635,-2.9769442940996043]   |\n",
      "|[-374.13476684258484,13.874477877511474,-1.3241471353073626,1.331585497827961,-0.3615939759001051]  |\n",
      "|[-373.10647219521996,19.693434739768065,-0.38250067255274534,1.1773204892675087,-1.8669214494321695]|\n",
      "|[-375.13946388335614,8.017589189032114,-2.1989810362318387,1.294743266917616,-1.4716168205675395]   |\n",
      "|[-366.0773542281569,13.482349369433525,-1.2338642616633626,1.1844291786528394,-0.9107005572922956]  |\n",
      "+----------------------------------------------------------------------------------------------------+\n",
      "only showing top 20 rows\n",
      "\n"
     ]
    }
   ],
   "source": [
    "data.select(\"pca_features\").show(truncate=False)"
   ]
  },
  {
   "cell_type": "markdown",
   "id": "1e881294",
   "metadata": {},
   "source": [
    "## Classification models"
   ]
  },
  {
   "cell_type": "markdown",
   "id": "dc034965",
   "metadata": {},
   "source": [
    "### Train test split\n",
    "\n",
    "Splitting the features dataset in 80% of training data and 20% of test data"
   ]
  },
  {
   "cell_type": "code",
   "execution_count": 104,
   "id": "c6f838f8",
   "metadata": {},
   "outputs": [],
   "source": [
    "train, test = data.randomSplit([0.8, 0.2], seed = 2018)"
   ]
  },
  {
   "cell_type": "markdown",
   "id": "93ff1dfb",
   "metadata": {},
   "source": [
    "This function takes in input:\n",
    "- A spark classifier\n",
    "- The training set\n",
    "- The test set\n",
    "\n",
    "It fits the model in the training set and it test the model in test set, then it computes metrics like:\n",
    "- Accuracy\n",
    "- Precision\n",
    "- Recall\n",
    "\n",
    "This function is useful to paralleling the training phase of the selected models"
   ]
  },
  {
   "cell_type": "code",
   "execution_count": 105,
   "id": "d25a05ca",
   "metadata": {},
   "outputs": [],
   "source": [
    "def train_and_evaluate(classifier, train, test):\n",
    "    print(f\"Training of: {classifier.__class__.__name__}\")\n",
    "\n",
    "    evaluator = MulticlassClassificationEvaluator(labelCol=\"url_type\", predictionCol=\"prediction\", metricName=\"accuracy\")\n",
    "\n",
    "    pipeline = Pipeline(stages=[classifier])\n",
    "\n",
    "    model = pipeline.fit(train)\n",
    "    predictions = model.transform(test)\n",
    "\n",
    "    accuracy = round(evaluator.evaluate(predictions), 3)\n",
    "\n",
    "    evaluator.setMetricName(\"weightedPrecision\")\n",
    "    precision = round(evaluator.evaluate(predictions), 3)\n",
    "\n",
    "    evaluator.setMetricName(\"weightedRecall\")\n",
    "    recall = round(evaluator.evaluate(predictions), 3)\n",
    "\n",
    "    result = {\n",
    "        \"model\": model,\n",
    "        \"accuracy\": accuracy,\n",
    "        \"precision\": precision,\n",
    "        \"recall\": recall\n",
    "    }\n",
    "\n",
    "    # Stampa le metriche del modello\n",
    "    print(f\"Accuracy of {classifier.__class__.__name__}: {accuracy}\")\n",
    "    print(f\"Precision of {classifier.__class__.__name__}: {precision}\")\n",
    "    print(f\"Recall of {classifier.__class__.__name__}: {recall}\\n\")\n",
    "\n",
    "    return classifier.__class__.__name__, result"
   ]
  },
  {
   "cell_type": "markdown",
   "id": "7a053f05",
   "metadata": {},
   "source": [
    "This function takes in input the dictionay containing experiments results and returns the model name, the list of accuracies computed, the list of precisons and the list of recall. This function is useful to plot model metrics"
   ]
  },
  {
   "cell_type": "code",
   "execution_count": 106,
   "id": "a2d6089c",
   "metadata": {},
   "outputs": [],
   "source": [
    "def get_metrics_list(metrics_dict: dict):\n",
    "    model_names = list(metrics_dict.keys())\n",
    "    accuracy_values = [metrics_dict[model]['accuracy'] for model in model_names]\n",
    "    precision_values = [metrics_dict[model]['precision'] for model in model_names]\n",
    "    recall_values = [metrics_dict[model]['recall'] for model in model_names]\n",
    "    \n",
    "    return model_names, accuracy_values, precision_values, recall_values"
   ]
  },
  {
   "cell_type": "markdown",
   "id": "4dead720",
   "metadata": {},
   "source": [
    "Define bars colors"
   ]
  },
  {
   "cell_type": "code",
   "execution_count": 107,
   "id": "8c4201c7",
   "metadata": {},
   "outputs": [],
   "source": [
    "colors = ['red', 'yellow', 'orange', 'purple']"
   ]
  },
  {
   "cell_type": "markdown",
   "id": "f805c44c",
   "metadata": {},
   "source": [
    "### Choosed models\n",
    "\n",
    "Classifier models are taken from the pyspark.ml.classification library and are:\n",
    "1. Random forest classifier: Random Forest is robust, handles non-linear data well, and is less prone to overfitting, making it suitable for a wide range of classification problems.\n",
    "\n",
    "2. Logistic regression: Logistic Regression is easy to interpret, computationally efficient, and suitable when the relationship between features and output is approximately linear.\n",
    "\n",
    "3. Linear Support Vector Classifier (LinearSVC): LinearSVC is effective for linearly separable data, providing robustness and superior performance compared to traditional linear models.\n",
    "\n",
    "4. Gradient Boosted Trees (GBT) Classifier: GBT is powerful for complex and non-linear data, building sequential trees to capture intricate relationships between features and output."
   ]
  },
  {
   "cell_type": "markdown",
   "id": "17618351",
   "metadata": {},
   "source": [
    "### Models trained using base features"
   ]
  },
  {
   "cell_type": "code",
   "execution_count": 108,
   "id": "573efd44",
   "metadata": {},
   "outputs": [],
   "source": [
    "base_classifiers = [\n",
    "    RandomForestClassifier(featuresCol='features_vector', labelCol='url_type'),\n",
    "    LogisticRegression(featuresCol='features_vector', labelCol='url_type'),\n",
    "    LinearSVC(featuresCol='features_vector', labelCol='url_type'),\n",
    "    GBTClassifier(featuresCol='features_vector', labelCol='url_type')\n",
    "]\n",
    "\n",
    "base_classifiers_results = {}"
   ]
  },
  {
   "cell_type": "code",
   "execution_count": 109,
   "id": "46877b24",
   "metadata": {},
   "outputs": [
    {
     "name": "stdout",
     "output_type": "stream",
     "text": [
      "Training of: RandomForestClassifier\n",
      "Training of: LogisticRegression\n",
      "Training of: LinearSVC\n",
      "Training of: GBTClassifier\n",
      "Accuracy of LogisticRegression: 0.796\n",
      "Precision of LogisticRegression: 0.81\n",
      "Recall of LogisticRegression: 0.796\n",
      "\n",
      "Accuracy of RandomForestClassifier: 0.844\n",
      "Precision of RandomForestClassifier: 0.852\n",
      "Recall of RandomForestClassifier: 0.844\n",
      "\n",
      "Accuracy of GBTClassifier: 0.864\n",
      "Precision of GBTClassifier: 0.866\n",
      "Recall of GBTClassifier: 0.864\n",
      "\n",
      "Accuracy of LinearSVC: 0.808\n",
      "Precision of LinearSVC: 0.823\n",
      "Recall of LinearSVC: 0.808\n",
      "\n"
     ]
    }
   ],
   "source": [
    "with ThreadPoolExecutor() as executor:\n",
    "    base_classifiers_results = dict(executor.map(lambda clf: train_and_evaluate(clf, train, test), base_classifiers))"
   ]
  },
  {
   "cell_type": "code",
   "execution_count": 110,
   "id": "8ce7a854",
   "metadata": {},
   "outputs": [],
   "source": [
    "model_names, accuracy_values, precision_values, recall_values = get_metrics_list(base_classifiers_results)"
   ]
  },
  {
   "cell_type": "code",
   "execution_count": 111,
   "id": "71b10983",
   "metadata": {},
   "outputs": [
    {
     "data": {
      "image/png": "[encoded data removed]",
      "text/plain": [
       "<Figure size 1296x576 with 1 Axes>"
      ]
     },
     "metadata": {
      "needs_background": "light"
     },
     "output_type": "display_data"
    }
   ],
   "source": [
    "plt.bar(model_names, accuracy_values, color=colors)\n",
    "plt.title('Accuracy for different models')\n",
    "plt.xlabel('Models')\n",
    "plt.ylabel('Accuracy')\n",
    "plt.ylim([0, 1])\n",
    "plt.show()"
   ]
  },
  {
   "cell_type": "code",
   "execution_count": 112,
   "id": "39477eb7",
   "metadata": {},
   "outputs": [
    {
     "data": {
      "image/png": "[encoded data removed]",
      "text/plain": [
       "<Figure size 1296x576 with 1 Axes>"
      ]
     },
     "metadata": {
      "needs_background": "light"
     },
     "output_type": "display_data"
    }
   ],
   "source": [
    "plt.bar(model_names, precision_values, color=colors)\n",
    "plt.title('Precision for different Models')\n",
    "plt.xlabel('Models')\n",
    "plt.ylabel('Precision')\n",
    "plt.ylim([0, 1])\n",
    "plt.show()"
   ]
  },
  {
   "cell_type": "code",
   "execution_count": 113,
   "id": "c167aef0",
   "metadata": {},
   "outputs": [
    {
     "data": {
      "image/png": "[encoded data removed]",
      "text/plain": [
       "<Figure size 1296x576 with 1 Axes>"
      ]
     },
     "metadata": {
      "needs_background": "light"
     },
     "output_type": "display_data"
    }
   ],
   "source": [
    "plt.bar(model_names, recall_values, color=colors)\n",
    "plt.title('Recall for different Models')\n",
    "plt.xlabel('Models')\n",
    "plt.ylabel('Recall')\n",
    "plt.ylim([0, 1])\n",
    "plt.show()"
   ]
  },
  {
   "cell_type": "code",
   "execution_count": 114,
   "id": "b704068d",
   "metadata": {},
   "outputs": [
    {
     "data": {
      "text/plain": [
       "'GBTClassifier'"
      ]
     },
     "execution_count": 114,
     "metadata": {},
     "output_type": "execute_result"
    }
   ],
   "source": [
    "best_classifier = max(base_classifiers_results, key=lambda x: base_classifiers_results[x]['accuracy'])\n",
    "best_classifier"
   ]
  },
  {
   "cell_type": "markdown",
   "id": "a78ec87f",
   "metadata": {},
   "source": [
    "#### Evaluation results using base features\n",
    "\n",
    "| Model                  | Precision | Recall | Accuracy |\n",
    "|------------------------|-----------|--------|----------|\n",
    "| RandomForestClassifier | 0.855     | 0.846  | 0.846    |\n",
    "| LogisticRegression     | 0.810     | 0.796  | 0.796    |\n",
    "| LinearSVC              | 0.823     | 0.808  | 0.808    |\n",
    "| <span style=\"color:green\"> GBTClassifier </span>           | 0.864     | 0.863  | 0.863    |\n"
   ]
  },
  {
   "cell_type": "markdown",
   "id": "e4a3dba2",
   "metadata": {},
   "source": [
    "### Models trained using PCA features"
   ]
  },
  {
   "cell_type": "code",
   "execution_count": 115,
   "id": "7dc52b6c",
   "metadata": {},
   "outputs": [],
   "source": [
    "pca_classifiers = [\n",
    "    RandomForestClassifier(featuresCol='pca_features', labelCol='url_type'),\n",
    "    LogisticRegression(featuresCol='pca_features', labelCol='url_type'),\n",
    "    LinearSVC(featuresCol='pca_features', labelCol='url_type'),\n",
    "    GBTClassifier(featuresCol='pca_features', labelCol='url_type')\n",
    "]\n",
    "\n",
    "pca_classifiers_results = {}"
   ]
  },
  {
   "cell_type": "code",
   "execution_count": 116,
   "id": "6174198f",
   "metadata": {},
   "outputs": [
    {
     "name": "stdout",
     "output_type": "stream",
     "text": [
      "Training of: RandomForestClassifier\n",
      "Training of: LogisticRegression\n",
      "Training of: LinearSVCTraining of: GBTClassifier\n",
      "\n",
      "Accuracy of LogisticRegression: 0.719\n",
      "Precision of LogisticRegression: 0.727\n",
      "Recall of LogisticRegression: 0.719\n",
      "\n",
      "Accuracy of RandomForestClassifier: 0.754\n",
      "Precision of RandomForestClassifier: 0.754\n",
      "Recall of RandomForestClassifier: 0.754\n",
      "\n",
      "Accuracy of GBTClassifier: 0.79\n",
      "Precision of GBTClassifier: 0.79\n",
      "Recall of GBTClassifier: 0.79\n",
      "\n",
      "Accuracy of LinearSVC: 0.746\n",
      "Precision of LinearSVC: 0.751\n",
      "Recall of LinearSVC: 0.746\n",
      "\n"
     ]
    }
   ],
   "source": [
    "with ThreadPoolExecutor() as executor:\n",
    "    pca_classifiers_results = dict(executor.map(lambda clf: train_and_evaluate(clf, train, test), pca_classifiers))"
   ]
  },
  {
   "cell_type": "code",
   "execution_count": 117,
   "id": "cf323cb6",
   "metadata": {},
   "outputs": [],
   "source": [
    "model_names, accuracy_values, precision_values, recall_values = get_metrics_list(pca_classifiers_results)"
   ]
  },
  {
   "cell_type": "code",
   "execution_count": 118,
   "id": "74ffb2ba",
   "metadata": {},
   "outputs": [
    {
     "data": {
      "image/png": "[encoded data removed]",
      "text/plain": [
       "<Figure size 1296x576 with 1 Axes>"
      ]
     },
     "metadata": {
      "needs_background": "light"
     },
     "output_type": "display_data"
    }
   ],
   "source": [
    "plt.bar(model_names, accuracy_values, color=colors)\n",
    "plt.title('Accuracy for different Models')\n",
    "plt.xlabel('Models')\n",
    "plt.ylabel('Accuracy')\n",
    "plt.ylim([0, 1])\n",
    "plt.show()"
   ]
  },
  {
   "cell_type": "code",
   "execution_count": 119,
   "id": "6064b791",
   "metadata": {},
   "outputs": [
    {
     "data": {
      "image/png": "[encoded data removed]",
      "text/plain": [
       "<Figure size 1296x576 with 1 Axes>"
      ]
     },
     "metadata": {
      "needs_background": "light"
     },
     "output_type": "display_data"
    }
   ],
   "source": [
    "plt.bar(model_names, precision_values, color=colors)\n",
    "plt.title('Precision for different Models')\n",
    "plt.xlabel('Models')\n",
    "plt.ylabel('Precision')\n",
    "plt.ylim([0, 1])\n",
    "plt.show()"
   ]
  },
  {
   "cell_type": "code",
   "execution_count": 120,
   "id": "7623fb43",
   "metadata": {},
   "outputs": [
    {
     "data": {
      "image/png": "[encoded data removed]",
      "text/plain": [
       "<Figure size 1296x576 with 1 Axes>"
      ]
     },
     "metadata": {
      "needs_background": "light"
     },
     "output_type": "display_data"
    }
   ],
   "source": [
    "plt.bar(model_names, recall_values, color=colors)\n",
    "plt.title('Recall for different Models')\n",
    "plt.xlabel('Models')\n",
    "plt.ylabel('Recall')\n",
    "plt.ylim([0, 1])\n",
    "plt.show()"
   ]
  },
  {
   "cell_type": "code",
   "execution_count": 121,
   "id": "c4b784fc",
   "metadata": {},
   "outputs": [
    {
     "data": {
      "text/plain": [
       "'GBTClassifier'"
      ]
     },
     "execution_count": 121,
     "metadata": {},
     "output_type": "execute_result"
    }
   ],
   "source": [
    "best_classifier_pca = max(pca_classifiers_results, key=lambda x: pca_classifiers_results[x]['accuracy'])\n",
    "best_classifier_pca "
   ]
  },
  {
   "cell_type": "markdown",
   "id": "bc5e82f0",
   "metadata": {},
   "source": [
    "#### Evaluation results using PCA features\n",
    "\n",
    "| Model                  | Accuracy | Precision | Recall |\n",
    "|------------------------|----------|-----------|--------|\n",
    "| LogisticRegression     | 0.719    | 0.727     | 0.719  |\n",
    "| RandomForestClassifier | 0.753    | 0.753     | 0.753  |\n",
    "| <span style=\"color:green\"> GBTClassifier </span>           | 0.789    | 0.789     | 0.789  |\n",
    "| LinearSVC              | 0.746    | 0.751     | 0.746  |"
   ]
  },
  {
   "cell_type": "markdown",
   "id": "5df49236",
   "metadata": {},
   "source": [
    "### Models trained using VTS features"
   ]
  },
  {
   "cell_type": "code",
   "execution_count": 122,
   "id": "1bb43edb",
   "metadata": {},
   "outputs": [],
   "source": [
    "vts_classifiers = [\n",
    "    RandomForestClassifier(featuresCol='vts_features', labelCol='url_type'),\n",
    "    LogisticRegression(featuresCol='vts_features', labelCol='url_type'),\n",
    "    LinearSVC(featuresCol='vts_features', labelCol='url_type'),\n",
    "    GBTClassifier(featuresCol='vts_features', labelCol='url_type')\n",
    "]\n",
    "\n",
    "vts_classifiers_results = {}"
   ]
  },
  {
   "cell_type": "code",
   "execution_count": null,
   "id": "abc5b084",
   "metadata": {},
   "outputs": [
    {
     "name": "stdout",
     "output_type": "stream",
     "text": [
      "Training of: RandomForestClassifier\n",
      "Training of: LogisticRegression\n",
      "Training of: LinearSVC\n",
      "Training of: GBTClassifier\n"
     ]
    }
   ],
   "source": [
    "with ThreadPoolExecutor() as executor:\n",
    "    vts_classifiers_results = dict(executor.map(lambda clf: train_and_evaluate(clf, train, test), vts_classifiers))"
   ]
  },
  {
   "cell_type": "code",
   "execution_count": null,
   "id": "7eee3cf9",
   "metadata": {},
   "outputs": [],
   "source": [
    "model_names, accuracy_values, precision_values, recall_values = get_metrics_list(vts_classifiers_results)"
   ]
  },
  {
   "cell_type": "code",
   "execution_count": null,
   "id": "70b63ba5",
   "metadata": {},
   "outputs": [],
   "source": [
    "plt.bar(model_names, accuracy_values, color=colors)\n",
    "plt.title('Accuracy for different Models')\n",
    "plt.xlabel('Models')\n",
    "plt.ylabel('Accuracy')\n",
    "plt.ylim([0, 1])\n",
    "plt.show()"
   ]
  },
  {
   "cell_type": "code",
   "execution_count": null,
   "id": "54a35042",
   "metadata": {},
   "outputs": [],
   "source": [
    "plt.bar(model_names, precision_values, color=colors)\n",
    "plt.title('Precision for different Models')\n",
    "plt.xlabel('Models')\n",
    "plt.ylabel('Precision')\n",
    "plt.ylim([0, 1])\n",
    "plt.show()"
   ]
  },
  {
   "cell_type": "code",
   "execution_count": null,
   "id": "3df743b6",
   "metadata": {},
   "outputs": [],
   "source": [
    "plt.bar(model_names, recall_values, color=colors)\n",
    "plt.title('Recall for different Models')\n",
    "plt.xlabel('Models')\n",
    "plt.ylabel('Recall')\n",
    "plt.ylim([0, 1])\n",
    "plt.show()"
   ]
  },
  {
   "cell_type": "code",
   "execution_count": null,
   "id": "cf7d9e88",
   "metadata": {},
   "outputs": [],
   "source": [
    "best_classifier_vts = max(vts_classifiers_results, key=lambda x: vts_classifiers_results[x]['accuracy'])\n",
    "best_classifier_vts "
   ]
  },
  {
   "cell_type": "markdown",
   "id": "b6f6f8b8",
   "metadata": {},
   "source": [
    "#### Evaluation results using VTS features\n",
    "\n",
    "| Model                  | Accuracy | Precision | Recall |\n",
    "|------------------------|----------|-----------|--------|\n",
    "| LogisticRegression     | 0.72     | 0.731     | 0.72   |\n",
    "| RandomForestClassifier | 0.739    | 0.752     | 0.739  |\n",
    "| <span style=\"color:green\"> GBTClassifier </span>          | 0.762    | 0.763     | 0.762  |\n",
    "| LinearSVC              | 0.725    | 0.735     | 0.725  |"
   ]
  },
  {
   "cell_type": "markdown",
   "id": "750e903c",
   "metadata": {},
   "source": [
    "### Models trained using threshold features"
   ]
  },
  {
   "cell_type": "code",
   "execution_count": null,
   "id": "3e0c5316",
   "metadata": {},
   "outputs": [],
   "source": [
    "threshold_classifiers = [\n",
    "    RandomForestClassifier(featuresCol='threshold_features_vector', labelCol='url_type'),\n",
    "    LogisticRegression(featuresCol='threshold_features_vector', labelCol='url_type'),\n",
    "    LinearSVC(featuresCol='threshold_features_vector', labelCol='url_type'),\n",
    "    GBTClassifier(featuresCol='threshold_features_vector', labelCol='url_type')\n",
    "]\n",
    "\n",
    "threshold_classifiers_results = {}"
   ]
  },
  {
   "cell_type": "code",
   "execution_count": null,
   "id": "d100a7b5",
   "metadata": {},
   "outputs": [],
   "source": [
    "with ThreadPoolExecutor() as executor:\n",
    "    threshold_classifiers_results = dict(executor.map(lambda clf: train_and_evaluate(clf, train, test), threshold_classifiers))"
   ]
  },
  {
   "cell_type": "code",
   "execution_count": null,
   "id": "461b9bfb",
   "metadata": {},
   "outputs": [],
   "source": [
    "model_names, accuracy_values, precision_values, recall_values = get_metrics_list(vts_classifiers_results)"
   ]
  },
  {
   "cell_type": "code",
   "execution_count": null,
   "id": "29766c24",
   "metadata": {},
   "outputs": [],
   "source": [
    "plt.bar(model_names, accuracy_values, color=colors)\n",
    "plt.title('Accuracy for different Models')\n",
    "plt.xlabel('Models')\n",
    "plt.ylabel('Accuracy')\n",
    "plt.ylim([0, 1])\n",
    "plt.show()"
   ]
  },
  {
   "cell_type": "code",
   "execution_count": null,
   "id": "c631cc3c",
   "metadata": {},
   "outputs": [],
   "source": [
    "plt.bar(model_names, precision_values, color=colors)\n",
    "plt.title('Precision for different Models')\n",
    "plt.xlabel('Models')\n",
    "plt.ylabel('Precision')\n",
    "plt.ylim([0, 1])\n",
    "plt.show()"
   ]
  },
  {
   "cell_type": "code",
   "execution_count": null,
   "id": "6844f0a5",
   "metadata": {},
   "outputs": [],
   "source": [
    "plt.bar(model_names, recall_values, color=colors)\n",
    "plt.title('Recall for different Models')\n",
    "plt.xlabel('Models')\n",
    "plt.ylabel('Recall')\n",
    "plt.ylim([0, 1])\n",
    "plt.show()"
   ]
  },
  {
   "cell_type": "code",
   "execution_count": null,
   "id": "169fce68",
   "metadata": {},
   "outputs": [],
   "source": [
    "best_classifier_threshold = max(threshold_classifiers_results, key=lambda x: threshold_classifiers_results[x]['accuracy'])\n",
    "best_classifier_threshold"
   ]
  },
  {
   "cell_type": "markdown",
   "id": "557e3c57",
   "metadata": {},
   "source": [
    "| Model                 | Accuracy | Precision | Recall |\n",
    "|-----------------------|----------|-----------|--------|\n",
    "| Logistic Regression   | 0.798    | 0.818     | 0.798  |\n",
    "| RandomForestClassifier| 0.806    | 0.826     | 0.806  |\n",
    "| <span style=\"color:green\"> GBTClassifier </span> | 0.825    | 0.84      | 0.825  |\n",
    "| LinearSVC             | 0.804    | 0.823     | 0.804  |\n"
   ]
  },
  {
   "cell_type": "markdown",
   "id": "6a27f860",
   "metadata": {},
   "source": [
    "## Summary base models"
   ]
  },
  {
   "cell_type": "markdown",
   "id": "e88de066",
   "metadata": {},
   "source": [
    "In all of the four cases taken into account:\n",
    "- Training of base models with base features\n",
    "- Training of base models with PCA features\n",
    "- Training of base models with VTS features\n",
    "- Training of base models with features after applying a threshold on feature importance\n",
    "\n",
    "the Gradient Boosting Tree classifier was the best, here there are performances of each version:\n",
    "\n",
    "| Model                  | Accuracy | Precision | Recall |\n",
    "|------------------------|----------|-----------|--------|\n",
    "| <span style=\"color:green\"> GBTClassifier (base) </span>  | 0.864    | 0.863    | 0.863  |\n",
    "| GBTClassifier (PCA)    | 0.789    | 0.789     | 0.789  |\n",
    "| GBTClassifier (VTS)    | 0.762    | 0.763     | 0.762  |\n",
    "| GBTClassifier (threshold)| 0.825    | 0.84      | 0.825  |"
   ]
  },
  {
   "cell_type": "markdown",
   "id": "d698b8c4",
   "metadata": {},
   "source": [
    "## Conclusions\n",
    "\n",
    "In conclusion, we can say that the basic model trained with all features, without performing feature selection turns out to be the best of the models considered to which various feature selection techniques were applied. This rather unexpected result can be explained as follows: the extracted features, even the most teachable ones, contribute to the distinction between malicious and benign URLs."
   ]
  },
  {
   "cell_type": "code",
   "execution_count": null,
   "id": "4b1e2115",
   "metadata": {},
   "outputs": [],
   "source": [
    "spark.stop()"
   ]
  }
 ],
 "metadata": {
  "kernelspec": {
   "display_name": "Python 3 (ipykernel)",
   "language": "python",
   "name": "python3"
  },
  "language_info": {
   "codemirror_mode": {
    "name": "ipython",
    "version": 3
   },
   "file_extension": ".py",
   "mimetype": "text/x-python",
   "name": "python",
   "nbconvert_exporter": "python",
   "pygments_lexer": "ipython3",
   "version": "3.10.4"
  }
 },
 "nbformat": 4,
 "nbformat_minor": 5
}
