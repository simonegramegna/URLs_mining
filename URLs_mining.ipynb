{
 "cells": [
  {
   "cell_type": "code",
   "execution_count": 94,
   "id": "ac41252f",
   "metadata": {},
   "outputs": [],
   "source": [
    "from pyspark.sql import SparkSession\n",
    "from pyspark.sql.functions import count, when, col, length, regexp_replace\n",
    "from pyspark.sql.types import IntegerType, BooleanType, StringType\n",
    "from pyspark.ml.feature import VectorAssembler, MinMaxScaler, PCA\n",
    "from pyspark.ml.classification import RandomForestClassifier, NaiveBayes, LinearSVC, GBTClassifier\n",
    "from pyspark.ml.evaluation import MulticlassClassificationEvaluator\n",
    "from pyspark.ml import Pipeline"
   ]
  },
  {
   "cell_type": "code",
   "execution_count": 67,
   "id": "2ab97899",
   "metadata": {},
   "outputs": [
    {
     "data": {
      "text/html": [
       "\n",
       "            <div>\n",
       "                <p><b>SparkSession - in-memory</b></p>\n",
       "                \n",
       "        <div>\n",
       "            <p><b>SparkContext</b></p>\n",
       "\n",
       "            <p><a href=\"http://DESKTOP-B4I5JT1:4040\">Spark UI</a></p>\n",
       "\n",
       "            <dl>\n",
       "              <dt>Version</dt>\n",
       "                <dd><code>v3.5.0</code></dd>\n",
       "              <dt>Master</dt>\n",
       "                <dd><code>local[*]</code></dd>\n",
       "              <dt>AppName</dt>\n",
       "                <dd><code>URLs_mining</code></dd>\n",
       "            </dl>\n",
       "        </div>\n",
       "        \n",
       "            </div>\n",
       "        "
      ],
      "text/plain": [
       "<pyspark.sql.session.SparkSession at 0x28b79904a00>"
      ]
     },
     "execution_count": 67,
     "metadata": {},
     "output_type": "execute_result"
    }
   ],
   "source": [
    "spark = SparkSession.builder.appName('URLs_mining').getOrCreate()\n",
    "spark"
   ]
  },
  {
   "cell_type": "code",
   "execution_count": 68,
   "id": "8b3e2a52",
   "metadata": {},
   "outputs": [
    {
     "name": "stdout",
     "output_type": "stream",
     "text": [
      "+--------------------+----------+\n",
      "|                 url|      type|\n",
      "+--------------------+----------+\n",
      "|    br-icloud.com.br|  phishing|\n",
      "|mp3raid.com/music...|    benign|\n",
      "|bopsecrets.org/re...|    benign|\n",
      "|http://www.garage...|defacement|\n",
      "|http://adventure-...|defacement|\n",
      "|http://buzzfil.ne...|    benign|\n",
      "|espn.go.com/nba/p...|    benign|\n",
      "|yourbittorrent.co...|    benign|\n",
      "|http://www.pashmi...|defacement|\n",
      "|allmusic.com/albu...|    benign|\n",
      "|corporationwiki.c...|    benign|\n",
      "|http://www.ikenmi...|defacement|\n",
      "|myspace.com/video...|    benign|\n",
      "|http://www.lebens...|defacement|\n",
      "|http://www.szabad...|defacement|\n",
      "|http://larcadelca...|defacement|\n",
      "|quickfacts.census...|    benign|\n",
      "|nugget.ca/Article...|    benign|\n",
      "|uk.linkedin.com/p...|    benign|\n",
      "|http://www.vnic.c...|defacement|\n",
      "+--------------------+----------+\n",
      "only showing top 20 rows\n",
      "\n"
     ]
    }
   ],
   "source": [
    "# Read the CSV file into a DataFrame\n",
    "data = spark.read.csv(\"malicious_urls.csv\", header=True, inferSchema=True)\n",
    "\n",
    "# Show the first few rows of the DataFrame\n",
    "data.show()"
   ]
  },
  {
   "cell_type": "code",
   "execution_count": 69,
   "id": "cb61133b",
   "metadata": {},
   "outputs": [
    {
     "name": "stdout",
     "output_type": "stream",
     "text": [
      "+--------------------+------+\n",
      "|                type| count|\n",
      "+--------------------+------+\n",
      "|              benign|428103|\n",
      "|          defacement| 96457|\n",
      "|            phishing| 94108|\n",
      "|             malware| 32520|\n",
      "|                NULL|    15|\n",
      "|                \u0015Ð\u001a\u001f|     1|\n",
      "|\u0010\u0011PhµW\u0011\\v;XyOy...|     1|\n",
      "|cÔ",
      "¡æ>1\\bHÇÕ\u001bd...|     1|\n",
      "|                spam| 12000|\n",
      "+--------------------+------+\n",
      "\n"
     ]
    }
   ],
   "source": [
    "data.groupBy(\"type\").count().show()"
   ]
  },
  {
   "cell_type": "markdown",
   "id": "8752caab",
   "metadata": {},
   "source": [
    "## Data pre-processing"
   ]
  },
  {
   "cell_type": "code",
   "execution_count": 70,
   "id": "72d65a72",
   "metadata": {},
   "outputs": [
    {
     "name": "stdout",
     "output_type": "stream",
     "text": [
      "+--------------------+------+\n",
      "|                type| count|\n",
      "+--------------------+------+\n",
      "|                spam| 11921|\n",
      "|              benign|428080|\n",
      "|          defacement| 95308|\n",
      "|            phishing| 94083|\n",
      "|             malware| 23645|\n",
      "|                \u0015Ð\u001a\u001f|     1|\n",
      "|\u0010\u0011PhµW\u0011\\v;XyOy...|     1|\n",
      "|cÔ",
      "¡æ>1\\bHÇÕ\u001bd...|     1|\n",
      "+--------------------+------+\n",
      "\n"
     ]
    }
   ],
   "source": [
    "data = data.dropDuplicates([\"url\"])\n",
    "data = data.na.drop()\n",
    "\n",
    "data.groupBy(\"type\").count().show()"
   ]
  },
  {
   "cell_type": "code",
   "execution_count": 71,
   "id": "b8abcc25",
   "metadata": {},
   "outputs": [
    {
     "name": "stdout",
     "output_type": "stream",
     "text": [
      "+----------+------+\n",
      "|      type| count|\n",
      "+----------+------+\n",
      "|      spam| 11921|\n",
      "|    benign|428080|\n",
      "|defacement| 95308|\n",
      "|  phishing| 94083|\n",
      "|   malware| 23645|\n",
      "+----------+------+\n",
      "\n"
     ]
    }
   ],
   "source": [
    "data = data.filter(col(\"type\").rlike(r'^[ -~]+$'))\n",
    "data.groupBy(\"type\").count().show()"
   ]
  },
  {
   "cell_type": "code",
   "execution_count": 72,
   "id": "b4840e8f",
   "metadata": {},
   "outputs": [
    {
     "name": "stdout",
     "output_type": "stream",
     "text": [
      "+--------------------+--------+--------+\n",
      "|                 url|    type|url_type|\n",
      "+--------------------+--------+--------+\n",
      "|   \u0010H\\vÖË\u001c",
      "]\u001ft¹[ÈöýE|phishing|       1|\n",
      "|\u0013^o\u0014ð]Â|¬|hõElò...|phishing|       1|\n",
      "|\"½\u0013<+U\u001f\u0012½¹1\\f[...|phishing|       1|\n",
      "|\"äÕ3ñºT-\\f\u0011TÖGÑîÊ...|phishing|       1|\n",
      "|\"ë\u0003Ël×uÏB'JI¨GÙn\"...|phishing|       1|\n",
      "|'118bm.com/images...|  benign|       0|\n",
      "|'1pcables-inox.co...|  benign|       0|\n",
      "|'9d345009-a-62cb3...|  benign|       0|\n",
      "|'9d345009-a-62cb3...|  benign|       0|\n",
      "|'9d345009-a-62cb3...|  benign|       0|\n",
      "|'9d345009-a-62cb3...|  benign|       0|\n",
      "|'9d345009-a-62cb3...|  benign|       0|\n",
      "|'9d345009-a-62cb3...|  benign|       0|\n",
      "|'9d345009-a-62cb3...|  benign|       0|\n",
      "|'9d345009-a-62cb3...|  benign|       0|\n",
      "|'9d345009-a-62cb3...|  benign|       0|\n",
      "|'9d345009-a-62cb3...|  benign|       0|\n",
      "|'9d345009-a-62cb3...|  benign|       0|\n",
      "|'9d345009-a-62cb3...|  benign|       0|\n",
      "|'9d345009-a-62cb3...|  benign|       0|\n",
      "+--------------------+--------+--------+\n",
      "only showing top 20 rows\n",
      "\n"
     ]
    }
   ],
   "source": [
    "data = data.withColumn(\"url_type\", when(data[\"type\"].contains(\"benign\"), 0).otherwise(1))\n",
    "#data = data.drop(\"type\")\n",
    "data.show()"
   ]
  },
  {
   "cell_type": "code",
   "execution_count": 73,
   "id": "6631acee",
   "metadata": {},
   "outputs": [
    {
     "name": "stdout",
     "output_type": "stream",
     "text": [
      "+--------------------+------+--------+\n",
      "|                 url|  type|url_type|\n",
      "+--------------------+------+--------+\n",
      "|'118bm.com/images...|benign|       0|\n",
      "|'1pcables-inox.co...|benign|       0|\n",
      "|'9d345009-a-62cb3...|benign|       0|\n",
      "|'9d345009-a-62cb3...|benign|       0|\n",
      "|'9d345009-a-62cb3...|benign|       0|\n",
      "|'9d345009-a-62cb3...|benign|       0|\n",
      "|'9d345009-a-62cb3...|benign|       0|\n",
      "|'9d345009-a-62cb3...|benign|       0|\n",
      "|'9d345009-a-62cb3...|benign|       0|\n",
      "|'9d345009-a-62cb3...|benign|       0|\n",
      "|'9d345009-a-62cb3...|benign|       0|\n",
      "|'9d345009-a-62cb3...|benign|       0|\n",
      "|'9d345009-a-62cb3...|benign|       0|\n",
      "|'9d345009-a-62cb3...|benign|       0|\n",
      "|'9d345009-a-62cb3...|benign|       0|\n",
      "|'9d345009-a-62cb3...|benign|       0|\n",
      "|'9d345009-a-62cb3...|benign|       0|\n",
      "|'9d345009-a-62cb3...|benign|       0|\n",
      "|'9d345009-a-62cb3...|benign|       0|\n",
      "|'9d345009-a-62cb3...|benign|       0|\n",
      "+--------------------+------+--------+\n",
      "only showing top 20 rows\n",
      "\n"
     ]
    }
   ],
   "source": [
    "data = data.filter(col(\"url\").rlike(r'^[ -~]+$'))\n",
    "data.show()"
   ]
  },
  {
   "cell_type": "code",
   "execution_count": 74,
   "id": "89ccec7e",
   "metadata": {},
   "outputs": [
    {
     "name": "stdout",
     "output_type": "stream",
     "text": [
      "+--------+------+\n",
      "|url_type| count|\n",
      "+--------+------+\n",
      "|       1|224323|\n",
      "|       0|427801|\n",
      "+--------+------+\n",
      "\n"
     ]
    }
   ],
   "source": [
    "data.groupBy(\"url_type\").count().show()"
   ]
  },
  {
   "cell_type": "code",
   "execution_count": 75,
   "id": "d5f838e4",
   "metadata": {},
   "outputs": [
    {
     "name": "stdout",
     "output_type": "stream",
     "text": [
      "+--------+------+\n",
      "|url_type| count|\n",
      "+--------+------+\n",
      "|       1|100473|\n",
      "|       0|100153|\n",
      "+--------+------+\n",
      "\n"
     ]
    }
   ],
   "source": [
    "sample_size = 100000\n",
    "\n",
    "data = data.sampleBy(\"url_type\", fractions={0 : sample_size/data.filter(col(\"url_type\") == 0).count(),\n",
    "                                               1 : sample_size/data.filter(col(\"url_type\") == 1).count()}, seed=42)\n",
    "data.groupBy(\"url_type\").count().show()"
   ]
  },
  {
   "cell_type": "markdown",
   "id": "a4d99970",
   "metadata": {},
   "source": [
    "## Features engineering"
   ]
  },
  {
   "cell_type": "code",
   "execution_count": 76,
   "id": "64b63701",
   "metadata": {},
   "outputs": [],
   "source": [
    "data = data.withColumn(\"url_length\", length(\"url\"))\n",
    "data = data.withColumn(\"digit_count\", length(regexp_replace(col(\"url\"), \"[^0-9]\", \"\")))\n",
    "data = data.withColumn(\"ampersand_count\", length(regexp_replace(col(\"url\"), \"[^&]\", \"\")))\n",
    "data = data.withColumn(\"underscore_count\", length(regexp_replace(col(\"url\"), \"[^_]\", \"\")))\n",
    "data = data.withColumn(\"dot_count\", length(regexp_replace(col(\"url\"), \"[^.]\", \"\")))\n",
    "data = data.withColumn(\"percent_count\", length(regexp_replace(col(\"url\"), \"[^%]\", \"\")))\n",
    "data = data.withColumn(\"at_count\", length(regexp_replace(col(\"url\"), \"[^@]\", \"\")))\n",
    "data = data.withColumn(\"tilde_count\", length(regexp_replace(col(\"url\"), \"[^~]\", \"\")))\n",
    "data = data.withColumn(\"hash_count\", length(regexp_replace(col(\"url\"), \"[^#]\", \"\")))\n",
    "data = data.withColumn(\"has_https\", when(data[\"url\"].startswith(\"https\"), 1).otherwise(0))\n",
    "data = data.withColumn(\"has_http\", when(data[\"url\"].startswith(\"http\"), 1).otherwise(0))\n",
    "data = data.withColumn(\"starts_with_digit\", when(data[\"url\"].rlike(\"^[0-9]\"), 1).otherwise(0))"
   ]
  },
  {
   "cell_type": "code",
   "execution_count": 77,
   "id": "3c4c485c",
   "metadata": {},
   "outputs": [
    {
     "name": "stdout",
     "output_type": "stream",
     "text": [
      "+--------------------+------+--------+----------+-----------+---------------+----------------+---------+-------------+--------+-----------+----------+---------+--------+-----------------+\n",
      "|                 url|  type|url_type|url_length|digit_count|ampersand_count|underscore_count|dot_count|percent_count|at_count|tilde_count|hash_count|has_https|has_http|starts_with_digit|\n",
      "+--------------------+------+--------+----------+-----------+---------------+----------------+---------+-------------+--------+-----------+----------+---------+--------+-----------------+\n",
      "|'9d345009-a-62cb3...|benign|       0|       363|         46|              2|               1|        3|            3|       0|          0|         0|        0|       0|                0|\n",
      "|'9d345009-a-62cb3...|benign|       0|       371|         51|              2|               6|        3|            3|       0|          0|         0|        0|       0|                0|\n",
      "|'9d345009-a-62cb3...|benign|       0|       371|         50|              2|               2|        3|            3|       0|          0|         0|        0|       0|                0|\n",
      "|'9d345009-a-62cb3...|benign|       0|       371|         55|              2|               5|        3|            3|       0|          0|         0|        0|       0|                0|\n",
      "|'9d345009-a-62cb3...|benign|       0|       371|         44|              2|               1|        3|            3|       0|          0|         0|        0|       0|                0|\n",
      "|'9d345009-a-62cb3...|benign|       0|       371|         54|              2|               1|        3|            3|       0|          0|         0|        0|       0|                0|\n",
      "|'9d345009-a-62cb3...|benign|       0|       371|         46|              2|               5|        3|            3|       0|          0|         0|        0|       0|                0|\n",
      "|'9d345009-a-62cb3...|benign|       0|       371|         56|              2|               4|        3|            3|       0|          0|         0|        0|       0|                0|\n",
      "|'9d345009-a-62cb3...|benign|       0|       371|         54|              2|               3|        3|            3|       0|          0|         0|        0|       0|                0|\n",
      "|'9d345009-a-62cb3...|benign|       0|       371|         51|              2|               2|        3|            3|       0|          0|         0|        0|       0|                0|\n",
      "|'9d345009-a-62cb3...|benign|       0|       371|         36|              2|               4|        3|            3|       0|          0|         0|        0|       0|                0|\n",
      "|'9d345009-a-62cb3...|benign|       0|       371|         53|              2|               1|        3|            3|       0|          0|         0|        0|       0|                0|\n",
      "|'9d345009-a-62cb3...|benign|       0|       371|         50|              2|               5|        3|            3|       0|          0|         0|        0|       0|                0|\n",
      "|'9d345009-a-62cb3...|benign|       0|       371|         57|              2|               1|        3|            3|       0|          0|         0|        0|       0|                0|\n",
      "|'9d345009-a-62cb3...|benign|       0|       371|         44|              2|               7|        3|            3|       0|          0|         0|        0|       0|                0|\n",
      "|'9d345009-a-62cb3...|benign|       0|       371|         50|              2|               1|        3|            3|       0|          0|         0|        0|       0|                0|\n",
      "|'9d345009-a-62cb3...|benign|       0|       371|         50|              2|               5|        3|            3|       0|          0|         0|        0|       0|                0|\n",
      "|'9d345009-a-62cb3...|benign|       0|       371|         44|              2|               3|        3|            3|       0|          0|         0|        0|       0|                0|\n",
      "|'9d345009-a-62cb3...|benign|       0|       371|         56|              2|               3|        3|            3|       0|          0|         0|        0|       0|                0|\n",
      "|'9d345009-a-62cb3...|benign|       0|       363|         49|              2|               4|        3|            3|       0|          0|         0|        0|       0|                0|\n",
      "+--------------------+------+--------+----------+-----------+---------------+----------------+---------+-------------+--------+-----------+----------+---------+--------+-----------------+\n",
      "only showing top 20 rows\n",
      "\n"
     ]
    }
   ],
   "source": [
    "data.show()"
   ]
  },
  {
   "cell_type": "markdown",
   "id": "96e57718",
   "metadata": {},
   "source": [
    "### Features selection"
   ]
  },
  {
   "cell_type": "code",
   "execution_count": 101,
   "id": "c9c12b7a",
   "metadata": {},
   "outputs": [
    {
     "data": {
      "text/plain": [
       "['url',\n",
       " 'url_type',\n",
       " 'url_length',\n",
       " 'digit_count',\n",
       " 'ampersand_count',\n",
       " 'underscore_count',\n",
       " 'dot_count',\n",
       " 'percent_count',\n",
       " 'at_count',\n",
       " 'tilde_count',\n",
       " 'hash_count',\n",
       " 'has_https',\n",
       " 'has_http',\n",
       " 'starts_with_digit',\n",
       " 'features_vector',\n",
       " 'scaled_features',\n",
       " 'pca_features']"
      ]
     },
     "execution_count": 101,
     "metadata": {},
     "output_type": "execute_result"
    }
   ],
   "source": [
    "data = data.drop(\"type\")\n",
    "data.columns"
   ]
  },
  {
   "cell_type": "code",
   "execution_count": 78,
   "id": "924cfdd1",
   "metadata": {},
   "outputs": [],
   "source": [
    "feature_columns = [\n",
    "    \"url_length\",\n",
    "    \"digit_count\",\n",
    "    \"ampersand_count\",\n",
    "    \"underscore_count\",\n",
    "    \"dot_count\",\n",
    "    \"percent_count\",\n",
    "    \"at_count\",\n",
    "    \"tilde_count\",\n",
    "    \"hash_count\",\n",
    "    \"has_https\",\n",
    "    \"has_http\",\n",
    "    \"starts_with_digit\"\n",
    "]"
   ]
  },
  {
   "cell_type": "code",
   "execution_count": 79,
   "id": "47c7b18f",
   "metadata": {},
   "outputs": [],
   "source": [
    "assembler = VectorAssembler(inputCols=feature_columns, outputCol=\"features_vector\")\n",
    "data = assembler.transform(data)"
   ]
  },
  {
   "cell_type": "code",
   "execution_count": 80,
   "id": "9881a72a",
   "metadata": {},
   "outputs": [
    {
     "name": "stdout",
     "output_type": "stream",
     "text": [
      "+-----------------------------------------------+\n",
      "|features_vector                                |\n",
      "+-----------------------------------------------+\n",
      "|(12,[0,1,2,3,4,5],[363.0,46.0,2.0,1.0,3.0,3.0])|\n",
      "|(12,[0,1,2,3,4,5],[371.0,51.0,2.0,6.0,3.0,3.0])|\n",
      "|(12,[0,1,2,3,4,5],[371.0,50.0,2.0,2.0,3.0,3.0])|\n",
      "|(12,[0,1,2,3,4,5],[371.0,55.0,2.0,5.0,3.0,3.0])|\n",
      "|(12,[0,1,2,3,4,5],[371.0,44.0,2.0,1.0,3.0,3.0])|\n",
      "|(12,[0,1,2,3,4,5],[371.0,54.0,2.0,1.0,3.0,3.0])|\n",
      "|(12,[0,1,2,3,4,5],[371.0,46.0,2.0,5.0,3.0,3.0])|\n",
      "|(12,[0,1,2,3,4,5],[371.0,56.0,2.0,4.0,3.0,3.0])|\n",
      "|(12,[0,1,2,3,4,5],[371.0,54.0,2.0,3.0,3.0,3.0])|\n",
      "|(12,[0,1,2,3,4,5],[371.0,51.0,2.0,2.0,3.0,3.0])|\n",
      "|(12,[0,1,2,3,4,5],[371.0,36.0,2.0,4.0,3.0,3.0])|\n",
      "|(12,[0,1,2,3,4,5],[371.0,53.0,2.0,1.0,3.0,3.0])|\n",
      "|(12,[0,1,2,3,4,5],[371.0,50.0,2.0,5.0,3.0,3.0])|\n",
      "|(12,[0,1,2,3,4,5],[371.0,57.0,2.0,1.0,3.0,3.0])|\n",
      "|(12,[0,1,2,3,4,5],[371.0,44.0,2.0,7.0,3.0,3.0])|\n",
      "|(12,[0,1,2,3,4,5],[371.0,50.0,2.0,1.0,3.0,3.0])|\n",
      "|(12,[0,1,2,3,4,5],[371.0,50.0,2.0,5.0,3.0,3.0])|\n",
      "|(12,[0,1,2,3,4,5],[371.0,44.0,2.0,3.0,3.0,3.0])|\n",
      "|(12,[0,1,2,3,4,5],[371.0,56.0,2.0,3.0,3.0,3.0])|\n",
      "|(12,[0,1,2,3,4,5],[363.0,49.0,2.0,4.0,3.0,3.0])|\n",
      "+-----------------------------------------------+\n",
      "only showing top 20 rows\n",
      "\n"
     ]
    }
   ],
   "source": [
    "data.select(\"features_vector\").show(truncate=False)"
   ]
  },
  {
   "cell_type": "markdown",
   "id": "fda69e0a",
   "metadata": {},
   "source": [
    "#### Min-Max scaling"
   ]
  },
  {
   "cell_type": "code",
   "execution_count": 81,
   "id": "d31def71",
   "metadata": {},
   "outputs": [],
   "source": [
    "# Creazione di un oggetto MinMaxScaler\n",
    "min_max_scaler = MinMaxScaler(inputCol=\"features_vector\", outputCol=\"scaled_features\")\n",
    "\n",
    "# Creazione di un oggetto Pipeline\n",
    "min_max_pipeline = Pipeline(stages=[min_max_scaler])\n",
    "\n",
    "# Addestramento del modello e trasformazione del DataFrame\n",
    "min_max_model = min_max_pipeline.fit(data)\n",
    "data = min_max_model.transform(data)"
   ]
  },
  {
   "cell_type": "code",
   "execution_count": 82,
   "id": "3062ee27",
   "metadata": {},
   "outputs": [
    {
     "name": "stdout",
     "output_type": "stream",
     "text": [
      "+-------------------------------------------------------------------------------------------------------------------------------+\n",
      "|scaled_features                                                                                                                |\n",
      "+-------------------------------------------------------------------------------------------------------------------------------+\n",
      "|(12,[0,1,2,3,4,5],[0.20180383314543404,0.05032822757111597,0.04,0.02631578947368421,0.04878048780487805,0.020134228187919462]) |\n",
      "|(12,[0,1,2,3,4,5],[0.20631341600901915,0.05579868708971553,0.04,0.15789473684210525,0.04878048780487805,0.020134228187919462]) |\n",
      "|(12,[0,1,2,3,4,5],[0.20631341600901915,0.05470459518599562,0.04,0.05263157894736842,0.04878048780487805,0.020134228187919462]) |\n",
      "|(12,[0,1,2,3,4,5],[0.20631341600901915,0.060175054704595186,0.04,0.13157894736842105,0.04878048780487805,0.020134228187919462])|\n",
      "|(12,[0,1,2,3,4,5],[0.20631341600901915,0.048140043763676144,0.04,0.02631578947368421,0.04878048780487805,0.020134228187919462])|\n",
      "|(12,[0,1,2,3,4,5],[0.20631341600901915,0.05908096280087527,0.04,0.02631578947368421,0.04878048780487805,0.020134228187919462]) |\n",
      "|(12,[0,1,2,3,4,5],[0.20631341600901915,0.05032822757111597,0.04,0.13157894736842105,0.04878048780487805,0.020134228187919462]) |\n",
      "|(12,[0,1,2,3,4,5],[0.20631341600901915,0.061269146608315096,0.04,0.10526315789473684,0.04878048780487805,0.020134228187919462])|\n",
      "|(12,[0,1,2,3,4,5],[0.20631341600901915,0.05908096280087527,0.04,0.07894736842105263,0.04878048780487805,0.020134228187919462]) |\n",
      "|(12,[0,1,2,3,4,5],[0.20631341600901915,0.05579868708971553,0.04,0.05263157894736842,0.04878048780487805,0.020134228187919462]) |\n",
      "|(12,[0,1,2,3,4,5],[0.20631341600901915,0.03938730853391685,0.04,0.10526315789473684,0.04878048780487805,0.020134228187919462]) |\n",
      "|(12,[0,1,2,3,4,5],[0.20631341600901915,0.05798687089715536,0.04,0.02631578947368421,0.04878048780487805,0.020134228187919462]) |\n",
      "|(12,[0,1,2,3,4,5],[0.20631341600901915,0.05470459518599562,0.04,0.13157894736842105,0.04878048780487805,0.020134228187919462]) |\n",
      "|(12,[0,1,2,3,4,5],[0.20631341600901915,0.062363238512035006,0.04,0.02631578947368421,0.04878048780487805,0.020134228187919462])|\n",
      "|(12,[0,1,2,3,4,5],[0.20631341600901915,0.048140043763676144,0.04,0.18421052631578946,0.04878048780487805,0.020134228187919462])|\n",
      "|(12,[0,1,2,3,4,5],[0.20631341600901915,0.05470459518599562,0.04,0.02631578947368421,0.04878048780487805,0.020134228187919462]) |\n",
      "|(12,[0,1,2,3,4,5],[0.20631341600901915,0.05470459518599562,0.04,0.13157894736842105,0.04878048780487805,0.020134228187919462]) |\n",
      "|(12,[0,1,2,3,4,5],[0.20631341600901915,0.048140043763676144,0.04,0.07894736842105263,0.04878048780487805,0.020134228187919462])|\n",
      "|(12,[0,1,2,3,4,5],[0.20631341600901915,0.061269146608315096,0.04,0.07894736842105263,0.04878048780487805,0.020134228187919462])|\n",
      "|(12,[0,1,2,3,4,5],[0.20180383314543404,0.05361050328227571,0.04,0.10526315789473684,0.04878048780487805,0.020134228187919462]) |\n",
      "+-------------------------------------------------------------------------------------------------------------------------------+\n",
      "only showing top 20 rows\n",
      "\n"
     ]
    }
   ],
   "source": [
    "data.select(\"scaled_features\").show(truncate=False)"
   ]
  },
  {
   "cell_type": "markdown",
   "id": "1cd095a2",
   "metadata": {},
   "source": [
    "#### Principal Component Analysis - PCA"
   ]
  },
  {
   "cell_type": "code",
   "execution_count": 84,
   "id": "ff7c73e4",
   "metadata": {},
   "outputs": [],
   "source": [
    "pca = PCA(k=5, inputCol=\"scaled_features\", outputCol=\"pca_features\")\n",
    "pca_model = pca.fit(data)"
   ]
  },
  {
   "cell_type": "code",
   "execution_count": 85,
   "id": "c5a1cde7",
   "metadata": {},
   "outputs": [],
   "source": [
    "data = pca_model.transform(data)"
   ]
  },
  {
   "cell_type": "code",
   "execution_count": 86,
   "id": "c210e829",
   "metadata": {},
   "outputs": [
    {
     "name": "stdout",
     "output_type": "stream",
     "text": [
      "+--------------------------------------------------------------------------------------------------------------+\n",
      "|pca_features                                                                                                  |\n",
      "+--------------------------------------------------------------------------------------------------------------+\n",
      "|[-0.0067109174354255535,-0.00316804819082955,-3.7478004956300427E-4,0.17559904279058972,-0.018358191045913963]|\n",
      "|[-0.0072790567370971,-0.003970869526189762,-6.09243787391657E-4,0.23742075019371547,-0.0999988020714439]      |\n",
      "|[-0.006921506686156236,-0.0033462049580184495,-4.1246585543996955E-4,0.19057798885656393,-0.03518672341220894]|\n",
      "|[-0.007214088748729602,-0.0038002213476157187,-5.466494164500249E-4,0.22661826457071022,-0.08385439957954649] |\n",
      "|[-0.006799080993394107,-0.0032096321595178542,-3.8140063262471444E-4,0.1776385509717172,-0.018904398160520156]|\n",
      "|[-0.006856538697788737,-0.0031755567794444052,-3.4987148449833747E-4,0.17977550323355868,-0.01904232092031155]|\n",
      "|[-0.007162376814774434,-0.0038308891896818233,-5.750256497637641E-4,0.2246950075350529,-0.08373026909573425]  |\n",
      "|[-0.007131883449043715,-0.0036397957830637093,-4.935137899463059E-4,0.2151746932691525,-0.06766862025971168]  |\n",
      "|[-0.007032440838039438,-0.0034895928325337344,-4.498369078805E-4,0.20309003628904237,-0.05144146411193945]    |\n",
      "|[-0.0069272524565957,-0.0033427974200111042,-4.0931294062733183E-4,0.19079168408274808,-0.03520051568818808]  |\n",
      "|[-0.0070169680402544544,-0.003707946543210608,-5.565720861990598E-4,0.21090078874546958,-0.06739277474012889] |\n",
      "|[-0.006850792927349274,-0.00317896431745175,-3.530243993109752E-4,0.17956180800737453,-0.01902852864433241]   |\n",
      "|[-0.0071853598965322864,-0.0038172590376524436,-5.624139905132133E-4,0.22554978843978948,-0.08378543819965079]|\n",
      "|[-0.006873776009107126,-0.0031653341654223704,-3.404127400604244E-4,0.1804165889121111,-0.019083697748248973] |\n",
      "|[-0.00732678741414621,-0.004151740318785842,-6.81296902771202E-4,0.2475821501381683,-0.11610182773540387]     |\n",
      "|[-0.006833555616030885,-0.003189186931473785,-3.6248314374888826E-4,0.17892072232882208,-0.018987151816394987]|\n",
      "|[-0.0071853598965322864,-0.0038172590376524436,-5.624139905132133E-4,0.22554978843978948,-0.08378543819965079]|\n",
      "|[-0.0069749831336448085,-0.0035236682126071834,-4.81366056006877E-4,0.2009530840272009,-0.05130354135214807]  |\n",
      "|[-0.007043932378918365,-0.0034827777565190443,-4.435310782552246E-4,0.20351742674141066,-0.05146904866389773] |\n",
      "|[-0.006992007957119994,-0.003628879656441509,-5.15269440198335E-4,0.21121192805236771,-0.06699828266129323]   |\n",
      "+--------------------------------------------------------------------------------------------------------------+\n",
      "only showing top 20 rows\n",
      "\n"
     ]
    }
   ],
   "source": [
    "data.select(\"pca_features\").show(truncate=False)"
   ]
  },
  {
   "cell_type": "markdown",
   "id": "ee17692a",
   "metadata": {},
   "source": [
    "#### Train test split"
   ]
  },
  {
   "cell_type": "code",
   "execution_count": 87,
   "id": "e1ce4a9a",
   "metadata": {},
   "outputs": [],
   "source": [
    "train, test = data.randomSplit([0.8, 0.2], seed = 2018)"
   ]
  },
  {
   "cell_type": "markdown",
   "id": "1e881294",
   "metadata": {},
   "source": [
    "## Classification models"
   ]
  },
  {
   "cell_type": "markdown",
   "id": "d08e8c9f",
   "metadata": {},
   "source": [
    "### Random forest classifier"
   ]
  },
  {
   "cell_type": "code",
   "execution_count": 88,
   "id": "ed5f861a",
   "metadata": {},
   "outputs": [],
   "source": [
    "rf = RandomForestClassifier(featuresCol = 'scaled_features', labelCol = 'url_type')"
   ]
  },
  {
   "cell_type": "code",
   "execution_count": 89,
   "id": "3c3def19",
   "metadata": {},
   "outputs": [],
   "source": [
    "rfModel = rf.fit(train)\n",
    "predictions = rfModel.transform(test)"
   ]
  },
  {
   "cell_type": "code",
   "execution_count": 92,
   "id": "271ce610",
   "metadata": {},
   "outputs": [
    {
     "name": "stdout",
     "output_type": "stream",
     "text": [
      "+--------+----------+\n",
      "|url_type|prediction|\n",
      "+--------+----------+\n",
      "|       0|       0.0|\n",
      "|       0|       0.0|\n",
      "|       0|       0.0|\n",
      "|       0|       0.0|\n",
      "|       0|       0.0|\n",
      "|       0|       0.0|\n",
      "|       0|       0.0|\n",
      "|       0|       0.0|\n",
      "|       0|       0.0|\n",
      "|       0|       0.0|\n",
      "+--------+----------+\n",
      "only showing top 10 rows\n",
      "\n"
     ]
    }
   ],
   "source": [
    "predictions.select(\"url_type\", \"prediction\").show(10)"
   ]
  },
  {
   "cell_type": "code",
   "execution_count": 95,
   "id": "b0128c42",
   "metadata": {},
   "outputs": [],
   "source": [
    "evaluator = MulticlassClassificationEvaluator(labelCol=\"url_type\", predictionCol=\"prediction\", metricName=\"accuracy\")"
   ]
  },
  {
   "cell_type": "code",
   "execution_count": 96,
   "id": "aec9705f",
   "metadata": {},
   "outputs": [
    {
     "name": "stdout",
     "output_type": "stream",
     "text": [
      "Accuracy: 82.72%\n"
     ]
    }
   ],
   "source": [
    "accuracy = evaluator.evaluate(predictions)\n",
    "print(\"Accuracy: {:.2%}\".format(accuracy))"
   ]
  },
  {
   "cell_type": "code",
   "execution_count": 97,
   "id": "ca03f0fb",
   "metadata": {},
   "outputs": [
    {
     "name": "stdout",
     "output_type": "stream",
     "text": [
      "Weighted Precision: 85.42%\n"
     ]
    }
   ],
   "source": [
    "evaluator.setMetricName(\"weightedPrecision\")\n",
    "precision = evaluator.evaluate(predictions)\n",
    "print(\"Weighted Precision: {:.2%}\".format(precision))"
   ]
  },
  {
   "cell_type": "code",
   "execution_count": 98,
   "id": "08da4749",
   "metadata": {},
   "outputs": [
    {
     "name": "stdout",
     "output_type": "stream",
     "text": [
      "Weighted Recall: 82.72%\n"
     ]
    }
   ],
   "source": [
    "evaluator.setMetricName(\"weightedRecall\")\n",
    "recall = evaluator.evaluate(predictions)\n",
    "print(\"Weighted Recall: {:.2%}\".format(recall))"
   ]
  },
  {
   "cell_type": "markdown",
   "id": "73f87f4a",
   "metadata": {},
   "source": [
    "### Naive Bayes"
   ]
  },
  {
   "cell_type": "code",
   "execution_count": null,
   "id": "83e41987",
   "metadata": {},
   "outputs": [],
   "source": []
  },
  {
   "cell_type": "markdown",
   "id": "13ae5ac8",
   "metadata": {},
   "source": [
    "### Support Vector Machine"
   ]
  },
  {
   "cell_type": "code",
   "execution_count": null,
   "id": "58c21027",
   "metadata": {},
   "outputs": [],
   "source": []
  },
  {
   "cell_type": "markdown",
   "id": "7d52a98f",
   "metadata": {},
   "source": [
    "### Gradient-Boosted Trees "
   ]
  },
  {
   "cell_type": "code",
   "execution_count": null,
   "id": "77eb8c9b",
   "metadata": {},
   "outputs": [],
   "source": []
  }
 ],
 "metadata": {
  "kernelspec": {
   "display_name": "Python 3 (ipykernel)",
   "language": "python",
   "name": "python3"
  },
  "language_info": {
   "codemirror_mode": {
    "name": "ipython",
    "version": 3
   },
   "file_extension": ".py",
   "mimetype": "text/x-python",
   "name": "python",
   "nbconvert_exporter": "python",
   "pygments_lexer": "ipython3",
   "version": "3.10.4"
  }
 },
 "nbformat": 4,
 "nbformat_minor": 5
}
