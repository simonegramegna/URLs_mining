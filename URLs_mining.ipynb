{
 "cells": [
  {
   "cell_type": "code",
   "execution_count": 40,
   "id": "ac41252f",
   "metadata": {},
   "outputs": [],
   "source": [
    "from pyspark.sql import SparkSession\n",
    "from pyspark.sql.functions import count, when, col, length, regexp_replace\n",
    "from pyspark.sql.types import IntegerType, BooleanType, StringType\n",
    "from pyspark.ml.feature import VectorAssembler, MinMaxScaler, PCA\n",
    "from pyspark.ml.classification import RandomForestClassifier, LinearSVC, GBTClassifier, LogisticRegression\n",
    "from pyspark.ml.evaluation import MulticlassClassificationEvaluator\n",
    "from pyspark.ml.tuning import CrossValidator\n",
    "from pyspark.ml import Pipeline\n",
    "\n",
    "from concurrent.futures import ThreadPoolExecutor"
   ]
  },
  {
   "cell_type": "code",
   "execution_count": 41,
   "id": "e7c55434",
   "metadata": {},
   "outputs": [],
   "source": [
    "import numpy as np\n",
    "\n",
    "# Graphics Libs\n",
    "import matplotlib.pyplot as plt\n",
    "%matplotlib inline\n",
    "plt.rcParams['figure.figsize'] = 18, 8\n",
    "import seaborn as sns\n",
    "\n",
    "import warnings\n",
    "warnings.filterwarnings(\"ignore\")"
   ]
  },
  {
   "cell_type": "code",
   "execution_count": 42,
   "id": "2ab97899",
   "metadata": {},
   "outputs": [
    {
     "data": {
      "text/html": [
       "\n",
       "            <div>\n",
       "                <p><b>SparkSession - in-memory</b></p>\n",
       "                \n",
       "        <div>\n",
       "            <p><b>SparkContext</b></p>\n",
       "\n",
       "            <p><a href=\"http://DESKTOP-B4I5JT1:4040\">Spark UI</a></p>\n",
       "\n",
       "            <dl>\n",
       "              <dt>Version</dt>\n",
       "                <dd><code>v3.5.0</code></dd>\n",
       "              <dt>Master</dt>\n",
       "                <dd><code>local[*]</code></dd>\n",
       "              <dt>AppName</dt>\n",
       "                <dd><code>URLs_mining</code></dd>\n",
       "            </dl>\n",
       "        </div>\n",
       "        \n",
       "            </div>\n",
       "        "
      ],
      "text/plain": [
       "<pyspark.sql.session.SparkSession at 0x1dfe501f670>"
      ]
     },
     "execution_count": 42,
     "metadata": {},
     "output_type": "execute_result"
    }
   ],
   "source": [
    "spark = SparkSession.builder.appName('URLs_mining').getOrCreate()\n",
    "spark"
   ]
  },
  {
   "cell_type": "code",
   "execution_count": 43,
   "id": "8b3e2a52",
   "metadata": {
    "scrolled": false
   },
   "outputs": [
    {
     "name": "stdout",
     "output_type": "stream",
     "text": [
      "+--------------------+----------+\n",
      "|                 url|      type|\n",
      "+--------------------+----------+\n",
      "|    br-icloud.com.br|  phishing|\n",
      "|mp3raid.com/music...|    benign|\n",
      "|bopsecrets.org/re...|    benign|\n",
      "|http://www.garage...|defacement|\n",
      "|http://adventure-...|defacement|\n",
      "|http://buzzfil.ne...|    benign|\n",
      "|espn.go.com/nba/p...|    benign|\n",
      "|yourbittorrent.co...|    benign|\n",
      "|http://www.pashmi...|defacement|\n",
      "|allmusic.com/albu...|    benign|\n",
      "|corporationwiki.c...|    benign|\n",
      "|http://www.ikenmi...|defacement|\n",
      "|myspace.com/video...|    benign|\n",
      "|http://www.lebens...|defacement|\n",
      "|http://www.szabad...|defacement|\n",
      "|http://larcadelca...|defacement|\n",
      "|quickfacts.census...|    benign|\n",
      "|nugget.ca/Article...|    benign|\n",
      "|uk.linkedin.com/p...|    benign|\n",
      "|http://www.vnic.c...|defacement|\n",
      "+--------------------+----------+\n",
      "only showing top 20 rows\n",
      "\n"
     ]
    }
   ],
   "source": [
    "# Read the CSV file into a DataFrame\n",
    "data = spark.read.csv(\"malicious_urls.csv\", header=True, inferSchema=True)\n",
    "\n",
    "# Show the first few rows of the DataFrame\n",
    "data.show()"
   ]
  },
  {
   "cell_type": "code",
   "execution_count": 44,
   "id": "cb61133b",
   "metadata": {},
   "outputs": [
    {
     "name": "stdout",
     "output_type": "stream",
     "text": [
      "+--------------------+------+\n",
      "|                type| count|\n",
      "+--------------------+------+\n",
      "|              benign|428103|\n",
      "|          defacement| 96457|\n",
      "|            phishing| 94108|\n",
      "|             malware| 32520|\n",
      "|                NULL|    15|\n",
      "|                \u0015Ð\u001a\u001f|     1|\n",
      "|\u0010\u0011PhµW\u0011\\v;XyOy...|     1|\n",
      "|cÔ",
      "¡æ>1\\bHÇÕ\u001bd...|     1|\n",
      "|                spam| 12000|\n",
      "+--------------------+------+\n",
      "\n"
     ]
    }
   ],
   "source": [
    "data.groupBy(\"type\").count().show()"
   ]
  },
  {
   "cell_type": "markdown",
   "id": "8752caab",
   "metadata": {},
   "source": [
    "## Data pre-processing"
   ]
  },
  {
   "cell_type": "code",
   "execution_count": 45,
   "id": "72d65a72",
   "metadata": {},
   "outputs": [
    {
     "name": "stdout",
     "output_type": "stream",
     "text": [
      "+--------------------+------+\n",
      "|                type| count|\n",
      "+--------------------+------+\n",
      "|                spam| 11921|\n",
      "|              benign|428080|\n",
      "|          defacement| 95308|\n",
      "|            phishing| 94083|\n",
      "|             malware| 23645|\n",
      "|                \u0015Ð\u001a\u001f|     1|\n",
      "|\u0010\u0011PhµW\u0011\\v;XyOy...|     1|\n",
      "|cÔ",
      "¡æ>1\\bHÇÕ\u001bd...|     1|\n",
      "+--------------------+------+\n",
      "\n"
     ]
    }
   ],
   "source": [
    "data = data.dropDuplicates([\"url\"])\n",
    "data = data.na.drop()\n",
    "\n",
    "data.groupBy(\"type\").count().show()"
   ]
  },
  {
   "cell_type": "code",
   "execution_count": 46,
   "id": "b8abcc25",
   "metadata": {},
   "outputs": [
    {
     "name": "stdout",
     "output_type": "stream",
     "text": [
      "+----------+------+\n",
      "|      type| count|\n",
      "+----------+------+\n",
      "|      spam| 11921|\n",
      "|    benign|428080|\n",
      "|defacement| 95308|\n",
      "|  phishing| 94083|\n",
      "|   malware| 23645|\n",
      "+----------+------+\n",
      "\n"
     ]
    }
   ],
   "source": [
    "data = data.filter(col(\"type\").rlike(r'^[ -~]+$'))\n",
    "data.groupBy(\"type\").count().show()"
   ]
  },
  {
   "cell_type": "code",
   "execution_count": 47,
   "id": "c884c8b8",
   "metadata": {},
   "outputs": [],
   "source": [
    "# convert spark dataframe to pandas dataframe\n",
    "pd_data = data.toPandas()"
   ]
  },
  {
   "cell_type": "code",
   "execution_count": 48,
   "id": "cabe40b5",
   "metadata": {},
   "outputs": [
    {
     "data": {
      "image/png": "[encoded data removed]",
      "text/plain": [
       "<Figure size 1296x576 with 1 Axes>"
      ]
     },
     "metadata": {
      "needs_background": "light"
     },
     "output_type": "display_data"
    }
   ],
   "source": [
    "count = pd_data.type.value_counts()\n",
    "bar_labels = [count.index[i].capitalize()+' (n. ' + str(count[i]) + ')' for i in range(len(count.index))]\n",
    "bars = plt.bar(count.index, height=count, label=bar_labels, color=['#8fce00', '#0092ff', '#ff8200', '#ff1100', '#ffcd34'])\n",
    "\n",
    "for rect in bars:\n",
    "    height = rect.get_height()\n",
    "    plt.text(rect.get_x() + rect.get_width() / 2.0, height, f'{height:.0f} ({height/len(pd_data)*100:.2f}%)', ha='center', va='bottom')\n",
    "\n",
    "plt.xlabel('LABELS', labelpad=20)\n",
    "plt.ylabel('COUNT', labelpad=20)\n",
    "plt.title('EXPLORING DATASET')\n",
    "plt.show()"
   ]
  },
  {
   "cell_type": "code",
   "execution_count": 49,
   "id": "b4840e8f",
   "metadata": {},
   "outputs": [
    {
     "name": "stdout",
     "output_type": "stream",
     "text": [
      "+--------------------+--------+--------+\n",
      "|                 url|    type|url_type|\n",
      "+--------------------+--------+--------+\n",
      "|   \u0010H\\vÖË\u001c",
      "]\u001ft¹[ÈöýE|phishing|       1|\n",
      "|\u0013^o\u0014ð]Â|¬|hõElò...|phishing|       1|\n",
      "|\"½\u0013<+U\u001f\u0012½¹1\\f[...|phishing|       1|\n",
      "|\"äÕ3ñºT-\\f\u0011TÖGÑîÊ...|phishing|       1|\n",
      "|\"ë\u0003Ël×uÏB'JI¨GÙn\"...|phishing|       1|\n",
      "|'118bm.com/images...|  benign|       0|\n",
      "|'1pcables-inox.co...|  benign|       0|\n",
      "|'9d345009-a-62cb3...|  benign|       0|\n",
      "|'9d345009-a-62cb3...|  benign|       0|\n",
      "|'9d345009-a-62cb3...|  benign|       0|\n",
      "|'9d345009-a-62cb3...|  benign|       0|\n",
      "|'9d345009-a-62cb3...|  benign|       0|\n",
      "|'9d345009-a-62cb3...|  benign|       0|\n",
      "|'9d345009-a-62cb3...|  benign|       0|\n",
      "|'9d345009-a-62cb3...|  benign|       0|\n",
      "|'9d345009-a-62cb3...|  benign|       0|\n",
      "|'9d345009-a-62cb3...|  benign|       0|\n",
      "|'9d345009-a-62cb3...|  benign|       0|\n",
      "|'9d345009-a-62cb3...|  benign|       0|\n",
      "|'9d345009-a-62cb3...|  benign|       0|\n",
      "+--------------------+--------+--------+\n",
      "only showing top 20 rows\n",
      "\n"
     ]
    }
   ],
   "source": [
    "data = data.withColumn(\"url_type\", when(data[\"type\"].contains(\"benign\"), 0).otherwise(1))\n",
    "#data = data.drop(\"type\")\n",
    "data.show()"
   ]
  },
  {
   "cell_type": "code",
   "execution_count": 50,
   "id": "6631acee",
   "metadata": {},
   "outputs": [
    {
     "name": "stdout",
     "output_type": "stream",
     "text": [
      "+--------------------+------+--------+\n",
      "|                 url|  type|url_type|\n",
      "+--------------------+------+--------+\n",
      "|'118bm.com/images...|benign|       0|\n",
      "|'1pcables-inox.co...|benign|       0|\n",
      "|'9d345009-a-62cb3...|benign|       0|\n",
      "|'9d345009-a-62cb3...|benign|       0|\n",
      "|'9d345009-a-62cb3...|benign|       0|\n",
      "|'9d345009-a-62cb3...|benign|       0|\n",
      "|'9d345009-a-62cb3...|benign|       0|\n",
      "|'9d345009-a-62cb3...|benign|       0|\n",
      "|'9d345009-a-62cb3...|benign|       0|\n",
      "|'9d345009-a-62cb3...|benign|       0|\n",
      "|'9d345009-a-62cb3...|benign|       0|\n",
      "|'9d345009-a-62cb3...|benign|       0|\n",
      "|'9d345009-a-62cb3...|benign|       0|\n",
      "|'9d345009-a-62cb3...|benign|       0|\n",
      "|'9d345009-a-62cb3...|benign|       0|\n",
      "|'9d345009-a-62cb3...|benign|       0|\n",
      "|'9d345009-a-62cb3...|benign|       0|\n",
      "|'9d345009-a-62cb3...|benign|       0|\n",
      "|'9d345009-a-62cb3...|benign|       0|\n",
      "|'9d345009-a-62cb3...|benign|       0|\n",
      "+--------------------+------+--------+\n",
      "only showing top 20 rows\n",
      "\n"
     ]
    }
   ],
   "source": [
    "data = data.filter(col(\"url\").rlike(r'^[ -~]+$'))\n",
    "data.show()"
   ]
  },
  {
   "cell_type": "code",
   "execution_count": 51,
   "id": "89ccec7e",
   "metadata": {},
   "outputs": [
    {
     "name": "stdout",
     "output_type": "stream",
     "text": [
      "+--------+------+\n",
      "|url_type| count|\n",
      "+--------+------+\n",
      "|       1|224323|\n",
      "|       0|427801|\n",
      "+--------+------+\n",
      "\n"
     ]
    }
   ],
   "source": [
    "data.groupBy(\"url_type\").count().show()"
   ]
  },
  {
   "cell_type": "code",
   "execution_count": 52,
   "id": "a6922220",
   "metadata": {},
   "outputs": [
    {
     "data": {
      "image/png": "[encoded data removed]",
      "text/plain": [
       "<Figure size 1296x576 with 1 Axes>"
      ]
     },
     "metadata": {
      "needs_background": "light"
     },
     "output_type": "display_data"
    }
   ],
   "source": [
    "pd_data = data.toPandas()\n",
    "count = pd_data.type.value_counts()\n",
    "\n",
    "benign = count[0]\n",
    "malicious = len(pd_data) - benign\n",
    "bar_labels = ['Benign (n.'+str(benign)+')', 'Malicious (n.'+str(malicious)+')']\n",
    "bars = plt.bar(['benign', 'malicious'], height=[benign, malicious], label=bar_labels, color=['#8fce00', '#ff1100'])\n",
    "\n",
    "for rect in bars:\n",
    "    height = rect.get_height()\n",
    "    plt.text(rect.get_x() + rect.get_width() / 2.0, height, f'{height:.0f} ({height/len(pd_data)*100:.2f}%)', ha='center', va='bottom')\n",
    "\n",
    "plt.xlabel('CLASSES', labelpad=20)\n",
    "plt.ylabel('COUNT', labelpad=20)\n",
    "plt.title('EXPLORING DATASET')\n",
    "plt.show()"
   ]
  },
  {
   "cell_type": "code",
   "execution_count": 53,
   "id": "d5f838e4",
   "metadata": {},
   "outputs": [
    {
     "name": "stdout",
     "output_type": "stream",
     "text": [
      "+--------+------+\n",
      "|url_type| count|\n",
      "+--------+------+\n",
      "|       1|100473|\n",
      "|       0|100153|\n",
      "+--------+------+\n",
      "\n"
     ]
    }
   ],
   "source": [
    "sample_size = 100000\n",
    "\n",
    "data = data.sampleBy(\"url_type\", fractions={0 : sample_size/data.filter(col(\"url_type\") == 0).count(),\n",
    "                                               1 : sample_size/data.filter(col(\"url_type\") == 1).count()}, seed=42)\n",
    "data.groupBy(\"url_type\").count().show()"
   ]
  },
  {
   "cell_type": "code",
   "execution_count": 54,
   "id": "e5c0b8c6",
   "metadata": {},
   "outputs": [
    {
     "data": {
      "image/png": "[encoded data removed]",
      "text/plain": [
       "<Figure size 1296x576 with 1 Axes>"
      ]
     },
     "metadata": {
      "needs_background": "light"
     },
     "output_type": "display_data"
    }
   ],
   "source": [
    "pd_data = data.toPandas()\n",
    "count = pd_data.type.value_counts()\n",
    "\n",
    "benign = count[0]\n",
    "malicious = len(pd_data) - benign\n",
    "bar_labels = ['Benign (n.'+str(benign)+')', 'Malicious (n.'+str(malicious)+')']\n",
    "bars = plt.bar(['benign', 'malicious'], height=[benign, malicious], label=bar_labels, color=['#8fce00', '#ff1100'])\n",
    "\n",
    "for rect in bars:\n",
    "    height = rect.get_height()\n",
    "    plt.text(rect.get_x() + rect.get_width() / 2.0, height, f'{height:.0f} ({height/len(pd_data)*100:.2f}%)', ha='center', va='bottom')\n",
    "\n",
    "plt.xlabel('CLASSES', labelpad=20)\n",
    "plt.ylabel('COUNT', labelpad=20)\n",
    "plt.title('EXPLORING DATASET')\n",
    "plt.show()"
   ]
  },
  {
   "cell_type": "markdown",
   "id": "a4d99970",
   "metadata": {},
   "source": [
    "## Features engineering"
   ]
  },
  {
   "cell_type": "code",
   "execution_count": 55,
   "id": "64b63701",
   "metadata": {},
   "outputs": [],
   "source": [
    "data = data.withColumn(\"url_length\", length(\"url\"))\n",
    "data = data.withColumn(\"digit_count\", length(regexp_replace(col(\"url\"), \"[^0-9]\", \"\")))\n",
    "data = data.withColumn(\"ampersand_count\", length(regexp_replace(col(\"url\"), \"[^&]\", \"\")))\n",
    "data = data.withColumn(\"underscore_count\", length(regexp_replace(col(\"url\"), \"[^_]\", \"\")))\n",
    "data = data.withColumn(\"dot_count\", length(regexp_replace(col(\"url\"), \"[^.]\", \"\")))\n",
    "data = data.withColumn(\"percent_count\", length(regexp_replace(col(\"url\"), \"[^%]\", \"\")))\n",
    "data = data.withColumn(\"at_count\", length(regexp_replace(col(\"url\"), \"[^@]\", \"\")))\n",
    "data = data.withColumn(\"tilde_count\", length(regexp_replace(col(\"url\"), \"[^~]\", \"\")))\n",
    "data = data.withColumn(\"hash_count\", length(regexp_replace(col(\"url\"), \"[^#]\", \"\")))\n",
    "data = data.withColumn(\"has_https\", when(data[\"url\"].startswith(\"https\"), 1).otherwise(0))\n",
    "data = data.withColumn(\"has_http\", when(data[\"url\"].startswith(\"http\"), 1).otherwise(0))\n",
    "data = data.withColumn(\"starts_with_digit\", when(data[\"url\"].rlike(\"^[0-9]\"), 1).otherwise(0))"
   ]
  },
  {
   "cell_type": "code",
   "execution_count": 56,
   "id": "3c4c485c",
   "metadata": {},
   "outputs": [
    {
     "name": "stdout",
     "output_type": "stream",
     "text": [
      "+--------------------+------+--------+----------+-----------+---------------+----------------+---------+-------------+--------+-----------+----------+---------+--------+-----------------+\n",
      "|                 url|  type|url_type|url_length|digit_count|ampersand_count|underscore_count|dot_count|percent_count|at_count|tilde_count|hash_count|has_https|has_http|starts_with_digit|\n",
      "+--------------------+------+--------+----------+-----------+---------------+----------------+---------+-------------+--------+-----------+----------+---------+--------+-----------------+\n",
      "|'9d345009-a-62cb3...|benign|       0|       363|         46|              2|               1|        3|            3|       0|          0|         0|        0|       0|                0|\n",
      "|'9d345009-a-62cb3...|benign|       0|       371|         51|              2|               6|        3|            3|       0|          0|         0|        0|       0|                0|\n",
      "|'9d345009-a-62cb3...|benign|       0|       371|         50|              2|               2|        3|            3|       0|          0|         0|        0|       0|                0|\n",
      "|'9d345009-a-62cb3...|benign|       0|       371|         55|              2|               5|        3|            3|       0|          0|         0|        0|       0|                0|\n",
      "|'9d345009-a-62cb3...|benign|       0|       371|         44|              2|               1|        3|            3|       0|          0|         0|        0|       0|                0|\n",
      "|'9d345009-a-62cb3...|benign|       0|       371|         54|              2|               1|        3|            3|       0|          0|         0|        0|       0|                0|\n",
      "|'9d345009-a-62cb3...|benign|       0|       371|         46|              2|               5|        3|            3|       0|          0|         0|        0|       0|                0|\n",
      "|'9d345009-a-62cb3...|benign|       0|       371|         56|              2|               4|        3|            3|       0|          0|         0|        0|       0|                0|\n",
      "|'9d345009-a-62cb3...|benign|       0|       371|         54|              2|               3|        3|            3|       0|          0|         0|        0|       0|                0|\n",
      "|'9d345009-a-62cb3...|benign|       0|       371|         51|              2|               2|        3|            3|       0|          0|         0|        0|       0|                0|\n",
      "|'9d345009-a-62cb3...|benign|       0|       371|         36|              2|               4|        3|            3|       0|          0|         0|        0|       0|                0|\n",
      "|'9d345009-a-62cb3...|benign|       0|       371|         53|              2|               1|        3|            3|       0|          0|         0|        0|       0|                0|\n",
      "|'9d345009-a-62cb3...|benign|       0|       371|         50|              2|               5|        3|            3|       0|          0|         0|        0|       0|                0|\n",
      "|'9d345009-a-62cb3...|benign|       0|       371|         57|              2|               1|        3|            3|       0|          0|         0|        0|       0|                0|\n",
      "|'9d345009-a-62cb3...|benign|       0|       371|         44|              2|               7|        3|            3|       0|          0|         0|        0|       0|                0|\n",
      "|'9d345009-a-62cb3...|benign|       0|       371|         50|              2|               1|        3|            3|       0|          0|         0|        0|       0|                0|\n",
      "|'9d345009-a-62cb3...|benign|       0|       371|         50|              2|               5|        3|            3|       0|          0|         0|        0|       0|                0|\n",
      "|'9d345009-a-62cb3...|benign|       0|       371|         44|              2|               3|        3|            3|       0|          0|         0|        0|       0|                0|\n",
      "|'9d345009-a-62cb3...|benign|       0|       371|         56|              2|               3|        3|            3|       0|          0|         0|        0|       0|                0|\n",
      "|'9d345009-a-62cb3...|benign|       0|       363|         49|              2|               4|        3|            3|       0|          0|         0|        0|       0|                0|\n",
      "+--------------------+------+--------+----------+-----------+---------------+----------------+---------+-------------+--------+-----------+----------+---------+--------+-----------------+\n",
      "only showing top 20 rows\n",
      "\n"
     ]
    }
   ],
   "source": [
    "data.show()"
   ]
  },
  {
   "cell_type": "markdown",
   "id": "96e57718",
   "metadata": {},
   "source": [
    "### Features selection"
   ]
  },
  {
   "cell_type": "code",
   "execution_count": 57,
   "id": "c9c12b7a",
   "metadata": {},
   "outputs": [
    {
     "data": {
      "text/plain": [
       "['url',\n",
       " 'url_type',\n",
       " 'url_length',\n",
       " 'digit_count',\n",
       " 'ampersand_count',\n",
       " 'underscore_count',\n",
       " 'dot_count',\n",
       " 'percent_count',\n",
       " 'at_count',\n",
       " 'tilde_count',\n",
       " 'hash_count',\n",
       " 'has_https',\n",
       " 'has_http',\n",
       " 'starts_with_digit']"
      ]
     },
     "execution_count": 57,
     "metadata": {},
     "output_type": "execute_result"
    }
   ],
   "source": [
    "data = data.drop(\"type\")\n",
    "data.columns"
   ]
  },
  {
   "cell_type": "code",
   "execution_count": 58,
   "id": "924cfdd1",
   "metadata": {},
   "outputs": [
    {
     "data": {
      "text/plain": [
       "12"
      ]
     },
     "execution_count": 58,
     "metadata": {},
     "output_type": "execute_result"
    }
   ],
   "source": [
    "feature_columns = [\n",
    "    \"url_length\",\n",
    "    \"digit_count\",\n",
    "    \"ampersand_count\",\n",
    "    \"underscore_count\",\n",
    "    \"dot_count\",\n",
    "    \"percent_count\",\n",
    "    \"at_count\",\n",
    "    \"tilde_count\",\n",
    "    \"hash_count\",\n",
    "    \"has_https\",\n",
    "    \"has_http\",\n",
    "    \"starts_with_digit\"\n",
    "]\n",
    "len(feature_columns)"
   ]
  },
  {
   "cell_type": "code",
   "execution_count": 59,
   "id": "b37962bc",
   "metadata": {},
   "outputs": [
    {
     "data": {
      "image/png": "[encoded data removed]",
      "text/plain": [
       "<Figure size 1296x1512 with 3 Axes>"
      ]
     },
     "metadata": {
      "needs_background": "light"
     },
     "output_type": "display_data"
    }
   ],
   "source": [
    "pd_data = data.toPandas()\n",
    "\n",
    "safe = pd_data[pd_data['url_type'] == 0]\n",
    "unsafe = pd_data[pd_data['url_type'] == 1]\n",
    "\n",
    "\n",
    "labels_x1 = [\"url_length\", \"digit_count\", \"ampersand_count\", \"underscore_count\"]\n",
    "labels_x2 = [\"dot_count\", \"percent_count\", \"at_count\", \"tilde_count\"]\n",
    "labels_x3 = [\"hash_count\", \"has_https\", \"has_http\", \"starts_with_digit\"]\n",
    "\n",
    "features_to_plot1 = {'Safe': [], 'Unsafe': []}\n",
    "features_to_plot2 = {'Safe': [], 'Unsafe': []}\n",
    "features_to_plot3 = {'Safe': [], 'Unsafe': []}\n",
    "\n",
    "for i in labels_x1:\n",
    "    features_to_plot1['Safe'].append(safe.loc[:, i].mean())\n",
    "    features_to_plot1['Unsafe'].append(unsafe.loc[:, i].mean())\n",
    "\n",
    "for i in labels_x2:\n",
    "    features_to_plot2['Safe'].append(safe.loc[:, i].mean())\n",
    "    features_to_plot2['Unsafe'].append(unsafe.loc[:, i].mean())\n",
    "\n",
    "for i in labels_x3:\n",
    "    features_to_plot3['Safe'].append(safe.loc[:, i].sum())\n",
    "    features_to_plot3['Unsafe'].append(unsafe.loc[:, i].sum())\n",
    "\n",
    "x1 = np.arange(len(labels_x1))  # the label locations\n",
    "x2 = np.arange(len(labels_x2))  # the label locations\n",
    "x3 = np.arange(len(labels_x3))  # the label locations\n",
    "width = 0.25  # the width of the bars\n",
    "multiplier = 0\n",
    "\n",
    "fig, ((ax1), (ax2), (ax3)) = plt.subplots(3, 1, figsize=(18, 21))\n",
    "\n",
    "for attribute, measurement in features_to_plot1.items():\n",
    "    offset = width * multiplier\n",
    "    rects = ax1.bar(x1 + offset, [round(i,3) for i in measurement], width, label = attribute, color = ['#8fce00' if attribute == 'Safe' else '#ff1100'])\n",
    "    ax1.bar_label(rects, padding = 3)\n",
    "    multiplier += 1\n",
    "ax1.set_ylabel('Mean values')\n",
    "ax1.set_title('Numerical features')\n",
    "ax1.set_xticks(x1 + (width/2), labels_x1)\n",
    "ax1.legend(loc = 'upper right', ncol = 2)\n",
    "\n",
    "for attribute, measurement in features_to_plot2.items():\n",
    "    offset = width * multiplier\n",
    "    rects = ax2.bar(x2 + offset, [round(i,3) for i in measurement], width, label = attribute, color = ['#8fce00' if attribute == 'Safe' else '#ff1100'])\n",
    "    ax2.bar_label(rects, padding = 3)\n",
    "    multiplier += 1\n",
    "ax2.set_ylabel('Mean values')\n",
    "ax2.set_title('Numerical features')\n",
    "ax2.set_xticks(x2 + (width*2.5), labels_x2)\n",
    "ax2.legend(loc = 'upper right', ncol = 2)\n",
    "\n",
    "for attribute, measurement in features_to_plot3.items():\n",
    "    offset = width * multiplier\n",
    "    rects = ax3.bar(x3 + offset, [round(i,3) for i in measurement], width, label = attribute, color = ['#8fce00' if attribute == 'Safe' else '#ff1100'])\n",
    "    ax3.bar_label(rects, padding = 3)\n",
    "    multiplier += 1\n",
    "ax3.set_ylabel('Number of True values')\n",
    "ax3.set_title('Boolean features')\n",
    "ax3.set_xticks(x3 + (width*4.5), labels_x3)\n",
    "ax3.legend(loc = 'upper right', ncol = 2)\n",
    "\n",
    "plt.tight_layout()\n",
    "plt.show()"
   ]
  },
  {
   "cell_type": "code",
   "execution_count": 60,
   "id": "47c7b18f",
   "metadata": {},
   "outputs": [],
   "source": [
    "assembler = VectorAssembler(inputCols=feature_columns, outputCol=\"features_vector\")\n",
    "data = assembler.transform(data)"
   ]
  },
  {
   "cell_type": "code",
   "execution_count": 61,
   "id": "9881a72a",
   "metadata": {},
   "outputs": [
    {
     "name": "stdout",
     "output_type": "stream",
     "text": [
      "+-----------------------------------------------+\n",
      "|features_vector                                |\n",
      "+-----------------------------------------------+\n",
      "|(12,[0,1,2,3,4,5],[363.0,46.0,2.0,1.0,3.0,3.0])|\n",
      "|(12,[0,1,2,3,4,5],[371.0,51.0,2.0,6.0,3.0,3.0])|\n",
      "|(12,[0,1,2,3,4,5],[371.0,50.0,2.0,2.0,3.0,3.0])|\n",
      "|(12,[0,1,2,3,4,5],[371.0,55.0,2.0,5.0,3.0,3.0])|\n",
      "|(12,[0,1,2,3,4,5],[371.0,44.0,2.0,1.0,3.0,3.0])|\n",
      "|(12,[0,1,2,3,4,5],[371.0,54.0,2.0,1.0,3.0,3.0])|\n",
      "|(12,[0,1,2,3,4,5],[371.0,46.0,2.0,5.0,3.0,3.0])|\n",
      "|(12,[0,1,2,3,4,5],[371.0,56.0,2.0,4.0,3.0,3.0])|\n",
      "|(12,[0,1,2,3,4,5],[371.0,54.0,2.0,3.0,3.0,3.0])|\n",
      "|(12,[0,1,2,3,4,5],[371.0,51.0,2.0,2.0,3.0,3.0])|\n",
      "|(12,[0,1,2,3,4,5],[371.0,36.0,2.0,4.0,3.0,3.0])|\n",
      "|(12,[0,1,2,3,4,5],[371.0,53.0,2.0,1.0,3.0,3.0])|\n",
      "|(12,[0,1,2,3,4,5],[371.0,50.0,2.0,5.0,3.0,3.0])|\n",
      "|(12,[0,1,2,3,4,5],[371.0,57.0,2.0,1.0,3.0,3.0])|\n",
      "|(12,[0,1,2,3,4,5],[371.0,44.0,2.0,7.0,3.0,3.0])|\n",
      "|(12,[0,1,2,3,4,5],[371.0,50.0,2.0,1.0,3.0,3.0])|\n",
      "|(12,[0,1,2,3,4,5],[371.0,50.0,2.0,5.0,3.0,3.0])|\n",
      "|(12,[0,1,2,3,4,5],[371.0,44.0,2.0,3.0,3.0,3.0])|\n",
      "|(12,[0,1,2,3,4,5],[371.0,56.0,2.0,3.0,3.0,3.0])|\n",
      "|(12,[0,1,2,3,4,5],[363.0,49.0,2.0,4.0,3.0,3.0])|\n",
      "+-----------------------------------------------+\n",
      "only showing top 20 rows\n",
      "\n"
     ]
    }
   ],
   "source": [
    "data.select(\"features_vector\").show(truncate=False)"
   ]
  },
  {
   "cell_type": "markdown",
   "id": "fda69e0a",
   "metadata": {},
   "source": [
    "#### Min-Max scaling"
   ]
  },
  {
   "cell_type": "code",
   "execution_count": 62,
   "id": "d31def71",
   "metadata": {},
   "outputs": [],
   "source": [
    "# Creazione di un oggetto MinMaxScaler\n",
    "min_max_scaler = MinMaxScaler(inputCol=\"features_vector\", outputCol=\"scaled_features\")\n",
    "\n",
    "# Creazione di un oggetto Pipeline\n",
    "min_max_pipeline = Pipeline(stages=[min_max_scaler])\n",
    "\n",
    "# Addestramento del modello e trasformazione del DataFrame\n",
    "min_max_model = min_max_pipeline.fit(data)\n",
    "data = min_max_model.transform(data)"
   ]
  },
  {
   "cell_type": "code",
   "execution_count": 63,
   "id": "3062ee27",
   "metadata": {},
   "outputs": [
    {
     "name": "stdout",
     "output_type": "stream",
     "text": [
      "+--------------------+\n",
      "|     scaled_features|\n",
      "+--------------------+\n",
      "|(12,[0,1,2,3,4,5]...|\n",
      "|(12,[0,1,2,3,4,5]...|\n",
      "|(12,[0,1,2,3,4,5]...|\n",
      "|(12,[0,1,2,3,4,5]...|\n",
      "|(12,[0,1,2,3,4,5]...|\n",
      "|(12,[0,1,2,3,4,5]...|\n",
      "|(12,[0,1,2,3,4,5]...|\n",
      "|(12,[0,1,2,3,4,5]...|\n",
      "|(12,[0,1,2,3,4,5]...|\n",
      "|(12,[0,1,2,3,4,5]...|\n",
      "+--------------------+\n",
      "only showing top 10 rows\n",
      "\n"
     ]
    }
   ],
   "source": [
    "data.select(\"scaled_features\").show(10)"
   ]
  },
  {
   "cell_type": "markdown",
   "id": "1cd095a2",
   "metadata": {},
   "source": [
    "#### Principal Component Analysis - PCA"
   ]
  },
  {
   "cell_type": "code",
   "execution_count": 64,
   "id": "ff7c73e4",
   "metadata": {},
   "outputs": [],
   "source": [
    "pca = PCA(k=5, inputCol=\"scaled_features\", outputCol=\"pca_features\")\n",
    "pca_model = pca.fit(data)"
   ]
  },
  {
   "cell_type": "code",
   "execution_count": 65,
   "id": "c5a1cde7",
   "metadata": {},
   "outputs": [],
   "source": [
    "data = pca_model.transform(data)"
   ]
  },
  {
   "cell_type": "code",
   "execution_count": 66,
   "id": "c210e829",
   "metadata": {},
   "outputs": [
    {
     "name": "stdout",
     "output_type": "stream",
     "text": [
      "+--------------------------------------------------------------------------------------------------------------+\n",
      "|pca_features                                                                                                  |\n",
      "+--------------------------------------------------------------------------------------------------------------+\n",
      "|[-0.0067109174354255535,-0.00316804819082955,-3.7478004956300427E-4,0.17559904279058972,-0.018358191045913963]|\n",
      "|[-0.0072790567370971,-0.003970869526189762,-6.09243787391657E-4,0.23742075019371547,-0.0999988020714439]      |\n",
      "|[-0.006921506686156236,-0.0033462049580184495,-4.1246585543996955E-4,0.19057798885656393,-0.03518672341220894]|\n",
      "|[-0.007214088748729602,-0.0038002213476157187,-5.466494164500249E-4,0.22661826457071022,-0.08385439957954649] |\n",
      "|[-0.006799080993394107,-0.0032096321595178542,-3.8140063262471444E-4,0.1776385509717172,-0.018904398160520156]|\n",
      "|[-0.006856538697788737,-0.0031755567794444052,-3.4987148449833747E-4,0.17977550323355868,-0.01904232092031155]|\n",
      "|[-0.007162376814774434,-0.0038308891896818233,-5.750256497637641E-4,0.2246950075350529,-0.08373026909573425]  |\n",
      "|[-0.007131883449043715,-0.0036397957830637093,-4.935137899463059E-4,0.2151746932691525,-0.06766862025971168]  |\n",
      "|[-0.007032440838039438,-0.0034895928325337344,-4.498369078805E-4,0.20309003628904237,-0.05144146411193945]    |\n",
      "|[-0.0069272524565957,-0.0033427974200111042,-4.0931294062733183E-4,0.19079168408274808,-0.03520051568818808]  |\n",
      "|[-0.0070169680402544544,-0.003707946543210608,-5.565720861990598E-4,0.21090078874546958,-0.06739277474012889] |\n",
      "|[-0.006850792927349274,-0.00317896431745175,-3.530243993109752E-4,0.17956180800737453,-0.01902852864433241]   |\n",
      "|[-0.0071853598965322864,-0.0038172590376524436,-5.624139905132133E-4,0.22554978843978948,-0.08378543819965079]|\n",
      "|[-0.006873776009107126,-0.0031653341654223704,-3.404127400604244E-4,0.1804165889121111,-0.019083697748248973] |\n",
      "|[-0.00732678741414621,-0.004151740318785842,-6.81296902771202E-4,0.2475821501381683,-0.11610182773540387]     |\n",
      "|[-0.006833555616030885,-0.003189186931473785,-3.6248314374888826E-4,0.17892072232882208,-0.018987151816394987]|\n",
      "|[-0.0071853598965322864,-0.0038172590376524436,-5.624139905132133E-4,0.22554978843978948,-0.08378543819965079]|\n",
      "|[-0.0069749831336448085,-0.0035236682126071834,-4.81366056006877E-4,0.2009530840272009,-0.05130354135214807]  |\n",
      "|[-0.007043932378918365,-0.0034827777565190443,-4.435310782552246E-4,0.20351742674141066,-0.05146904866389773] |\n",
      "|[-0.006992007957119994,-0.003628879656441509,-5.15269440198335E-4,0.21121192805236771,-0.06699828266129323]   |\n",
      "+--------------------------------------------------------------------------------------------------------------+\n",
      "only showing top 20 rows\n",
      "\n"
     ]
    }
   ],
   "source": [
    "data.select(\"pca_features\").show(truncate=False)"
   ]
  },
  {
   "cell_type": "markdown",
   "id": "1e881294",
   "metadata": {},
   "source": [
    "## Classification models"
   ]
  },
  {
   "cell_type": "markdown",
   "id": "dc034965",
   "metadata": {},
   "source": [
    "### Train test split"
   ]
  },
  {
   "cell_type": "code",
   "execution_count": 67,
   "id": "c6f838f8",
   "metadata": {},
   "outputs": [],
   "source": [
    "train, test = data.randomSplit([0.8, 0.2], seed = 2018)"
   ]
  },
  {
   "cell_type": "code",
   "execution_count": 68,
   "id": "d25a05ca",
   "metadata": {},
   "outputs": [],
   "source": [
    "# Funzione per addestrare e valutare un classificatore\n",
    "def train_and_evaluate(classifier, train, test):\n",
    "    print(f\"Training of: {classifier.__class__.__name__}\")\n",
    "\n",
    "    evaluator = MulticlassClassificationEvaluator(labelCol=\"url_type\", predictionCol=\"prediction\", metricName=\"accuracy\")\n",
    "\n",
    "    pipeline = Pipeline(stages=[classifier])\n",
    "\n",
    "    model = pipeline.fit(train)\n",
    "    predictions = model.transform(test)\n",
    "\n",
    "    accuracy = round(evaluator.evaluate(predictions), 3)\n",
    "\n",
    "    evaluator.setMetricName(\"weightedPrecision\")\n",
    "    precision = round(evaluator.evaluate(predictions), 3)\n",
    "\n",
    "    evaluator.setMetricName(\"weightedRecall\")\n",
    "    recall = round(evaluator.evaluate(predictions), 3)\n",
    "\n",
    "    result = {\n",
    "        \"model\": model,\n",
    "        \"accuracy\": accuracy,\n",
    "        \"precision\": precision,\n",
    "        \"recall\": recall\n",
    "    }\n",
    "\n",
    "    # Stampa le metriche del modello\n",
    "    print(f\"Accuracy of {classifier.__class__.__name__}: {accuracy}\")\n",
    "    print(f\"Precision of {classifier.__class__.__name__}: {precision}\")\n",
    "    print(f\"Recall of {classifier.__class__.__name__}: {recall}\\n\")\n",
    "\n",
    "    return classifier.__class__.__name__, result"
   ]
  },
  {
   "cell_type": "markdown",
   "id": "17618351",
   "metadata": {},
   "source": [
    "### Models trained using scaled features"
   ]
  },
  {
   "cell_type": "code",
   "execution_count": 69,
   "id": "573efd44",
   "metadata": {},
   "outputs": [],
   "source": [
    "base_classifiers = [\n",
    "    RandomForestClassifier(featuresCol='scaled_features', labelCol='url_type'),\n",
    "    LogisticRegression(featuresCol='scaled_features', labelCol='url_type'),\n",
    "    LinearSVC(featuresCol='scaled_features', labelCol='url_type'),\n",
    "    GBTClassifier(featuresCol='scaled_features', labelCol='url_type')\n",
    "]\n",
    "\n",
    "base_classifiers_results = {}"
   ]
  },
  {
   "cell_type": "code",
   "execution_count": 70,
   "id": "46877b24",
   "metadata": {},
   "outputs": [
    {
     "name": "stdout",
     "output_type": "stream",
     "text": [
      "Training of: RandomForestClassifier\n",
      "Training of: LogisticRegression\n",
      "Training of: LinearSVC\n",
      "Training of: GBTClassifier\n",
      "Accuracy of LogisticRegression: 0.796\n",
      "Precision of LogisticRegression: 0.81\n",
      "Recall of LogisticRegression: 0.796\n",
      "\n",
      "Accuracy of RandomForestClassifier: 0.841\n",
      "Precision of RandomForestClassifier: 0.852\n",
      "Recall of RandomForestClassifier: 0.841\n",
      "\n",
      "Accuracy of GBTClassifier: 0.865\n",
      "Precision of GBTClassifier: 0.867\n",
      "Recall of GBTClassifier: 0.865\n",
      "\n",
      "Accuracy of LinearSVC: 0.808\n",
      "Precision of LinearSVC: 0.823\n",
      "Recall of LinearSVC: 0.808\n",
      "\n"
     ]
    }
   ],
   "source": [
    "with ThreadPoolExecutor() as executor:\n",
    "    base_classifiers_results = dict(executor.map(lambda clf: train_and_evaluate(clf, train, test), base_classifiers))"
   ]
  },
  {
   "cell_type": "code",
   "execution_count": 71,
   "id": "be30d412",
   "metadata": {},
   "outputs": [
    {
     "data": {
      "text/plain": [
       "{'RandomForestClassifier': {'model': PipelineModel_c449dde0f908,\n",
       "  'accuracy': 0.841,\n",
       "  'precision': 0.852,\n",
       "  'recall': 0.841},\n",
       " 'LogisticRegression': {'model': PipelineModel_3047f97ee663,\n",
       "  'accuracy': 0.796,\n",
       "  'precision': 0.81,\n",
       "  'recall': 0.796},\n",
       " 'LinearSVC': {'model': PipelineModel_9b38b2810a00,\n",
       "  'accuracy': 0.808,\n",
       "  'precision': 0.823,\n",
       "  'recall': 0.808},\n",
       " 'GBTClassifier': {'model': PipelineModel_1d56ec4bdc5f,\n",
       "  'accuracy': 0.865,\n",
       "  'precision': 0.867,\n",
       "  'recall': 0.865}}"
      ]
     },
     "execution_count": 71,
     "metadata": {},
     "output_type": "execute_result"
    }
   ],
   "source": [
    "base_classifiers_results"
   ]
  },
  {
   "cell_type": "markdown",
   "id": "e4a3dba2",
   "metadata": {},
   "source": [
    "### Models trained using PCA features"
   ]
  },
  {
   "cell_type": "code",
   "execution_count": 72,
   "id": "7dc52b6c",
   "metadata": {},
   "outputs": [],
   "source": [
    "pca_classifiers = [\n",
    "    RandomForestClassifier(featuresCol='pca_features', labelCol='url_type'),\n",
    "    LogisticRegression(featuresCol='pca_features', labelCol='url_type'),\n",
    "    LinearSVC(featuresCol='pca_features', labelCol='url_type'),\n",
    "    GBTClassifier(featuresCol='pca_features', labelCol='url_type')\n",
    "]\n",
    "\n",
    "pca_classifiers_results = {}"
   ]
  },
  {
   "cell_type": "code",
   "execution_count": 73,
   "id": "6174198f",
   "metadata": {},
   "outputs": [
    {
     "name": "stdout",
     "output_type": "stream",
     "text": [
      "Training of: RandomForestClassifier\n",
      "Training of: LogisticRegression\n",
      "Training of: LinearSVC\n",
      "Training of: GBTClassifier\n",
      "Accuracy of LogisticRegression: 0.793\n",
      "Precision of LogisticRegression: 0.808\n",
      "Recall of LogisticRegression: 0.793\n",
      "\n",
      "Accuracy of RandomForestClassifier: 0.851\n",
      "Precision of RandomForestClassifier: 0.852\n",
      "Recall of RandomForestClassifier: 0.851\n",
      "\n",
      "Accuracy of GBTClassifier: 0.857\n",
      "Precision of GBTClassifier: 0.857\n",
      "Recall of GBTClassifier: 0.857\n",
      "\n",
      "Accuracy of LinearSVC: 0.8\n",
      "Precision of LinearSVC: 0.817\n",
      "Recall of LinearSVC: 0.8\n",
      "\n"
     ]
    }
   ],
   "source": [
    "with ThreadPoolExecutor() as executor:\n",
    "    pca_classifiers_results = dict(executor.map(lambda clf: train_and_evaluate(clf, train, test), pca_classifiers))"
   ]
  },
  {
   "cell_type": "code",
   "execution_count": 74,
   "id": "2cd9b2ef",
   "metadata": {},
   "outputs": [
    {
     "data": {
      "text/plain": [
       "{'RandomForestClassifier': {'model': PipelineModel_2ee15eb297bb,\n",
       "  'accuracy': 0.851,\n",
       "  'precision': 0.852,\n",
       "  'recall': 0.851},\n",
       " 'LogisticRegression': {'model': PipelineModel_f0ae5508193b,\n",
       "  'accuracy': 0.793,\n",
       "  'precision': 0.808,\n",
       "  'recall': 0.793},\n",
       " 'LinearSVC': {'model': PipelineModel_3d805c7e77b4,\n",
       "  'accuracy': 0.8,\n",
       "  'precision': 0.817,\n",
       "  'recall': 0.8},\n",
       " 'GBTClassifier': {'model': PipelineModel_b56ee9597741,\n",
       "  'accuracy': 0.857,\n",
       "  'precision': 0.857,\n",
       "  'recall': 0.857}}"
      ]
     },
     "execution_count": 74,
     "metadata": {},
     "output_type": "execute_result"
    }
   ],
   "source": [
    "pca_classifiers_results"
   ]
  }
 ],
 "metadata": {
  "kernelspec": {
   "display_name": "Python 3 (ipykernel)",
   "language": "python",
   "name": "python3"
  },
  "language_info": {
   "codemirror_mode": {
    "name": "ipython",
    "version": 3
   },
   "file_extension": ".py",
   "mimetype": "text/x-python",
   "name": "python",
   "nbconvert_exporter": "python",
   "pygments_lexer": "ipython3",
   "version": "3.10.4"
  }
 },
 "nbformat": 4,
 "nbformat_minor": 5
}
